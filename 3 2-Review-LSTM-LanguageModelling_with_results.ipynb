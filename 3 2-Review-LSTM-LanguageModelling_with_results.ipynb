{
 "cells": [
  {
   "cell_type": "markdown",
   "metadata": {},
   "source": [
    "<img src=\"https://cf-courses-data.s3.us.cloud-object-storage.appdomain.cloud/IBMDeveloperSkillsNetwork-DL0120EN-SkillsNetwork/images/IDSN-logo.png\" width=\"300\" alt=\"cognitiveclass.ai logo\">\n",
    "\n",
    "<h1 align=\"center\"><font size=\"5\">RECURRENT NETWORKS and LSTM IN DEEP LEARNING</font></h1>\n"
   ]
  },
  {
   "cell_type": "markdown",
   "metadata": {},
   "source": [
    "Estimated time needed: **30** minutes\n"
   ]
  },
  {
   "cell_type": "markdown",
   "metadata": {},
   "source": [
    "<h2>Applying Recurrent Neural Networks/LSTM for Language Modeling</h2>\n",
    "Hello and welcome to this part. In this notebook, we will go over the topic of Language Modelling, and create a Recurrent Neural Network model based on the Long Short-Term Memory unit to train and benchmark on the Penn Treebank dataset. By the end of this notebook, you should be able to understand how TensorFlow builds and executes a RNN model for Language Modelling.\n"
   ]
  },
  {
   "cell_type": "markdown",
   "metadata": {},
   "source": [
    "<h2>The Objective</h2>\n",
    "By now, you should have an understanding of how Recurrent Networks work -- a specialized model to process sequential data by keeping track of the \"state\" or context. In this notebook, we go over a TensorFlow code snippet for creating a model focused on <b>Language Modelling</b> -- a very relevant task that is the cornerstone of many different linguistic problems such as <b>Speech Recognition, Machine Translation and Image Captioning</b>. For this, we will be using the Penn Treebank dataset, which is an often-used dataset for benchmarking Language Modelling models.\n"
   ]
  },
  {
   "cell_type": "markdown",
   "metadata": {},
   "source": [
    "\n",
    "<h2>Table of Contents</h2>\n",
    "<ol>\n",
    "    <li><a href=\"#language_modelling\">What exactly is Language Modelling?</a></li>\n",
    "    <li><a href=\"#treebank_dataset\">The Penn Treebank dataset</a></li>\n",
    "    <li><a href=\"#word_embedding\">Word Embedding</a></li>\n",
    "    <li><a href=\"#building_lstm_model\">Building the LSTM model for Language Modeling</a></li>\n",
    "    <li><a href=\"#ltsm\">LTSM</a></li>\n",
    "</ol>\n",
    "<p></p>\n",
    "</div>\n",
    "<br>\n"
   ]
  },
  {
   "cell_type": "markdown",
   "metadata": {},
   "source": [
    "--------\n"
   ]
  },
  {
   "cell_type": "markdown",
   "metadata": {},
   "source": [
    "<a id=\"language_modelling\"></a>\n",
    "<h2>What exactly is Language Modelling?</h2>\n",
    "Language Modelling, to put it simply, <b>is the task of assigning probabilities to sequences of words</b>. This means that, given a context of one or a sequence of words in the language the model was trained on, the model should provide the next most probable words or sequence of words that follows from the given sequence of words the sentence. Language Modelling is one of the most important tasks in Natural Language Processing.\n",
    "\n",
    "<img src=\"https://ibm.box.com/shared/static/1d1i5gub6wljby2vani2vzxp0xsph702.png\" width=\"1080\">\n",
    "<center><i>Example of a sentence being predicted</i></center>\n",
    "<br><br>\n",
    "In this example, one can see the predictions for the next word of a sentence, given the context \"This is an\". As you can see, this boils down to a sequential data analysis task -- you are given a word or a sequence of words (the input data), and, given the context (the state), you need to find out what is the next word (the prediction). This kind of analysis is very important for language-related tasks such as <b>Speech Recognition, Machine Translation, Image Captioning, Text Correction</b> and many other very relevant problems. \n",
    "\n",
    "<img src=\"https://ibm.box.com/shared/static/az39idf9ipfdpc5ugifpgxnydelhyf3i.png\" width=\"1080\">\n",
    "<center><i>The above example is a schema of an RNN in execution</i></center>\n",
    "<br><br>\n",
    "As the above image shows, Recurrent Network models fit this problem like a glove. Alongside LSTM and its capacity to maintain the model's state for over one thousand time steps, we have all the tools we need to undertake this problem. The goal for this notebook is to create a model that can reach <b>low levels of perplexity</b> on our desired dataset.\n",
    "\n",
    "For Language Modelling problems, <b>perplexity</b> is the way to gauge efficiency. Perplexity is simply a measure of how well a probabilistic model is able to predict its sample. A higher-level way to explain this would be saying that <b>low perplexity means a higher degree of trust in the predictions the model makes</b>. Therefore, the lower perplexity is, the better.\n"
   ]
  },
  {
   "cell_type": "markdown",
   "metadata": {},
   "source": [
    "<a id=\"treebank_dataset\"></a>\n",
    "<h2>The Penn Treebank dataset</h2>\n",
    "Historically, datasets big enough for Natural Language Processing are hard to come by. This is in part due to the necessity of the sentences to be broken down and tagged with a certain degree of correctness -- or else the models trained on it won't be able to be correct at all. This means that we need a <b>large amount of data, annotated by or at least corrected by humans</b>. This is, of course, not an easy task at all.\n",
    "\n",
    "The Penn Treebank, or PTB for short, is a dataset maintained by the University of Pennsylvania. It is <i>huge</i> -- there are over <b>four million and eight hundred thousand</b> annotated words in it, all corrected by humans. It is composed of many different sources, from abstracts of Department of Energy papers to texts from the Library of America. Since it is verifiably correct and of such a huge size, the Penn Treebank is commonly used as a benchmark dataset for Language Modelling.\n",
    "\n",
    "The dataset is divided in different kinds of annotations, such as Piece-of-Speech, Syntactic and Semantic skeletons. For this example, we will simply use a sample of clean, non-annotated words (with the exception of one tag --<code>&lt;unk&gt;</code>\n",
    ", which is used for rare words such as uncommon proper nouns) for our model. This means that we just want to predict what the next words would be, not what they mean in context or their classes on a given sentence.\n",
    "\n",
    "<center>Example of text from the dataset we are going to use, <b>ptb.train</b></center>\n",
    "<br><br>\n",
    "\n",
    "<div class=\"alert alert-block alert-info\" style=\"margin-top: 20px\">\n",
    "    <center>the percentage of lung cancer deaths among the workers at the west <code>&lt;unk&gt;</code> mass. paper factory appears to be the highest for any asbestos workers studied in western industrialized countries he said \n",
    " the plant which is owned by <code>&lt;unk&gt;</code> & <code>&lt;unk&gt;</code> co. was under contract with <code>&lt;unk&gt;</code> to make the cigarette filters \n",
    " the finding probably will support those who argue that the U.S. should regulate the class of asbestos including <code>&lt;unk&gt;</code> more <code>&lt;unk&gt;</code> than the common kind of asbestos <code>&lt;unk&gt;</code> found in most schools and other buildings dr. <code>&lt;unk&gt;</code> said</center>\n",
    "</div>\n"
   ]
  },
  {
   "cell_type": "markdown",
   "metadata": {},
   "source": [
    "<a id=\"word_embedding\"></a>\n",
    "<h2>Word Embeddings</h2><br/>\n",
    "\n",
    "For better processing, in this example, we will make use of <a href=\"https://www.tensorflow.org/tutorials/word2vec/\"><b>word embeddings</b></a>, which is <b>a way of representing sentence structures or words as n-dimensional vectors (where n is a reasonably high number, such as 200 or 500) of real numbers</b>. Basically, we will assign each word a randomly-initialized vector, and input those into the network to be processed. After a number of iterations, these vectors are expected to assume values that help the network to correctly predict what it needs to -- in our case, the probable next word in the sentence. This is shown to be a very effective task in Natural Language Processing, and is a commonplace practice.\n",
    "<br><br>\n",
    "<font size=\"4\"><strong>\n",
    "$$Vec(\"Example\") = [0.02, 0.00, 0.00, 0.92, 0.30, \\ldots]$$\n",
    "</strong></font>\n",
    "<br>\n",
    "Word Embedding tends to group up similarly used words <i>reasonably</i> close together in the vectorial space. For example, if we use T-SNE (a dimensional reduction visualization algorithm) to flatten the dimensions of our vectors into a 2-dimensional space and plot these words in a 2-dimensional space, we might see something like this:\n",
    "\n",
    "<img src=\"https://ibm.box.com/shared/static/bqhc5dg879gcoabzhxra1w8rkg3od1cu.png\" width=\"800\">\n",
    "<center><i>T-SNE Mockup with clusters marked for easier visualization</i></center>\n",
    "<br><br>\n",
    "As you can see, words that are frequently used together, in place of each other, or in the same places as them tend to be grouped together -- being closer together the higher they are correlated. For example, \"None\" is pretty semantically close to \"Zero\", while a phrase that uses \"Italy\", you could probably also fit \"Germany\" in it, with little damage to the sentence structure. The vectorial \"closeness\" for similar words like this is a great indicator of a well-built model.\n",
    "\n",
    "<hr>\n",
    " \n"
   ]
  },
  {
   "cell_type": "markdown",
   "metadata": {},
   "source": [
    "We need to import the necessary modules for our code. We need <b><code>numpy</code></b> and <b><code>tensorflow</code></b>, obviously. Additionally, we can import directly the <b><code>tensorflow.models.rnn</code></b> model, which includes the function for building RNNs, and <b><code>tensorflow.models.rnn.ptb.reader</code></b> which is the helper module for getting the input data from the dataset we just downloaded.\n",
    "\n",
    "If you want to learn more take a look at https://github.com/tensorflow/models/blob/master/tutorials/rnn/ptb/reader.py\n"
   ]
  },
  {
   "cell_type": "code",
   "execution_count": 1,
   "metadata": {
    "tags": []
   },
   "outputs": [
    {
     "name": "stdout",
     "output_type": "stream",
     "text": [
      "Collecting tensorflow==2.9.0\n",
      "  Downloading tensorflow-2.9.0-cp37-cp37m-manylinux_2_17_x86_64.manylinux2014_x86_64.whl (511.7 MB)\n",
      "\u001b[2K     \u001b[90m━━━━━━━━━━━━━━━━━━━━━━━━━━━━━━━━━━━━━\u001b[0m \u001b[32m511.7/511.7 MB\u001b[0m \u001b[31m736.7 kB/s\u001b[0m eta \u001b[36m0:00:00\u001b[0m00:01\u001b[0m00:01\u001b[0m\n",
      "\u001b[?25hRequirement already satisfied: absl-py>=1.0.0 in /home/jupyterlab/conda/envs/python/lib/python3.7/site-packages (from tensorflow==2.9.0) (1.4.0)\n",
      "Collecting astunparse>=1.6.0 (from tensorflow==2.9.0)\n",
      "  Downloading astunparse-1.6.3-py2.py3-none-any.whl (12 kB)\n",
      "Collecting flatbuffers<2,>=1.12 (from tensorflow==2.9.0)\n",
      "  Downloading flatbuffers-1.12-py2.py3-none-any.whl (15 kB)\n",
      "Collecting gast<=0.4.0,>=0.2.1 (from tensorflow==2.9.0)\n",
      "  Downloading gast-0.4.0-py3-none-any.whl (9.8 kB)\n",
      "Requirement already satisfied: google-pasta>=0.1.1 in /home/jupyterlab/conda/envs/python/lib/python3.7/site-packages (from tensorflow==2.9.0) (0.2.0)\n",
      "Requirement already satisfied: grpcio<2.0,>=1.24.3 in /home/jupyterlab/conda/envs/python/lib/python3.7/site-packages (from tensorflow==2.9.0) (1.48.1)\n",
      "Collecting h5py>=2.9.0 (from tensorflow==2.9.0)\n",
      "  Downloading h5py-3.8.0-cp37-cp37m-manylinux_2_17_x86_64.manylinux2014_x86_64.whl (4.3 MB)\n",
      "\u001b[2K     \u001b[90m━━━━━━━━━━━━━━━━━━━━━━━━━━━━━━━━━━━━━━━━\u001b[0m \u001b[32m4.3/4.3 MB\u001b[0m \u001b[31m58.6 MB/s\u001b[0m eta \u001b[36m0:00:00\u001b[0m:00:01\u001b[0m\n",
      "\u001b[?25hCollecting keras<2.10.0,>=2.9.0rc0 (from tensorflow==2.9.0)\n",
      "  Downloading keras-2.9.0-py2.py3-none-any.whl (1.6 MB)\n",
      "\u001b[2K     \u001b[90m━━━━━━━━━━━━━━━━━━━━━━━━━━━━━━━━━━━━━━━━\u001b[0m \u001b[32m1.6/1.6 MB\u001b[0m \u001b[31m54.6 MB/s\u001b[0m eta \u001b[36m0:00:00\u001b[0m\n",
      "\u001b[?25hRequirement already satisfied: keras-preprocessing>=1.1.1 in /home/jupyterlab/conda/envs/python/lib/python3.7/site-packages (from tensorflow==2.9.0) (1.1.2)\n",
      "Collecting libclang>=13.0.0 (from tensorflow==2.9.0)\n",
      "  Downloading libclang-18.1.1-py2.py3-none-manylinux2010_x86_64.whl (24.5 MB)\n",
      "\u001b[2K     \u001b[90m━━━━━━━━━━━━━━━━━━━━━━━━━━━━━━━━━━━━━━━━\u001b[0m \u001b[32m24.5/24.5 MB\u001b[0m \u001b[31m52.6 MB/s\u001b[0m eta \u001b[36m0:00:00\u001b[0m00:01\u001b[0m00:01\u001b[0m\n",
      "\u001b[?25hRequirement already satisfied: numpy>=1.20 in /home/jupyterlab/conda/envs/python/lib/python3.7/site-packages (from tensorflow==2.9.0) (1.21.6)\n",
      "Collecting opt-einsum>=2.3.2 (from tensorflow==2.9.0)\n",
      "  Downloading opt_einsum-3.3.0-py3-none-any.whl (65 kB)\n",
      "\u001b[2K     \u001b[90m━━━━━━━━━━━━━━━━━━━━━━━━━━━━━━━━━━━━━━━━\u001b[0m \u001b[32m65.5/65.5 kB\u001b[0m \u001b[31m11.1 MB/s\u001b[0m eta \u001b[36m0:00:00\u001b[0m\n",
      "\u001b[?25hRequirement already satisfied: packaging in /home/jupyterlab/conda/envs/python/lib/python3.7/site-packages (from tensorflow==2.9.0) (23.1)\n",
      "Requirement already satisfied: protobuf>=3.9.2 in /home/jupyterlab/conda/envs/python/lib/python3.7/site-packages (from tensorflow==2.9.0) (4.21.8)\n",
      "Requirement already satisfied: setuptools in /home/jupyterlab/conda/envs/python/lib/python3.7/site-packages (from tensorflow==2.9.0) (67.7.2)\n",
      "Requirement already satisfied: six>=1.12.0 in /home/jupyterlab/conda/envs/python/lib/python3.7/site-packages (from tensorflow==2.9.0) (1.16.0)\n",
      "Collecting tensorboard<2.10,>=2.9 (from tensorflow==2.9.0)\n",
      "  Downloading tensorboard-2.9.1-py3-none-any.whl (5.8 MB)\n",
      "\u001b[2K     \u001b[90m━━━━━━━━━━━━━━━━━━━━━━━━━━━━━━━━━━━━━━━━\u001b[0m \u001b[32m5.8/5.8 MB\u001b[0m \u001b[31m63.8 MB/s\u001b[0m eta \u001b[36m0:00:00\u001b[0m:00:01\u001b[0m\n",
      "\u001b[?25hCollecting tensorflow-io-gcs-filesystem>=0.23.1 (from tensorflow==2.9.0)\n",
      "  Downloading tensorflow_io_gcs_filesystem-0.34.0-cp37-cp37m-manylinux_2_12_x86_64.manylinux2010_x86_64.whl (2.4 MB)\n",
      "\u001b[2K     \u001b[90m━━━━━━━━━━━━━━━━━━━━━━━━━━━━━━━━━━━━━━━━\u001b[0m \u001b[32m2.4/2.4 MB\u001b[0m \u001b[31m65.1 MB/s\u001b[0m eta \u001b[36m0:00:00\u001b[0m:00:01\u001b[0m\n",
      "\u001b[?25hCollecting tensorflow-estimator<2.10.0,>=2.9.0rc0 (from tensorflow==2.9.0)\n",
      "  Downloading tensorflow_estimator-2.9.0-py2.py3-none-any.whl (438 kB)\n",
      "\u001b[2K     \u001b[90m━━━━━━━━━━━━━━━━━━━━━━━━━━━━━━━━━━━━━━\u001b[0m \u001b[32m438.7/438.7 kB\u001b[0m \u001b[31m53.6 MB/s\u001b[0m eta \u001b[36m0:00:00\u001b[0m\n",
      "\u001b[?25hRequirement already satisfied: termcolor>=1.1.0 in /home/jupyterlab/conda/envs/python/lib/python3.7/site-packages (from tensorflow==2.9.0) (2.3.0)\n",
      "Requirement already satisfied: typing-extensions>=3.6.6 in /home/jupyterlab/conda/envs/python/lib/python3.7/site-packages (from tensorflow==2.9.0) (4.5.0)\n",
      "Requirement already satisfied: wrapt>=1.11.0 in /home/jupyterlab/conda/envs/python/lib/python3.7/site-packages (from tensorflow==2.9.0) (1.14.1)\n",
      "Requirement already satisfied: wheel<1.0,>=0.23.0 in /home/jupyterlab/conda/envs/python/lib/python3.7/site-packages (from astunparse>=1.6.0->tensorflow==2.9.0) (0.40.0)\n",
      "Collecting google-auth<3,>=1.6.3 (from tensorboard<2.10,>=2.9->tensorflow==2.9.0)\n",
      "  Downloading google_auth-2.32.0-py2.py3-none-any.whl (195 kB)\n",
      "\u001b[2K     \u001b[90m━━━━━━━━━━━━━━━━━━━━━━━━━━━━━━━━━━━━━━\u001b[0m \u001b[32m195.5/195.5 kB\u001b[0m \u001b[31m31.4 MB/s\u001b[0m eta \u001b[36m0:00:00\u001b[0m\n",
      "\u001b[?25hCollecting google-auth-oauthlib<0.5,>=0.4.1 (from tensorboard<2.10,>=2.9->tensorflow==2.9.0)\n",
      "  Downloading google_auth_oauthlib-0.4.6-py2.py3-none-any.whl (18 kB)\n",
      "Requirement already satisfied: markdown>=2.6.8 in /home/jupyterlab/conda/envs/python/lib/python3.7/site-packages (from tensorboard<2.10,>=2.9->tensorflow==2.9.0) (3.4.3)\n",
      "Collecting protobuf>=3.9.2 (from tensorflow==2.9.0)\n",
      "  Downloading protobuf-3.19.6-cp37-cp37m-manylinux_2_17_x86_64.manylinux2014_x86_64.whl (1.1 MB)\n",
      "\u001b[2K     \u001b[90m━━━━━━━━━━━━━━━━━━━━━━━━━━━━━━━━━━━━━━━━\u001b[0m \u001b[32m1.1/1.1 MB\u001b[0m \u001b[31m39.2 MB/s\u001b[0m eta \u001b[36m0:00:00\u001b[0m\n",
      "\u001b[?25hRequirement already satisfied: requests<3,>=2.21.0 in /home/jupyterlab/conda/envs/python/lib/python3.7/site-packages (from tensorboard<2.10,>=2.9->tensorflow==2.9.0) (2.29.0)\n",
      "Collecting tensorboard-data-server<0.7.0,>=0.6.0 (from tensorboard<2.10,>=2.9->tensorflow==2.9.0)\n",
      "  Downloading tensorboard_data_server-0.6.1-py3-none-manylinux2010_x86_64.whl (4.9 MB)\n",
      "\u001b[2K     \u001b[90m━━━━━━━━━━━━━━━━━━━━━━━━━━━━━━━━━━━━━━━━\u001b[0m \u001b[32m4.9/4.9 MB\u001b[0m \u001b[31m55.5 MB/s\u001b[0m eta \u001b[36m0:00:00\u001b[0m:00:01\u001b[0m00:01\u001b[0m\n",
      "\u001b[?25hCollecting tensorboard-plugin-wit>=1.6.0 (from tensorboard<2.10,>=2.9->tensorflow==2.9.0)\n",
      "  Downloading tensorboard_plugin_wit-1.8.1-py3-none-any.whl (781 kB)\n",
      "\u001b[2K     \u001b[90m━━━━━━━━━━━━━━━━━━━━━━━━━━━━━━━━━━━━━━\u001b[0m \u001b[32m781.3/781.3 kB\u001b[0m \u001b[31m67.7 MB/s\u001b[0m eta \u001b[36m0:00:00\u001b[0m\n",
      "\u001b[?25hRequirement already satisfied: werkzeug>=1.0.1 in /home/jupyterlab/conda/envs/python/lib/python3.7/site-packages (from tensorboard<2.10,>=2.9->tensorflow==2.9.0) (2.2.3)\n",
      "Collecting cachetools<6.0,>=2.0.0 (from google-auth<3,>=1.6.3->tensorboard<2.10,>=2.9->tensorflow==2.9.0)\n",
      "  Downloading cachetools-5.4.0-py3-none-any.whl (9.5 kB)\n",
      "Requirement already satisfied: pyasn1-modules>=0.2.1 in /home/jupyterlab/conda/envs/python/lib/python3.7/site-packages (from google-auth<3,>=1.6.3->tensorboard<2.10,>=2.9->tensorflow==2.9.0) (0.3.0)\n",
      "Collecting rsa<5,>=3.1.4 (from google-auth<3,>=1.6.3->tensorboard<2.10,>=2.9->tensorflow==2.9.0)\n",
      "  Downloading rsa-4.9-py3-none-any.whl (34 kB)\n",
      "Collecting requests-oauthlib>=0.7.0 (from google-auth-oauthlib<0.5,>=0.4.1->tensorboard<2.10,>=2.9->tensorflow==2.9.0)\n",
      "  Downloading requests_oauthlib-2.0.0-py2.py3-none-any.whl (24 kB)\n",
      "Requirement already satisfied: importlib-metadata>=4.4 in /home/jupyterlab/conda/envs/python/lib/python3.7/site-packages (from markdown>=2.6.8->tensorboard<2.10,>=2.9->tensorflow==2.9.0) (4.11.4)\n",
      "Requirement already satisfied: charset-normalizer<4,>=2 in /home/jupyterlab/conda/envs/python/lib/python3.7/site-packages (from requests<3,>=2.21.0->tensorboard<2.10,>=2.9->tensorflow==2.9.0) (3.1.0)\n",
      "Requirement already satisfied: idna<4,>=2.5 in /home/jupyterlab/conda/envs/python/lib/python3.7/site-packages (from requests<3,>=2.21.0->tensorboard<2.10,>=2.9->tensorflow==2.9.0) (3.4)\n",
      "Requirement already satisfied: urllib3<1.27,>=1.21.1 in /home/jupyterlab/conda/envs/python/lib/python3.7/site-packages (from requests<3,>=2.21.0->tensorboard<2.10,>=2.9->tensorflow==2.9.0) (1.26.15)\n",
      "Requirement already satisfied: certifi>=2017.4.17 in /home/jupyterlab/conda/envs/python/lib/python3.7/site-packages (from requests<3,>=2.21.0->tensorboard<2.10,>=2.9->tensorflow==2.9.0) (2023.5.7)\n",
      "Requirement already satisfied: MarkupSafe>=2.1.1 in /home/jupyterlab/conda/envs/python/lib/python3.7/site-packages (from werkzeug>=1.0.1->tensorboard<2.10,>=2.9->tensorflow==2.9.0) (2.1.1)\n",
      "Requirement already satisfied: zipp>=0.5 in /home/jupyterlab/conda/envs/python/lib/python3.7/site-packages (from importlib-metadata>=4.4->markdown>=2.6.8->tensorboard<2.10,>=2.9->tensorflow==2.9.0) (3.15.0)\n",
      "Requirement already satisfied: pyasn1<0.6.0,>=0.4.6 in /home/jupyterlab/conda/envs/python/lib/python3.7/site-packages (from pyasn1-modules>=0.2.1->google-auth<3,>=1.6.3->tensorboard<2.10,>=2.9->tensorflow==2.9.0) (0.5.0)\n",
      "Collecting oauthlib>=3.0.0 (from requests-oauthlib>=0.7.0->google-auth-oauthlib<0.5,>=0.4.1->tensorboard<2.10,>=2.9->tensorflow==2.9.0)\n",
      "  Downloading oauthlib-3.2.2-py3-none-any.whl (151 kB)\n",
      "\u001b[2K     \u001b[90m━━━━━━━━━━━━━━━━━━━━━━━━━━━━━━━━━━━━━━\u001b[0m \u001b[32m151.7/151.7 kB\u001b[0m \u001b[31m31.6 MB/s\u001b[0m eta \u001b[36m0:00:00\u001b[0m\n",
      "\u001b[?25hInstalling collected packages: tensorboard-plugin-wit, libclang, keras, flatbuffers, tensorflow-io-gcs-filesystem, tensorflow-estimator, tensorboard-data-server, rsa, protobuf, opt-einsum, oauthlib, h5py, gast, cachetools, astunparse, requests-oauthlib, google-auth, google-auth-oauthlib, tensorboard, tensorflow\n",
      "  Attempting uninstall: keras\n",
      "    Found existing installation: Keras 2.1.6\n",
      "    Uninstalling Keras-2.1.6:\n",
      "      Successfully uninstalled Keras-2.1.6\n",
      "  Attempting uninstall: tensorflow-estimator\n",
      "    Found existing installation: tensorflow-estimator 1.14.0\n",
      "    Uninstalling tensorflow-estimator-1.14.0:\n",
      "      Successfully uninstalled tensorflow-estimator-1.14.0\n",
      "  Attempting uninstall: protobuf\n",
      "    Found existing installation: protobuf 4.21.8\n",
      "    Uninstalling protobuf-4.21.8:\n",
      "      Successfully uninstalled protobuf-4.21.8\n",
      "  Attempting uninstall: h5py\n",
      "    Found existing installation: h5py 2.8.0\n",
      "    Uninstalling h5py-2.8.0:\n",
      "      Successfully uninstalled h5py-2.8.0\n",
      "  Attempting uninstall: gast\n",
      "    Found existing installation: gast 0.5.3\n",
      "    Uninstalling gast-0.5.3:\n",
      "      Successfully uninstalled gast-0.5.3\n",
      "  Attempting uninstall: tensorboard\n",
      "    Found existing installation: tensorboard 1.14.0\n",
      "    Uninstalling tensorboard-1.14.0:\n",
      "      Successfully uninstalled tensorboard-1.14.0\n",
      "  Attempting uninstall: tensorflow\n",
      "    Found existing installation: tensorflow 1.14.0\n",
      "    Uninstalling tensorflow-1.14.0:\n",
      "      Successfully uninstalled tensorflow-1.14.0\n",
      "Successfully installed astunparse-1.6.3 cachetools-5.4.0 flatbuffers-1.12 gast-0.4.0 google-auth-2.32.0 google-auth-oauthlib-0.4.6 h5py-3.8.0 keras-2.9.0 libclang-18.1.1 oauthlib-3.2.2 opt-einsum-3.3.0 protobuf-3.19.6 requests-oauthlib-2.0.0 rsa-4.9 tensorboard-2.9.1 tensorboard-data-server-0.6.1 tensorboard-plugin-wit-1.8.1 tensorflow-2.9.0 tensorflow-estimator-2.9.0 tensorflow-io-gcs-filesystem-0.34.0\n",
      "Collecting numpy==1.21.4\n",
      "  Downloading numpy-1.21.4-cp37-cp37m-manylinux_2_12_x86_64.manylinux2010_x86_64.whl (15.7 MB)\n",
      "\u001b[2K     \u001b[90m━━━━━━━━━━━━━━━━━━━━━━━━━━━━━━━━━━━━━━━━\u001b[0m \u001b[32m15.7/15.7 MB\u001b[0m \u001b[31m71.6 MB/s\u001b[0m eta \u001b[36m0:00:00\u001b[0m00:01\u001b[0m00:01\u001b[0m\n",
      "\u001b[?25hInstalling collected packages: numpy\n",
      "  Attempting uninstall: numpy\n",
      "    Found existing installation: numpy 1.21.6\n",
      "    Uninstalling numpy-1.21.6:\n",
      "      Successfully uninstalled numpy-1.21.6\n",
      "Successfully installed numpy-1.21.4\n"
     ]
    }
   ],
   "source": [
    "!pip install tensorflow==2.9.0\n",
    "!pip install numpy==1.21.4\n"
   ]
  },
  {
   "cell_type": "code",
   "execution_count": 2,
   "metadata": {
    "tags": []
   },
   "outputs": [
    {
     "name": "stderr",
     "output_type": "stream",
     "text": [
      "2024-08-03 02:18:32.559834: I tensorflow/core/util/util.cc:169] oneDNN custom operations are on. You may see slightly different numerical results due to floating-point round-off errors from different computation orders. To turn them off, set the environment variable `TF_ENABLE_ONEDNN_OPTS=0`.\n",
      "2024-08-03 02:18:32.565211: W tensorflow/stream_executor/platform/default/dso_loader.cc:64] Could not load dynamic library 'libcudart.so.11.0'; dlerror: libcudart.so.11.0: cannot open shared object file: No such file or directory\n",
      "2024-08-03 02:18:32.565232: I tensorflow/stream_executor/cuda/cudart_stub.cc:29] Ignore above cudart dlerror if you do not have a GPU set up on your machine.\n"
     ]
    }
   ],
   "source": [
    "import time\n",
    "import numpy as np\n",
    "import tensorflow as tf\n",
    "if not tf.__version__ == '2.9.0':\n",
    "    print(tf.__version__)\n",
    "    raise ValueError('please upgrade to TensorFlow 2.9.0, or restart your Kernel (Kernel->Restart & Clear Output)')"
   ]
  },
  {
   "cell_type": "markdown",
   "metadata": {},
   "source": [
    "IMPORTANT! => Please restart the kernel by clicking on \"Kernel\"->\"Restart and Clear Outout\" and wait until all output disapears. Then your changes are beeing picked up\n"
   ]
  },
  {
   "cell_type": "code",
   "execution_count": 3,
   "metadata": {
    "tags": []
   },
   "outputs": [],
   "source": [
    "#!mkdir data\n",
    "#!mkdir data/ptb\n",
    "#!wget -q -O data/ptb/reader.py https://cf-courses-data.s3.us.cloud-object-storage.appdomain.cloud/IBMDeveloperSkillsNetwork-DL0120EN-SkillsNetwork/labs/Week3/data/ptb/reader.py\n",
    "#!cp data/ptb/reader.py .\n",
    "\n"
   ]
  },
  {
   "cell_type": "code",
   "execution_count": 4,
   "metadata": {
    "tags": []
   },
   "outputs": [],
   "source": [
    "# Copyright 2015 The TensorFlow Authors. All Rights Reserved.\n",
    "#\n",
    "# Licensed under the Apache License, Version 2.0 (the \"License\");\n",
    "# you may not use this file except in compliance with the License.\n",
    "# You may obtain a copy of the License at\n",
    "#\n",
    "#     http://www.apache.org/licenses/LICENSE-2.0\n",
    "#\n",
    "# Unless required by applicable law or agreed to in writing, software\n",
    "# distributed under the License is distributed on an \"AS IS\" BASIS,\n",
    "# WITHOUT WARRANTIES OR CONDITIONS OF ANY KIND, either express or implied.\n",
    "# See the License for the specific language governing permissions and\n",
    "# limitations under the License.\n",
    "# ==============================================================================\n",
    "\n",
    "\n",
    "\"\"\"Utilities for parsing PTB text files.\"\"\"\n",
    "from __future__ import absolute_import\n",
    "from __future__ import division\n",
    "from __future__ import print_function\n",
    "\n",
    "import collections\n",
    "import os\n",
    "\n",
    "import numpy as np\n",
    "import tensorflow as tf\n",
    "\n",
    "\n",
    "def _read_words(filename):\n",
    "  with tf.io.gfile.GFile(filename, \"r\") as f:\n",
    "    return f.read().replace(\"\\n\", \"<eos>\").split()\n",
    "\n",
    "\n",
    "def _build_vocab(filename):\n",
    "  data = _read_words(filename)\n",
    "\n",
    "  counter = collections.Counter(data)\n",
    "  count_pairs = sorted(counter.items(), key=lambda x: (-x[1], x[0]))\n",
    "\n",
    "  words, _ = list(zip(*count_pairs))\n",
    "  word_to_id = dict(zip(words, range(len(words))))\n",
    "\n",
    "  return word_to_id\n",
    "\n",
    "\n",
    "def _file_to_word_ids(filename, word_to_id):\n",
    "  data = _read_words(filename)\n",
    "  return [word_to_id[word] for word in data if word in word_to_id]\n",
    "\n",
    "\n",
    "def ptb_raw_data(data_path=None):\n",
    "  \"\"\"Load PTB raw data from data directory \"data_path\".\n",
    "\n",
    "  Reads PTB text files, converts strings to integer ids,\n",
    "  and performs mini-batching of the inputs.\n",
    "\n",
    "  The PTB dataset comes from Tomas Mikolov's webpage:\n",
    "\n",
    "  http://www.fit.vutbr.cz/~imikolov/rnnlm/simple-examples.tgz\n",
    "\n",
    "  Args:\n",
    "    data_path: string path to the directory where simple-examples.tgz has\n",
    "      been extracted.\n",
    "\n",
    "  Returns:\n",
    "    tuple (train_data, valid_data, test_data, vocabulary)\n",
    "    where each of the data objects can be passed to PTBIterator.\n",
    "  \"\"\"\n",
    "\n",
    "  train_path = os.path.join(data_path, \"ptb.train.txt\")\n",
    "  valid_path = os.path.join(data_path, \"ptb.valid.txt\")\n",
    "  test_path = os.path.join(data_path, \"ptb.test.txt\")\n",
    "\n",
    "  word_to_id = _build_vocab(train_path)\n",
    "  train_data = _file_to_word_ids(train_path, word_to_id)\n",
    "  valid_data = _file_to_word_ids(valid_path, word_to_id)\n",
    "  test_data = _file_to_word_ids(test_path, word_to_id)\n",
    "  vocabulary = len(word_to_id)\n",
    "  return train_data, valid_data, test_data, vocabulary, word_to_id\n",
    "\n",
    "\n",
    "def ptb_iterator(raw_data, batch_size, num_steps):\n",
    "  \"\"\"Iterate on the raw PTB data.\n",
    "\n",
    "  This generates batch_size pointers into the raw PTB data, and allows\n",
    "  minibatch iteration along these pointers.\n",
    "\n",
    "  Args:\n",
    "    raw_data: one of the raw data outputs from ptb_raw_data.\n",
    "    batch_size: int, the batch size.\n",
    "    num_steps: int, the number of unrolls.\n",
    "\n",
    "  Yields:\n",
    "    Pairs of the batched data, each a matrix of shape [batch_size, num_steps].\n",
    "    The second element of the tuple is the same data time-shifted to the\n",
    "    right by one.\n",
    "\n",
    "  Raises:\n",
    "    ValueError: if batch_size or num_steps are too high.\n",
    "  \"\"\"\n",
    "  raw_data = np.array(raw_data, dtype=np.int32)\n",
    "\n",
    "  data_len = len(raw_data)\n",
    "  batch_len = data_len // batch_size\n",
    "  data = np.zeros([batch_size, batch_len], dtype=np.int32)\n",
    "  for i in range(batch_size):\n",
    "    data[i] = raw_data[batch_len * i:batch_len * (i + 1)]\n",
    "\n",
    "  epoch_size = (batch_len - 1) // num_steps\n",
    "\n",
    "  if epoch_size == 0:\n",
    "    raise ValueError(\"epoch_size == 0, decrease batch_size or num_steps\")\n",
    "\n",
    "  for i in range(epoch_size):\n",
    "    x = data[:, i*num_steps:(i+1)*num_steps]\n",
    "    y = data[:, i*num_steps+1:(i+1)*num_steps+1]\n",
    "    yield (x, y)"
   ]
  },
  {
   "cell_type": "markdown",
   "metadata": {},
   "source": [
    "<a id=\"building_lstm_model\"></a>\n",
    "<h2>Building the LSTM model for Language Modeling</h2>\n",
    "Now that we know exactly what we are doing, we can start building our model using TensorFlow. The very first thing we need to do is download and extract the  dataset, which can be done by executing the code cell below.\n"
   ]
  },
  {
   "cell_type": "code",
   "execution_count": 5,
   "metadata": {
    "tags": []
   },
   "outputs": [
    {
     "name": "stdout",
     "output_type": "stream",
     "text": [
      "--2024-08-03 02:18:35--  https://cf-courses-data.s3.us.cloud-object-storage.appdomain.cloud/SPqCgT4JZp9royRjGgbqSA/data.zip\n",
      "Resolving cf-courses-data.s3.us.cloud-object-storage.appdomain.cloud (cf-courses-data.s3.us.cloud-object-storage.appdomain.cloud)... 169.63.118.104, 169.63.118.104\n",
      "Connecting to cf-courses-data.s3.us.cloud-object-storage.appdomain.cloud (cf-courses-data.s3.us.cloud-object-storage.appdomain.cloud)|169.63.118.104|:443... connected.\n",
      "HTTP request sent, awaiting response... 200 OK\n",
      "Length: 2020687 (1.9M) [application/zip]\n",
      "Saving to: ‘data.zip’\n",
      "\n",
      "data.zip            100%[===================>]   1.93M  --.-KB/s    in 0.04s   \n",
      "\n",
      "2024-08-03 02:18:35 (44.1 MB/s) - ‘data.zip’ saved [2020687/2020687]\n",
      "\n",
      "Archive:  data.zip\n",
      "  inflating: data/ptb.test.txt       \n",
      "  inflating: data/ptb.train.txt      \n",
      "  inflating: data/ptb.valid.txt      \n"
     ]
    }
   ],
   "source": [
    "!wget https://cf-courses-data.s3.us.cloud-object-storage.appdomain.cloud/SPqCgT4JZp9royRjGgbqSA/data.zip\n",
    "!unzip -o data.zip"
   ]
  },
  {
   "cell_type": "markdown",
   "metadata": {},
   "source": [
    "Additionally, for the sake of making it easy to play around with the model's hyperparameters, we can declare them beforehand. Feel free to change these -- you will see a difference in performance each time you change those!  \n"
   ]
  },
  {
   "cell_type": "code",
   "execution_count": 6,
   "metadata": {
    "tags": []
   },
   "outputs": [],
   "source": [
    "#Initial weight scale\n",
    "init_scale = 0.1\n",
    "#Initial learning rate\n",
    "learning_rate = 1.0\n",
    "#Maximum permissible norm for the gradient (For gradient clipping -- another measure against Exploding Gradients)\n",
    "max_grad_norm = 5\n",
    "#The number of layers in our model\n",
    "num_layers = 2\n",
    "#The total number of recurrence steps, also known as the number of layers when our RNN is \"unfolded\"\n",
    "num_steps = 20\n",
    "#The number of processing units (neurons) in the hidden layers\n",
    "hidden_size_l1 = 256\n",
    "hidden_size_l2 = 128\n",
    "#The maximum number of epochs trained with the initial learning rate\n",
    "max_epoch_decay_lr = 4\n",
    "#The total number of epochs in training\n",
    "max_epoch = 15\n",
    "#The probability for keeping data in the Dropout Layer (This is an optimization, but is outside our scope for this notebook!)\n",
    "#At 1, we ignore the Dropout Layer wrapping.\n",
    "keep_prob = 1\n",
    "#The decay for the learning rate\n",
    "decay = 0.5\n",
    "#The size for each batch of data\n",
    "batch_size = 30\n",
    "#The size of our vocabulary\n",
    "vocab_size = 10000\n",
    "embeding_vector_size= 200\n",
    "#Training flag to separate training from testing\n",
    "is_training = 1\n",
    "#Data directory for our dataset\n",
    "data_dir = \"data\""
   ]
  },
  {
   "cell_type": "markdown",
   "metadata": {},
   "source": [
    "Some clarifications for LSTM architecture based on the arguments:\n",
    "\n",
    "Network structure:\n",
    "<ul>\n",
    "    <li>In this network, the number of LSTM cells are 2. To give the model more expressive power, we can add multiple layers of LSTMs to process the data. The output of the first layer will become the input of the second and so on.\n",
    "    </li>\n",
    "    <li>The recurrence steps is 20, that is, when our RNN is \"Unfolded\", the recurrence step is 20.</li>   \n",
    "    <li>the structure is like:\n",
    "        <ul>\n",
    "            <li>200 input units -> [200x200] Weight -> 200 Hidden units (first layer) -> [200x200] Weight matrix  -> 200 Hidden units (second layer) ->  [200] weight Matrix -> 200 unit output</li>\n",
    "        </ul>\n",
    "    </li>\n",
    "</ul>\n",
    "<br>\n",
    "\n",
    "Input layer: \n",
    "<ul>\n",
    "    <li>The network has 200 input units.</li>\n",
    "    <li>Suppose each word is represented by an embedding vector of dimensionality e=200. The input layer of each cell will have 200 linear units. These e=200 linear units are connected to each of the h=200 LSTM units in the hidden layer (assuming there is only one hidden layer, though our case has 2 layers).\n",
    "    </li>\n",
    "    <li>The input shape is [batch_size, num_steps], that is [30x20]. It will turn into [30x20x200] after embedding, and then 20x[30x200]\n",
    "    </li>\n",
    "</ul>\n",
    "<br>\n",
    "\n",
    "Hidden layer:\n",
    "<ul>\n",
    "    <li>Each LSTM has 200 hidden units which is equivalent to the dimensionality of the embedding words and output.</li>\n",
    "</ul>\n",
    "<br>\n"
   ]
  },
  {
   "cell_type": "markdown",
   "metadata": {},
   "source": [
    "There is a lot to be done and a ton of information to process at the same time, so go over this code slowly. It may seem complex at first, but if you try to apply what you just learned about language modelling to the code you see, you should be able to understand it.\n",
    "\n",
    "This code is adapted from the <a href=\"https://github.com/tensorflow/models\">PTBModel</a> example bundled with the TensorFlow source code.\n",
    "\n",
    "\n",
    "<h3>Training data</h3>\n",
    "The story starts from data:\n",
    "<ul>\n",
    "    <li>Train data is a list of words, of size 929589, represented by numbers, e.g. [9971, 9972, 9974, 9975,...]</li>\n",
    "    <li>We read data as mini-batch of size b=30. Assume the size of each sentence is 20 words (num_steps = 20). Then it will take $$floor(\\frac{N}{b \\times h})+1=1548$$ iterations for the learner to go through all sentences once. Where N is the size of the list of words, b is batch size, and h is size of each sentence. So, the number of iterators is 1548\n",
    "    </li>\n",
    "    <li>Each batch data is read from train dataset of size 600, and shape of [30x20]</li>\n",
    "</ul>\n"
   ]
  },
  {
   "cell_type": "code",
   "execution_count": 7,
   "metadata": {
    "tags": []
   },
   "outputs": [],
   "source": [
    "# Reads the data and separates it into training data, validation data and testing data\n",
    "raw_data = ptb_raw_data(data_dir)\n",
    "train_data, valid_data, test_data, vocab, word_to_id = raw_data"
   ]
  },
  {
   "cell_type": "code",
   "execution_count": 8,
   "metadata": {
    "tags": []
   },
   "outputs": [
    {
     "data": {
      "text/plain": [
       "929589"
      ]
     },
     "execution_count": 8,
     "metadata": {},
     "output_type": "execute_result"
    }
   ],
   "source": [
    "len(train_data)"
   ]
  },
  {
   "cell_type": "code",
   "execution_count": 9,
   "metadata": {
    "tags": []
   },
   "outputs": [
    {
     "name": "stdout",
     "output_type": "stream",
     "text": [
      "['aer', 'banknote', 'berlitz', 'calloway', 'centrust', 'cluett', 'fromstein', 'gitano', 'guterman', 'hydro-quebec', 'ipo', 'kia', 'memotec', 'mlx', 'nahb', 'punts', 'rake', 'regatta', 'rubens', 'sim', 'snack-food', 'ssangyong', 'swapo', 'wachter', '<eos>', 'pierre', '<unk>', 'N', 'years', 'old', 'will', 'join', 'the', 'board', 'as', 'a', 'nonexecutive', 'director', 'nov.', 'N', '<eos>', 'mr.', '<unk>', 'is', 'chairman', 'of', '<unk>', 'n.v.', 'the', 'dutch', 'publishing', 'group', '<eos>', 'rudolph', '<unk>', 'N', 'years', 'old', 'and', 'former', 'chairman', 'of', 'consolidated', 'gold', 'fields', 'plc', 'was', 'named', 'a', 'nonexecutive', 'director', 'of', 'this', 'british', 'industrial', 'conglomerate', '<eos>', 'a', 'form', 'of', 'asbestos', 'once', 'used', 'to', 'make', 'kent', 'cigarette', 'filters', 'has', 'caused', 'a', 'high', 'percentage', 'of', 'cancer', 'deaths', 'among', 'a', 'group', 'of']\n"
     ]
    }
   ],
   "source": [
    "def id_to_word(id_list):\n",
    "    line = []\n",
    "    for w in id_list:\n",
    "        for word, wid in word_to_id.items():\n",
    "            if wid == w:\n",
    "                line.append(word)\n",
    "    return line            \n",
    "                \n",
    "\n",
    "print(id_to_word(train_data[0:100]))"
   ]
  },
  {
   "cell_type": "markdown",
   "metadata": {},
   "source": [
    "Lets just read one mini-batch now and feed our network:\n"
   ]
  },
  {
   "cell_type": "code",
   "execution_count": 10,
   "metadata": {
    "tags": []
   },
   "outputs": [],
   "source": [
    "itera = ptb_iterator(train_data, batch_size, num_steps)\n",
    "first_touple = itera.__next__()\n",
    "_input_data = first_touple[0]\n",
    "_targets = first_touple[1]"
   ]
  },
  {
   "cell_type": "code",
   "execution_count": 11,
   "metadata": {
    "tags": []
   },
   "outputs": [
    {
     "data": {
      "text/plain": [
       "(30, 20)"
      ]
     },
     "execution_count": 11,
     "metadata": {},
     "output_type": "execute_result"
    }
   ],
   "source": [
    "_input_data.shape"
   ]
  },
  {
   "cell_type": "code",
   "execution_count": 12,
   "metadata": {
    "tags": []
   },
   "outputs": [
    {
     "data": {
      "text/plain": [
       "(30, 20)"
      ]
     },
     "execution_count": 12,
     "metadata": {},
     "output_type": "execute_result"
    }
   ],
   "source": [
    "_targets.shape"
   ]
  },
  {
   "cell_type": "markdown",
   "metadata": {},
   "source": [
    "Lets look at 3 sentences of our input x:\n"
   ]
  },
  {
   "cell_type": "code",
   "execution_count": 13,
   "metadata": {
    "tags": []
   },
   "outputs": [
    {
     "data": {
      "text/plain": [
       "array([[9970, 9971, 9972, 9974, 9975, 9976, 9980, 9981, 9982, 9983, 9984,\n",
       "        9986, 9987, 9988, 9989, 9991, 9992, 9993, 9994, 9995],\n",
       "       [2654,    6,  334, 2886,    4,    1,  233,  711,  834,   11,  130,\n",
       "         123,    7,  514,    2,   63,   10,  514,    8,  605],\n",
       "       [   0, 1071,    4,    0,  185,   24,  368,   20,   31, 3109,  954,\n",
       "          12,    3,   21,    2, 2915,    2,   12,    3,   21]],\n",
       "      dtype=int32)"
      ]
     },
     "execution_count": 13,
     "metadata": {},
     "output_type": "execute_result"
    }
   ],
   "source": [
    "_input_data[0:3]"
   ]
  },
  {
   "cell_type": "code",
   "execution_count": 14,
   "metadata": {
    "tags": []
   },
   "outputs": [
    {
     "name": "stdout",
     "output_type": "stream",
     "text": [
      "['aer', 'banknote', 'berlitz', 'calloway', 'centrust', 'cluett', 'fromstein', 'gitano', 'guterman', 'hydro-quebec', 'ipo', 'kia', 'memotec', 'mlx', 'nahb', 'punts', 'rake', 'regatta', 'rubens', 'sim']\n"
     ]
    }
   ],
   "source": [
    "print(id_to_word(_input_data[0,:]))"
   ]
  },
  {
   "cell_type": "markdown",
   "metadata": {},
   "source": [
    "<h3>Embeddings</h3>\n",
    "We have to convert the words in our dataset to vectors of numbers. The traditional approach is to use one-hot encoding method that is usually used for converting categorical values to numerical values. However, One-hot encoded vectors are high-dimensional, sparse and in a big dataset, computationally inefficient. So, we use word2vec approach. It is, in fact, a layer in our LSTM network, where the word IDs will be represented as a dense representation before feeding to the LSTM. \n",
    "\n",
    "The embedded vectors also get updated during the training process of the deep neural network.\n",
    "We create the embeddings for our input data. <b>embedding_vocab</b> is matrix of [10000x200] for all 10000 unique words.\n"
   ]
  },
  {
   "cell_type": "markdown",
   "metadata": {},
   "source": [
    "<b>embedding_lookup()</b> finds the embedded values for our batch of 30x20 words. It  goes to each row of <code>input_data</code>, and for each word in the row/sentence, finds the correspond vector in <code>embedding_dic<code>. <br>\n",
    "It creates a [30x20x200] tensor, so, the first element of <b>inputs</b> (the first sentence), is a matrix of 20x200, which each row of it, is vector representing a word in the sentence.\n"
   ]
  },
  {
   "cell_type": "code",
   "execution_count": 15,
   "metadata": {
    "tags": []
   },
   "outputs": [],
   "source": [
    "embedding_layer = tf.keras.layers.Embedding(vocab_size, embeding_vector_size,batch_input_shape=(batch_size, num_steps),trainable=True,name=\"embedding_vocab\")  "
   ]
  },
  {
   "cell_type": "code",
   "execution_count": 16,
   "metadata": {
    "tags": []
   },
   "outputs": [
    {
     "name": "stderr",
     "output_type": "stream",
     "text": [
      "2024-08-03 02:18:38.209518: W tensorflow/stream_executor/platform/default/dso_loader.cc:64] Could not load dynamic library 'libcuda.so.1'; dlerror: libcuda.so.1: cannot open shared object file: No such file or directory\n",
      "2024-08-03 02:18:38.209586: W tensorflow/stream_executor/cuda/cuda_driver.cc:269] failed call to cuInit: UNKNOWN ERROR (303)\n",
      "2024-08-03 02:18:38.209617: I tensorflow/stream_executor/cuda/cuda_diagnostics.cc:156] kernel driver does not appear to be running on this host (jupyterlab-aaronlyy): /proc/driver/nvidia/version does not exist\n",
      "2024-08-03 02:18:38.210209: I tensorflow/core/platform/cpu_feature_guard.cc:193] This TensorFlow binary is optimized with oneAPI Deep Neural Network Library (oneDNN) to use the following CPU instructions in performance-critical operations:  AVX2 AVX512F AVX512_VNNI FMA\n",
      "To enable them in other operations, rebuild TensorFlow with the appropriate compiler flags.\n"
     ]
    },
    {
     "data": {
      "text/plain": [
       "<tf.Tensor: shape=(30, 20, 200), dtype=float32, numpy=\n",
       "array([[[ 0.03557421,  0.03158523, -0.01689135, ..., -0.04687922,\n",
       "         -0.03397894, -0.04602246],\n",
       "        [ 0.03337384, -0.02395653, -0.02638166, ..., -0.02426279,\n",
       "          0.02391848,  0.02621765],\n",
       "        [-0.0037931 , -0.04095113,  0.0104782 , ...,  0.0131209 ,\n",
       "          0.016766  , -0.03055087],\n",
       "        ...,\n",
       "        [-0.04949216,  0.0072014 ,  0.0459538 , ...,  0.00517504,\n",
       "          0.04320223, -0.01853495],\n",
       "        [ 0.04695215, -0.04614421, -0.02439435, ...,  0.02811886,\n",
       "         -0.01700445,  0.01479818],\n",
       "        [ 0.00553842, -0.03674767, -0.00996538, ..., -0.03792311,\n",
       "          0.04191535, -0.02555507]],\n",
       "\n",
       "       [[ 0.01441035, -0.02372652,  0.03475687, ..., -0.03584083,\n",
       "         -0.02447881,  0.02917543],\n",
       "        [ 0.04696501,  0.01615642,  0.01493383, ..., -0.00125434,\n",
       "          0.02292367,  0.03031851],\n",
       "        [ 0.01559998,  0.02243159,  0.0435079 , ..., -0.03338187,\n",
       "          0.0415755 , -0.02458874],\n",
       "        ...,\n",
       "        [-0.00368841, -0.00206272, -0.03206203, ...,  0.0250219 ,\n",
       "         -0.02173303, -0.03889215],\n",
       "        [ 0.01296881, -0.02726532, -0.04166929, ..., -0.04037559,\n",
       "         -0.00837588, -0.00072713],\n",
       "        [ 0.01948536,  0.00138833,  0.03382744, ...,  0.02990598,\n",
       "          0.03813055, -0.02501694]],\n",
       "\n",
       "       [[-0.04317336,  0.02529322,  0.0125106 , ...,  0.00921252,\n",
       "          0.02606461,  0.01520782],\n",
       "        [-0.01303651,  0.02782352, -0.04520476, ...,  0.0391083 ,\n",
       "          0.02596274,  0.00634066],\n",
       "        [ 0.02388963, -0.01396178,  0.02706269, ...,  0.01466074,\n",
       "         -0.01335641, -0.03834375],\n",
       "        ...,\n",
       "        [-0.03916782,  0.00738065,  0.01954282, ...,  0.00594144,\n",
       "         -0.00376921, -0.02655077],\n",
       "        [-0.04492379,  0.01535079, -0.00555038, ...,  0.02040216,\n",
       "         -0.01664454,  0.0322707 ],\n",
       "        [ 0.04909159, -0.00071012,  0.03871672, ...,  0.01239473,\n",
       "          0.02812339,  0.02604541]],\n",
       "\n",
       "       ...,\n",
       "\n",
       "       [[ 0.0049691 ,  0.04265119,  0.01565821, ..., -0.02425768,\n",
       "          0.01237427,  0.03832743],\n",
       "        [ 0.04037729,  0.01931492, -0.04151293, ...,  0.01141015,\n",
       "          0.01933656,  0.04879681],\n",
       "        [ 0.03459546, -0.01774221,  0.01240542, ...,  0.02732015,\n",
       "         -0.02679936, -0.02109759],\n",
       "        ...,\n",
       "        [ 0.03702633, -0.01996014, -0.01270853, ...,  0.01249762,\n",
       "          0.04736603,  0.03161706],\n",
       "        [-0.02544755,  0.02841196, -0.01966663, ...,  0.00546206,\n",
       "          0.01821402, -0.00404138],\n",
       "        [ 0.03659201,  0.03855648,  0.02156886, ..., -0.0129671 ,\n",
       "          0.01898075, -0.03908421]],\n",
       "\n",
       "       [[-0.02048033,  0.04950645, -0.01769091, ...,  0.03115154,\n",
       "          0.01076599,  0.00351348],\n",
       "        [-0.01144065,  0.00716575, -0.03535824, ...,  0.03612332,\n",
       "         -0.01979361,  0.03364627],\n",
       "        [ 0.02388963, -0.01396178,  0.02706269, ...,  0.01466074,\n",
       "         -0.01335641, -0.03834375],\n",
       "        ...,\n",
       "        [ 0.03348717, -0.0027027 , -0.03522396, ..., -0.032996  ,\n",
       "          0.00629027,  0.0290801 ],\n",
       "        [ 0.04696501,  0.01615642,  0.01493383, ..., -0.00125434,\n",
       "          0.02292367,  0.03031851],\n",
       "        [-0.03515885,  0.0049569 ,  0.04068502, ..., -0.04089386,\n",
       "         -0.02286866, -0.01049817]],\n",
       "\n",
       "       [[ 0.01961735,  0.01217999,  0.04276844, ..., -0.0195007 ,\n",
       "          0.01715154, -0.02301741],\n",
       "        [ 0.00269365, -0.04818442, -0.0045364 , ...,  0.03995624,\n",
       "          0.02296025,  0.04229606],\n",
       "        [ 0.00459696, -0.00344505,  0.0134987 , ...,  0.02303559,\n",
       "          0.01389794,  0.03238665],\n",
       "        ...,\n",
       "        [ 0.03952893,  0.00425784,  0.00016674, ..., -0.00325201,\n",
       "         -0.03340297,  0.02142918],\n",
       "        [ 0.04219696,  0.03934706,  0.04861745, ...,  0.00935634,\n",
       "         -0.03801714, -0.02637011],\n",
       "        [-0.00287633,  0.04181913, -0.01454777, ...,  0.01032157,\n",
       "         -0.03463205,  0.00673363]]], dtype=float32)>"
      ]
     },
     "execution_count": 16,
     "metadata": {},
     "output_type": "execute_result"
    }
   ],
   "source": [
    "# Define where to get the data for our embeddings from\n",
    "inputs = embedding_layer(_input_data)\n",
    "inputs"
   ]
  },
  {
   "cell_type": "markdown",
   "metadata": {},
   "source": [
    "<h3>Constructing Recurrent Neural Networks</h3>\n"
   ]
  },
  {
   "cell_type": "markdown",
   "metadata": {},
   "source": [
    "In this step, we create the stacked LSTM using <b>tf.keras.layers.StackedRNNCells</b>, which is a 2 layer LSTM network:\n"
   ]
  },
  {
   "cell_type": "code",
   "execution_count": 17,
   "metadata": {
    "tags": []
   },
   "outputs": [],
   "source": [
    "lstm_cell_l1 = tf.keras.layers.LSTMCell(hidden_size_l1)\n",
    "lstm_cell_l2 = tf.keras.layers.LSTMCell(hidden_size_l2)"
   ]
  },
  {
   "cell_type": "code",
   "execution_count": 18,
   "metadata": {
    "tags": []
   },
   "outputs": [],
   "source": [
    "stacked_lstm = tf.keras.layers.StackedRNNCells([lstm_cell_l1, lstm_cell_l2])"
   ]
  },
  {
   "cell_type": "markdown",
   "metadata": {},
   "source": [
    "<b>tf.keras.layers.RNN</b> creates a recurrent neural network using <b>stacked_lstm</b>. \n",
    "\n",
    "The input should be a Tensor of shape: [batch_size, max_time, embedding_vector_size], in our case it would be (30, 20, 200)\n"
   ]
  },
  {
   "cell_type": "code",
   "execution_count": 19,
   "metadata": {
    "tags": []
   },
   "outputs": [],
   "source": [
    "layer  =  tf.keras.layers.RNN(stacked_lstm,[batch_size, num_steps],return_state=False,stateful=True,trainable=True)"
   ]
  },
  {
   "cell_type": "markdown",
   "metadata": {},
   "source": [
    "Also, we initialize the states of the nework:\n",
    "\n",
    "<h4>_initial_state</h4>\n",
    "\n",
    "For each LSTM, there are 2 state matrices, c\\_state and m\\_state.  c_state and m_state represent \"Memory State\" and \"Cell State\". Each hidden layer, has a vector of size 30, which keeps the states. so, for 200 hidden units in each LSTM, we have a matrix of size [30x200]\n"
   ]
  },
  {
   "cell_type": "code",
   "execution_count": 20,
   "metadata": {
    "tags": []
   },
   "outputs": [],
   "source": [
    "init_state = tf.Variable(tf.zeros([batch_size,embeding_vector_size]),trainable=False)"
   ]
  },
  {
   "cell_type": "code",
   "execution_count": 21,
   "metadata": {
    "tags": []
   },
   "outputs": [],
   "source": [
    "layer.inital_state = init_state"
   ]
  },
  {
   "cell_type": "code",
   "execution_count": 22,
   "metadata": {
    "tags": []
   },
   "outputs": [
    {
     "data": {
      "text/plain": [
       "<tf.Variable 'Variable:0' shape=(30, 200) dtype=float32, numpy=\n",
       "array([[0., 0., 0., ..., 0., 0., 0.],\n",
       "       [0., 0., 0., ..., 0., 0., 0.],\n",
       "       [0., 0., 0., ..., 0., 0., 0.],\n",
       "       ...,\n",
       "       [0., 0., 0., ..., 0., 0., 0.],\n",
       "       [0., 0., 0., ..., 0., 0., 0.],\n",
       "       [0., 0., 0., ..., 0., 0., 0.]], dtype=float32)>"
      ]
     },
     "execution_count": 22,
     "metadata": {},
     "output_type": "execute_result"
    }
   ],
   "source": [
    "layer.inital_state"
   ]
  },
  {
   "cell_type": "markdown",
   "metadata": {},
   "source": [
    "so, lets look at the outputs. The output of the stackedLSTM comes from 128 hidden_layer, and in each time step(=20), one of them get activated. we use the linear activation to map the 128 hidden layer to a [30X20 matrix]\n"
   ]
  },
  {
   "cell_type": "code",
   "execution_count": 23,
   "metadata": {
    "tags": []
   },
   "outputs": [],
   "source": [
    "outputs = layer(inputs)"
   ]
  },
  {
   "cell_type": "code",
   "execution_count": 24,
   "metadata": {
    "tags": []
   },
   "outputs": [
    {
     "data": {
      "text/plain": [
       "<tf.Tensor: shape=(30, 20, 128), dtype=float32, numpy=\n",
       "array([[[-9.35684438e-05, -1.01165578e-03, -2.43561619e-04, ...,\n",
       "          6.50768789e-06,  6.99030235e-04,  1.01959442e-04],\n",
       "        [ 5.77655446e-04, -1.77081872e-03, -3.85818916e-04, ...,\n",
       "         -2.04087246e-05,  1.44585292e-03, -7.43472425e-04],\n",
       "        [ 1.43073592e-03, -5.80229855e-04,  1.33026246e-04, ...,\n",
       "         -4.25397244e-04,  1.36562216e-03, -1.73324137e-03],\n",
       "        ...,\n",
       "        [-8.66132847e-04, -4.44289995e-03,  4.10676841e-03, ...,\n",
       "          7.62961712e-03,  3.73588788e-04,  7.16579938e-03],\n",
       "        [-1.59996236e-03, -4.74363938e-03,  3.31921712e-03, ...,\n",
       "          9.08802357e-03,  7.48310558e-05,  8.30778666e-03],\n",
       "        [-2.55918223e-03, -4.33437852e-03,  2.52086227e-03, ...,\n",
       "          9.97750834e-03,  1.40285550e-03,  6.00344501e-03]],\n",
       "\n",
       "       [[ 6.90252869e-04,  1.84068305e-03, -4.68244718e-04, ...,\n",
       "          2.99883162e-04, -4.55789850e-04, -5.03118092e-04],\n",
       "        [ 1.61988405e-03,  3.15670157e-03, -1.40574866e-03, ...,\n",
       "          5.95396559e-04, -9.26792854e-05, -1.25309441e-03],\n",
       "        [ 3.20295570e-04,  3.18841776e-03, -2.79280497e-03, ...,\n",
       "          1.74082816e-03,  1.75803341e-03, -2.60099955e-03],\n",
       "        ...,\n",
       "        [-8.66548903e-03, -3.58344987e-03,  3.89137329e-03, ...,\n",
       "         -1.29609893e-03, -4.02279198e-03,  4.28564893e-03],\n",
       "        [-7.99304061e-03, -3.19621805e-03,  3.12257186e-03, ...,\n",
       "         -1.75907405e-03, -3.68798152e-03,  5.57498215e-03],\n",
       "        [-6.48271246e-03, -3.76061979e-03,  2.41748872e-03, ...,\n",
       "         -1.28966849e-03, -3.16929747e-03,  7.52636651e-03]],\n",
       "\n",
       "       [[-1.56834978e-03, -6.62086706e-04,  1.01751508e-03, ...,\n",
       "         -2.40502322e-05,  1.49475248e-03, -6.26654131e-04],\n",
       "        [-1.84258865e-03, -1.82555395e-03,  1.86629349e-03, ...,\n",
       "          2.15317030e-03,  3.18844849e-03, -1.57321105e-03],\n",
       "        [-2.37364369e-03, -3.91629152e-03,  3.47436266e-03, ...,\n",
       "          2.30070646e-03,  4.32948582e-03, -1.97468442e-03],\n",
       "        ...,\n",
       "        [-3.69434501e-03, -5.03957504e-03, -3.58766923e-03, ...,\n",
       "          9.51483008e-03,  9.70776600e-04, -1.95780746e-03],\n",
       "        [-3.69065348e-03, -4.36772965e-03, -4.07722825e-03, ...,\n",
       "          9.54554323e-03,  6.84356375e-04, -2.42736447e-03],\n",
       "        [-2.13826285e-03, -4.02332097e-03, -4.95895790e-03, ...,\n",
       "          9.81588755e-03,  6.12642558e-04, -2.93466845e-03]],\n",
       "\n",
       "       ...,\n",
       "\n",
       "       [[-1.87869626e-03, -1.37529499e-03, -9.79050994e-04, ...,\n",
       "          1.16494123e-03, -1.13168804e-04, -4.20539989e-04],\n",
       "        [-2.20826338e-03, -1.65627571e-03, -1.36514567e-03, ...,\n",
       "          2.90709408e-03,  5.61024826e-05, -1.75252825e-03],\n",
       "        [-1.89008086e-03, -1.43303536e-03, -8.89294897e-04, ...,\n",
       "          3.78649612e-03, -2.80623877e-04, -1.58034614e-03],\n",
       "        ...,\n",
       "        [ 6.29807077e-03,  7.28601008e-04, -5.49789099e-03, ...,\n",
       "          4.92415158e-03, -3.00406571e-03, -3.24692857e-03],\n",
       "        [ 4.10926715e-03,  1.87321962e-03, -6.77806837e-03, ...,\n",
       "          4.56602033e-03, -3.83029156e-03, -4.04552650e-03],\n",
       "        [ 1.13952090e-03,  2.52224016e-03, -8.06088466e-03, ...,\n",
       "          4.81895730e-03, -2.37044436e-03, -5.24222432e-03]],\n",
       "\n",
       "       [[-2.62276502e-04,  7.88406469e-04, -5.23323251e-04, ...,\n",
       "         -6.53500378e-04,  1.14359846e-03, -1.25572813e-04],\n",
       "        [ 2.57463078e-04, -2.29498939e-04, -3.82859784e-04, ...,\n",
       "         -1.75660930e-03,  1.61567645e-03, -1.90954073e-04],\n",
       "        [-1.12605907e-04, -2.39368412e-03,  1.40876661e-03, ...,\n",
       "         -2.97035673e-03,  1.98723027e-03, -6.00131607e-05],\n",
       "        ...,\n",
       "        [ 2.55695195e-03, -2.70808931e-03, -4.08189511e-03, ...,\n",
       "          2.46584928e-03,  3.01549886e-03, -1.42891158e-03],\n",
       "        [ 3.57543025e-03, -2.08753278e-03, -5.32900263e-03, ...,\n",
       "          3.47205019e-03,  3.96780670e-03, -2.19054054e-03],\n",
       "        [ 3.94693436e-03, -2.54210224e-03, -5.91779640e-03, ...,\n",
       "          4.65622218e-03,  4.24009934e-03, -2.53221113e-03]],\n",
       "\n",
       "       [[-7.31021457e-04, -6.86915999e-04, -4.08013031e-04, ...,\n",
       "          8.00581009e-04,  5.40411565e-04, -6.59246347e-04],\n",
       "        [-1.42507232e-03, -1.57530466e-03, -1.34327286e-03, ...,\n",
       "         -9.07710521e-04,  8.20627902e-04, -7.30255619e-04],\n",
       "        [-1.33490819e-03, -1.25968282e-03, -2.40830542e-03, ...,\n",
       "         -7.57257920e-04,  1.45169580e-03, -1.34432933e-03],\n",
       "        ...,\n",
       "        [-1.76748098e-03,  8.34669918e-03, -4.53600613e-03, ...,\n",
       "          1.44868414e-03,  9.95575800e-04, -8.33886268e-04],\n",
       "        [-4.24338767e-04,  6.07468747e-03, -5.03262132e-03, ...,\n",
       "          1.05190335e-03,  2.07517692e-03, -2.60285713e-04],\n",
       "        [-1.28798987e-04,  4.76288097e-03, -7.02353427e-03, ...,\n",
       "          1.32588844e-03,  2.14225589e-03,  2.63507798e-04]]],\n",
       "      dtype=float32)>"
      ]
     },
     "execution_count": 24,
     "metadata": {},
     "output_type": "execute_result"
    }
   ],
   "source": [
    "outputs"
   ]
  },
  {
   "cell_type": "markdown",
   "metadata": {},
   "source": [
    "<h2>Dense layer</h2>\n",
    "We now create densely-connected neural network layer that would reshape the outputs tensor from  [30 x 20 x 128] to [30 x 20 x 10000].\n"
   ]
  },
  {
   "cell_type": "code",
   "execution_count": 25,
   "metadata": {
    "tags": []
   },
   "outputs": [],
   "source": [
    "dense = tf.keras.layers.Dense(vocab_size)"
   ]
  },
  {
   "cell_type": "code",
   "execution_count": 26,
   "metadata": {
    "tags": []
   },
   "outputs": [],
   "source": [
    "logits_outputs  = dense(outputs)"
   ]
  },
  {
   "cell_type": "code",
   "execution_count": 27,
   "metadata": {
    "tags": []
   },
   "outputs": [
    {
     "name": "stdout",
     "output_type": "stream",
     "text": [
      "shape of the output from dense layer:  (30, 20, 10000)\n"
     ]
    }
   ],
   "source": [
    "print(\"shape of the output from dense layer: \", logits_outputs.shape) #(batch_size, sequence_length, vocab_size)"
   ]
  },
  {
   "cell_type": "markdown",
   "metadata": {},
   "source": [
    "<h2>Activation layer</h2>\n",
    "\n",
    "\n",
    "A softmax activation layers is also then applied to derive the probability of the output being in any of the multiclass(10000 in this case) possibilities. \n"
   ]
  },
  {
   "cell_type": "code",
   "execution_count": 28,
   "metadata": {
    "tags": []
   },
   "outputs": [],
   "source": [
    "activation = tf.keras.layers.Activation('softmax')"
   ]
  },
  {
   "cell_type": "code",
   "execution_count": 29,
   "metadata": {
    "tags": []
   },
   "outputs": [],
   "source": [
    "output_words_prob = activation(logits_outputs)"
   ]
  },
  {
   "cell_type": "code",
   "execution_count": 30,
   "metadata": {
    "tags": []
   },
   "outputs": [
    {
     "name": "stdout",
     "output_type": "stream",
     "text": [
      "shape of the output from the activation layer:  (30, 20, 10000)\n"
     ]
    }
   ],
   "source": [
    "print(\"shape of the output from the activation layer: \", output_words_prob.shape) #(batch_size, sequence_length, vocab_size)"
   ]
  },
  {
   "cell_type": "markdown",
   "metadata": {},
   "source": [
    "Lets look at the probability of observing words for t=0 to t=20:\n"
   ]
  },
  {
   "cell_type": "code",
   "execution_count": 31,
   "metadata": {
    "tags": []
   },
   "outputs": [
    {
     "name": "stdout",
     "output_type": "stream",
     "text": [
      "The probability of observing words in t=0 to t=20 tf.Tensor(\n",
      "[[9.99958356e-05 9.99930999e-05 9.99934273e-05 ... 9.99804615e-05\n",
      "  9.99991098e-05 1.00024852e-04]\n",
      " [9.99653930e-05 9.99805125e-05 9.99810582e-05 ... 9.99597250e-05\n",
      "  9.99924596e-05 1.00050864e-04]\n",
      " [9.99670810e-05 9.99785261e-05 9.99767435e-05 ... 9.99693730e-05\n",
      "  9.99915283e-05 1.00065554e-04]\n",
      " ...\n",
      " [1.00000267e-04 1.00068464e-04 1.00086079e-04 ... 1.00004792e-04\n",
      "  9.99368713e-05 9.99478580e-05]\n",
      " [1.00003010e-04 1.00083613e-04 1.00093428e-04 ... 9.99913536e-05\n",
      "  9.99405747e-05 9.99503682e-05]\n",
      " [9.99969052e-05 1.00079058e-04 1.00093312e-04 ... 9.99963231e-05\n",
      "  9.99404147e-05 9.99448093e-05]], shape=(20, 10000), dtype=float32)\n"
     ]
    }
   ],
   "source": [
    "print(\"The probability of observing words in t=0 to t=20\", output_words_prob[0,0:num_steps])"
   ]
  },
  {
   "cell_type": "markdown",
   "metadata": {},
   "source": [
    "<h3>Prediction</h3>\n",
    "What is the word correspond to the probability output? Lets use the maximum probability:\n"
   ]
  },
  {
   "cell_type": "code",
   "execution_count": 32,
   "metadata": {
    "tags": []
   },
   "outputs": [
    {
     "data": {
      "text/plain": [
       "array([4428, 9092, 4720, 4720, 8267, 6344, 6344, 6520, 6520, 6520, 6677,\n",
       "       9210, 3990, 9210, 3658, 3658, 6170, 6170, 5758, 5758])"
      ]
     },
     "execution_count": 32,
     "metadata": {},
     "output_type": "execute_result"
    }
   ],
   "source": [
    "np.argmax(output_words_prob[0,0:num_steps], axis=1)"
   ]
  },
  {
   "cell_type": "markdown",
   "metadata": {},
   "source": [
    "So, what is the ground truth for the first word of first sentence? You can get it from target tensor, if you want to find the embedding vector: \n"
   ]
  },
  {
   "cell_type": "code",
   "execution_count": 33,
   "metadata": {
    "tags": []
   },
   "outputs": [
    {
     "data": {
      "text/plain": [
       "array([9971, 9972, 9974, 9975, 9976, 9980, 9981, 9982, 9983, 9984, 9986,\n",
       "       9987, 9988, 9989, 9991, 9992, 9993, 9994, 9995, 9996], dtype=int32)"
      ]
     },
     "execution_count": 33,
     "metadata": {},
     "output_type": "execute_result"
    }
   ],
   "source": [
    "_targets[0]"
   ]
  },
  {
   "cell_type": "markdown",
   "metadata": {},
   "source": [
    "<h4>Objective function</h4>\n",
    "\n",
    "\n",
    "How similar the predicted words are to the target words?\n",
    "\n",
    "\n",
    "Now we have to define our objective function, to calculate the similarity of predicted values to ground truth, and then, penalize the model with the error. Our objective is to minimize loss function, that is, to minimize the average negative log probability of the target words:\n",
    "\n",
    "$$\\text{loss} = -\\frac{1}{N}\\sum_{i=1}^{N} \\ln p_{\\text{target}_i}$$\n",
    "\n",
    "This function is already implemented and available in TensorFlow through *tf.keras.losses.sparse_categorical_crossentropy*. It calculates the categorical cross-entropy loss for <b>logits</b> and the <b>target</b> sequence.  \n",
    "\n",
    "The arguments of this function are:  \n",
    "<ul>\n",
    "    <li>logits: List of 2D Tensors of shape [batch_size x num_decoder_symbols].</li>  \n",
    "    <li>targets: List of 1D batch-sized int32 Tensors of the same length as logits.</li>   \n",
    "</ul>\n"
   ]
  },
  {
   "cell_type": "code",
   "execution_count": 34,
   "metadata": {
    "tags": []
   },
   "outputs": [],
   "source": [
    "def crossentropy(y_true, y_pred):\n",
    "    return tf.keras.losses.sparse_categorical_crossentropy(y_true, y_pred)"
   ]
  },
  {
   "cell_type": "code",
   "execution_count": 35,
   "metadata": {
    "tags": []
   },
   "outputs": [],
   "source": [
    "loss  = crossentropy(_targets, output_words_prob)"
   ]
  },
  {
   "cell_type": "markdown",
   "metadata": {},
   "source": [
    "Lets look at the first 10 values of loss:\n"
   ]
  },
  {
   "cell_type": "code",
   "execution_count": 36,
   "metadata": {
    "tags": []
   },
   "outputs": [
    {
     "data": {
      "text/plain": [
       "<tf.Tensor: shape=(10,), dtype=float32, numpy=\n",
       "array([9.2101965, 9.210556 , 9.210802 , 9.210812 , 9.210121 , 9.21093  ,\n",
       "       9.210337 , 9.210462 , 9.209412 , 9.2117605], dtype=float32)>"
      ]
     },
     "execution_count": 36,
     "metadata": {},
     "output_type": "execute_result"
    }
   ],
   "source": [
    "loss[0,:10]"
   ]
  },
  {
   "cell_type": "markdown",
   "metadata": {},
   "source": [
    "Now, we define cost as average of the losses:\n"
   ]
  },
  {
   "cell_type": "code",
   "execution_count": 37,
   "metadata": {
    "tags": []
   },
   "outputs": [
    {
     "data": {
      "text/plain": [
       "<tf.Tensor: shape=(), dtype=float32, numpy=184.20724>"
      ]
     },
     "execution_count": 37,
     "metadata": {},
     "output_type": "execute_result"
    }
   ],
   "source": [
    "cost = tf.reduce_sum(loss / batch_size)\n",
    "cost"
   ]
  },
  {
   "cell_type": "markdown",
   "metadata": {},
   "source": [
    "<h3>Training</h3>\n",
    "\n",
    "To do training for our network, we have to take the following steps:\n",
    "<ol>\n",
    "    <li>Define the optimizer.</li>\n",
    "    <li>Assemble layers to build model.</li>\n",
    "    <li>Calculate the gradients based on the loss function.</li>\n",
    "    <li>Apply the optimizer to the variables/gradients tuple.</li>\n",
    "</ol>\n"
   ]
  },
  {
   "cell_type": "markdown",
   "metadata": {},
   "source": [
    "<h4>1. Define Optimizer</h4>\n",
    "\n"
   ]
  },
  {
   "cell_type": "code",
   "execution_count": 38,
   "metadata": {
    "tags": []
   },
   "outputs": [
    {
     "name": "stderr",
     "output_type": "stream",
     "text": [
      "/home/jupyterlab/conda/envs/python/lib/python3.7/site-packages/keras/optimizers/optimizer_v2/gradient_descent.py:108: UserWarning: The `lr` argument is deprecated, use `learning_rate` instead.\n",
      "  super(SGD, self).__init__(name, **kwargs)\n"
     ]
    }
   ],
   "source": [
    "# Create a variable for the learning rate\n",
    "lr = tf.Variable(0.0, trainable=False)\n",
    "optimizer = tf.keras.optimizers.SGD(lr=lr, clipnorm=max_grad_norm)"
   ]
  },
  {
   "cell_type": "markdown",
   "metadata": {},
   "source": [
    "<h4>2. Assemble layers to build model.</h4>\n"
   ]
  },
  {
   "cell_type": "code",
   "execution_count": 39,
   "metadata": {
    "tags": []
   },
   "outputs": [
    {
     "name": "stdout",
     "output_type": "stream",
     "text": [
      "Model: \"sequential\"\n",
      "_________________________________________________________________\n",
      " Layer (type)                Output Shape              Param #   \n",
      "=================================================================\n",
      " embedding_vocab (Embedding)  (30, 20, 200)            2000000   \n",
      "                                                                 \n",
      " rnn (RNN)                   (30, 20, 128)             671088    \n",
      "                                                                 \n",
      " dense (Dense)               (30, 20, 10000)           1290000   \n",
      "                                                                 \n",
      " activation (Activation)     (30, 20, 10000)           0         \n",
      "                                                                 \n",
      "=================================================================\n",
      "Total params: 3,961,088\n",
      "Trainable params: 3,955,088\n",
      "Non-trainable params: 6,000\n",
      "_________________________________________________________________\n"
     ]
    }
   ],
   "source": [
    "model = tf.keras.Sequential()\n",
    "model.add(embedding_layer)\n",
    "model.add(layer)\n",
    "model.add(dense)\n",
    "model.add(activation)\n",
    "model.compile(loss=crossentropy, optimizer=optimizer)\n",
    "model.summary()"
   ]
  },
  {
   "cell_type": "markdown",
   "metadata": {},
   "source": [
    "\n",
    "<h4>2. Trainable Variables</h4>\n"
   ]
  },
  {
   "cell_type": "markdown",
   "metadata": {},
   "source": [
    "Defining a variable, if you passed <i>trainable=True</i>, the variable constructor automatically adds new variables to the graph collection <b>GraphKeys.TRAINABLE_VARIABLES</b>. Now, using <i>tf.trainable_variables()</i> you can get all variables created with <b>trainable=True</b>.\n"
   ]
  },
  {
   "cell_type": "code",
   "execution_count": 40,
   "metadata": {
    "tags": []
   },
   "outputs": [],
   "source": [
    "# Get all TensorFlow variables marked as \"trainable\" (i.e. all of them except _lr, which we just created)\n",
    "tvars = model.trainable_variables"
   ]
  },
  {
   "cell_type": "markdown",
   "metadata": {},
   "source": [
    "Note: we can find the name and scope of all variables:\n"
   ]
  },
  {
   "cell_type": "code",
   "execution_count": 41,
   "metadata": {
    "tags": []
   },
   "outputs": [
    {
     "data": {
      "text/plain": [
       "['embedding_vocab/embeddings:0',\n",
       " 'rnn/stacked_rnn_cells/lstm_cell/kernel:0',\n",
       " 'rnn/stacked_rnn_cells/lstm_cell/recurrent_kernel:0',\n",
       " 'rnn/stacked_rnn_cells/lstm_cell/bias:0',\n",
       " 'rnn/stacked_rnn_cells/lstm_cell_1/kernel:0',\n",
       " 'rnn/stacked_rnn_cells/lstm_cell_1/recurrent_kernel:0',\n",
       " 'rnn/stacked_rnn_cells/lstm_cell_1/bias:0',\n",
       " 'dense/kernel:0',\n",
       " 'dense/bias:0']"
      ]
     },
     "execution_count": 41,
     "metadata": {},
     "output_type": "execute_result"
    }
   ],
   "source": [
    "[v.name for v in tvars] "
   ]
  },
  {
   "cell_type": "markdown",
   "metadata": {},
   "source": [
    "<h4>3. Calculate the gradients based on the loss function</h4>\n"
   ]
  },
  {
   "cell_type": "markdown",
   "metadata": {},
   "source": [
    "**Gradient**: The gradient of a function is the slope of its derivative (line), or in other words, the rate of change of a function. It's a vector (a direction to move) that points in the direction of greatest increase of the function, and calculated by the <b>derivative</b> operation.\n"
   ]
  },
  {
   "cell_type": "markdown",
   "metadata": {},
   "source": [
    "First lets recall the gradient function using an toy example:\n",
    "$$ z = \\left(2x^2 + 3xy\\right)$$\n"
   ]
  },
  {
   "cell_type": "code",
   "execution_count": 42,
   "metadata": {
    "tags": []
   },
   "outputs": [],
   "source": [
    "x = tf.constant(1.0)\n",
    "y =  tf.constant(2.0)\n",
    "with tf.GradientTape(persistent=True) as g:\n",
    "    g.watch(x)\n",
    "    g.watch(y)\n",
    "    func_test = 2 * x * x + 3 * x * y"
   ]
  },
  {
   "cell_type": "markdown",
   "metadata": {},
   "source": [
    "The <b>tf.gradients()</b> function allows you to compute the symbolic gradient of one tensor with respect to one or more other tensors—including variables. <b>tf.gradients(func, xs)</b> constructs symbolic partial derivatives of sum of <b>func</b> w.r.t. <i>x</i> in <b>xs</b>. \n",
    "\n",
    "Now, lets look at the derivitive w.r.t. <b>var_x</b>:\n",
    "$$ \\frac{\\partial \\:}{\\partial \\:x}\\left(2x^2 + 3xy\\right) = 4x + 3y $$\n"
   ]
  },
  {
   "cell_type": "code",
   "execution_count": 43,
   "metadata": {
    "tags": []
   },
   "outputs": [
    {
     "name": "stdout",
     "output_type": "stream",
     "text": [
      "tf.Tensor(10.0, shape=(), dtype=float32)\n"
     ]
    }
   ],
   "source": [
    "var_grad = g.gradient(func_test, x) # Will compute to 10.0\n",
    "print(var_grad)"
   ]
  },
  {
   "cell_type": "markdown",
   "metadata": {},
   "source": [
    "the derivative w.r.t. <b>var_y</b>:\n",
    "$$ \\frac{\\partial \\:}{\\partial \\:y}\\left(2x^2 + 3xy\\right) = 3x $$\n"
   ]
  },
  {
   "cell_type": "code",
   "execution_count": 44,
   "metadata": {
    "tags": []
   },
   "outputs": [
    {
     "name": "stdout",
     "output_type": "stream",
     "text": [
      "tf.Tensor(3.0, shape=(), dtype=float32)\n"
     ]
    }
   ],
   "source": [
    "var_grad = g.gradient(func_test, y) # Will compute to 3.0\n",
    "print(var_grad)"
   ]
  },
  {
   "cell_type": "markdown",
   "metadata": {},
   "source": [
    "Now, we can look at gradients w.r.t all variables:\n"
   ]
  },
  {
   "cell_type": "code",
   "execution_count": 45,
   "metadata": {
    "tags": []
   },
   "outputs": [],
   "source": [
    "with tf.GradientTape() as tape:\n",
    "    # Forward pass.\n",
    "    output_words_prob = model(_input_data)\n",
    "    # Loss value for this batch.\n",
    "    loss  = crossentropy(_targets, output_words_prob)\n",
    "    cost = tf.reduce_sum(loss,axis=0) / batch_size"
   ]
  },
  {
   "cell_type": "code",
   "execution_count": 46,
   "metadata": {
    "tags": []
   },
   "outputs": [],
   "source": [
    "# Get gradients of loss wrt the trainable variables.\n",
    "grad_t_list = tape.gradient(cost, tvars)"
   ]
  },
  {
   "cell_type": "code",
   "execution_count": 47,
   "metadata": {
    "tags": []
   },
   "outputs": [
    {
     "name": "stdout",
     "output_type": "stream",
     "text": [
      "[<tensorflow.python.framework.indexed_slices.IndexedSlices object at 0x7f58de747410>, <tf.Tensor: shape=(200, 1024), dtype=float32, numpy=\n",
      "array([[ 1.59632634e-07, -1.30834522e-07,  1.96800272e-07, ...,\n",
      "         1.30818322e-07, -1.96428672e-07, -7.10876066e-07],\n",
      "       [ 1.56949710e-07, -2.48873619e-07,  3.15123060e-07, ...,\n",
      "         1.97746971e-07, -6.75782417e-08,  9.73872929e-08],\n",
      "       [-7.10844745e-07, -3.71628857e-07,  9.78122614e-08, ...,\n",
      "         2.39308378e-07,  1.47846180e-07, -1.82365071e-07],\n",
      "       ...,\n",
      "       [ 6.21753657e-07, -1.10735095e-06,  1.58651687e-07, ...,\n",
      "        -6.70536977e-08,  1.14338064e-07,  1.34430422e-08],\n",
      "       [-1.68841794e-07,  3.59718200e-07, -9.00036923e-07, ...,\n",
      "        -8.59996163e-08,  7.67342527e-08,  3.99179868e-07],\n",
      "       [ 6.66422466e-07,  1.37335789e-07,  2.89444728e-07, ...,\n",
      "         3.70765889e-07,  2.98980666e-07,  1.30502187e-07]], dtype=float32)>, <tf.Tensor: shape=(256, 1024), dtype=float32, numpy=\n",
      "array([[ 5.1490730e-08, -7.2949796e-08,  1.1626133e-07, ...,\n",
      "        -5.2027971e-08, -1.3574576e-07,  5.4496127e-08],\n",
      "       [-9.4891533e-08, -2.4077105e-08,  3.8072795e-08, ...,\n",
      "         1.7173967e-08, -2.9530142e-08,  1.6980202e-07],\n",
      "       [-1.1210754e-08,  8.5071960e-08,  1.2322077e-07, ...,\n",
      "        -2.5002059e-08, -6.6547862e-08, -1.0196439e-08],\n",
      "       ...,\n",
      "       [-7.6321797e-08,  4.0279637e-09, -6.4833515e-08, ...,\n",
      "        -7.8067679e-08, -7.3875974e-08, -5.6696166e-08],\n",
      "       [ 9.6290798e-09, -5.0235025e-09, -3.9189239e-08, ...,\n",
      "         2.5282709e-09,  7.2701859e-08, -4.5580759e-08],\n",
      "       [ 9.3597080e-08, -1.9351512e-07,  9.8475290e-09, ...,\n",
      "        -5.2863168e-08, -1.3771661e-08,  4.2148275e-07]], dtype=float32)>, <tf.Tensor: shape=(1024,), dtype=float32, numpy=\n",
      "array([-1.7663875e-05,  3.5374460e-06, -6.3776097e-06, ...,\n",
      "       -3.7569725e-06, -9.9828712e-06, -8.4287567e-06], dtype=float32)>, <tf.Tensor: shape=(256, 512), dtype=float32, numpy=\n",
      "array([[-1.46222192e-07,  1.19449709e-07, -1.67630034e-08, ...,\n",
      "        -1.28119268e-07,  1.00805963e-07, -1.69626048e-07],\n",
      "       [-2.83646756e-07,  9.33727193e-08,  6.46082015e-08, ...,\n",
      "        -9.23368759e-09, -1.30541608e-07, -4.54571065e-08],\n",
      "       [-1.63978299e-07,  1.47675877e-07,  3.96949389e-08, ...,\n",
      "         2.00776853e-07,  1.40486762e-07, -1.22710048e-07],\n",
      "       ...,\n",
      "       [-1.01554946e-07, -5.26200949e-08,  3.89633179e-08, ...,\n",
      "         2.56413273e-08, -2.72129697e-09,  2.78302679e-08],\n",
      "       [-8.04130451e-08, -1.26941373e-08, -2.17362754e-07, ...,\n",
      "         8.65290843e-08,  1.45878289e-07, -1.23182787e-07],\n",
      "       [ 1.54534277e-07,  8.09475154e-08, -1.48326450e-07, ...,\n",
      "         1.18719470e-08, -6.37463486e-08,  2.96106492e-07]], dtype=float32)>, <tf.Tensor: shape=(128, 512), dtype=float32, numpy=\n",
      "array([[ 1.63178385e-07, -1.18119274e-07,  9.05711488e-08, ...,\n",
      "        -1.09795167e-07, -1.70891994e-07,  6.66203022e-08],\n",
      "       [ 8.72554295e-08, -1.04537136e-07,  1.25904990e-07, ...,\n",
      "        -2.22811082e-07,  5.35296394e-08,  1.11076623e-08],\n",
      "       [ 1.26798767e-07, -1.00474502e-07, -1.87852308e-07, ...,\n",
      "        -2.26908284e-07,  5.69455310e-08, -2.95879602e-07],\n",
      "       ...,\n",
      "       [ 1.04251434e-07,  6.82443257e-09,  2.65777196e-08, ...,\n",
      "         9.78676411e-08, -1.83481504e-07,  9.08564743e-08],\n",
      "       [ 3.53829890e-08,  1.00993120e-07, -1.22959030e-08, ...,\n",
      "        -9.16798939e-08,  1.22920056e-07,  6.40384030e-08],\n",
      "       [ 2.80565473e-08, -1.72380737e-07,  1.46289921e-07, ...,\n",
      "        -1.52962144e-07,  3.32846817e-08, -2.50221746e-07]], dtype=float32)>, <tf.Tensor: shape=(512,), dtype=float32, numpy=\n",
      "array([-2.90001153e-05,  1.97645677e-05, -8.70823169e-06, -4.13327361e-05,\n",
      "       -3.42949897e-05, -5.92732431e-06, -2.04030803e-05,  1.78141454e-05,\n",
      "        3.21479056e-05,  1.41009477e-05,  2.73385303e-05, -2.36467349e-06,\n",
      "       -5.99153827e-06, -5.30730358e-05,  3.40309889e-05, -2.59112630e-06,\n",
      "       -2.14677420e-05, -1.11914396e-05,  1.76963949e-05, -6.49221465e-06,\n",
      "        7.98802921e-06, -4.75749403e-06,  3.80696583e-05,  7.18825831e-05,\n",
      "       -6.17429760e-06, -1.31572542e-05,  6.94163100e-06, -3.06406255e-05,\n",
      "        1.52129851e-05, -1.11140980e-05,  1.66505179e-05, -1.02272052e-05,\n",
      "       -6.90650904e-06, -1.90635274e-05, -1.06161078e-05, -5.80179403e-07,\n",
      "       -3.98541442e-06, -6.29720598e-05,  3.00157444e-05,  6.57137643e-05,\n",
      "        6.55416716e-06, -6.28015405e-05,  2.82971087e-06,  1.15010516e-05,\n",
      "        6.66644337e-05,  2.82406399e-05, -1.12922380e-05,  2.12047780e-05,\n",
      "        4.21771256e-06,  4.03252416e-05, -2.25134718e-05, -3.09344905e-05,\n",
      "        2.02038063e-06, -4.68423650e-06,  3.09054594e-05, -4.54082738e-06,\n",
      "       -2.51553956e-06, -8.03497896e-05, -1.27544088e-04, -4.53477514e-05,\n",
      "        1.13116585e-06, -1.60313684e-05, -4.30345244e-05, -1.19283404e-05,\n",
      "        1.06465013e-05, -3.56609671e-05, -6.29020360e-05,  1.13145261e-05,\n",
      "       -5.03570918e-05,  4.41641896e-06, -1.81493015e-05, -8.94940149e-06,\n",
      "       -2.90844255e-05,  5.40249312e-06, -5.09244055e-05,  2.08181737e-05,\n",
      "       -1.43738434e-05,  2.22414492e-05,  5.53860154e-05,  4.32080833e-06,\n",
      "        2.56679596e-06, -7.36241200e-05,  4.89782860e-06,  4.41007724e-05,\n",
      "        5.14843850e-05,  9.50350659e-06,  2.04722310e-05,  5.27028351e-05,\n",
      "        4.85874589e-05,  2.80702479e-05, -5.97672624e-06,  8.03570401e-06,\n",
      "        8.60118234e-06,  1.22973524e-05, -1.04800383e-05,  1.13985789e-05,\n",
      "       -4.83318290e-05, -1.14511440e-05,  3.17551385e-05,  5.23212002e-05,\n",
      "       -2.07624653e-05,  1.70206895e-05,  2.87976454e-05, -4.62714706e-05,\n",
      "        1.96440014e-05, -1.41509081e-05, -9.12973610e-06,  4.55508280e-06,\n",
      "        6.84900442e-05, -7.27312454e-07,  5.92988908e-05,  2.21718456e-05,\n",
      "        2.84140224e-05,  1.03553857e-05,  6.21755898e-05,  2.97175684e-05,\n",
      "       -1.41850862e-04,  2.86032500e-05,  2.14355750e-05,  3.46652678e-06,\n",
      "        1.42471836e-04,  5.36643347e-06, -1.34948878e-05,  3.81656791e-05,\n",
      "       -4.98588488e-05,  2.93728899e-05,  2.21483951e-05,  3.19770152e-06,\n",
      "       -3.88476146e-05,  4.18140589e-05, -4.25882718e-06, -4.11733854e-05,\n",
      "       -5.89337433e-05, -4.17614938e-05, -2.05044598e-05,  2.39622914e-05,\n",
      "        4.09337736e-05,  1.19450033e-05,  3.41051964e-05, -2.14410629e-05,\n",
      "       -7.53589120e-08, -7.36362708e-05,  6.02246073e-05, -1.27649491e-06,\n",
      "       -3.33698044e-05, -1.02898102e-05, -2.56649764e-05, -2.15950313e-05,\n",
      "        1.80871939e-05,  7.77909736e-06,  5.57661479e-05,  7.17766889e-05,\n",
      "       -1.10520750e-05, -3.18389502e-05,  1.02965741e-05, -4.02609257e-05,\n",
      "        1.44623937e-05,  9.74449722e-06,  1.46902930e-05, -1.29628152e-05,\n",
      "       -1.16111096e-06, -4.29378269e-05, -1.61795124e-05, -9.13915756e-06,\n",
      "       -2.94744568e-05, -7.64290962e-05,  2.14079446e-05,  9.95996743e-05,\n",
      "        6.72092483e-07, -1.19567201e-04,  1.64870853e-05,  2.51085294e-06,\n",
      "        1.10313427e-04,  2.74639606e-05, -2.13771254e-05,  3.56247838e-05,\n",
      "        2.81968551e-05,  3.54063777e-05, -5.52831916e-05, -5.07633922e-05,\n",
      "       -1.45409467e-06,  4.66232541e-06,  2.31742579e-05,  1.37789366e-05,\n",
      "        4.23106940e-06, -1.32385729e-04, -2.03612552e-04, -1.05447243e-05,\n",
      "        2.24046762e-05, -1.24258095e-05, -6.83706894e-05,  6.81580786e-07,\n",
      "        1.52117282e-05, -5.48025564e-05, -1.20724246e-04,  2.23504649e-05,\n",
      "       -9.97730313e-05,  6.79158347e-06, -2.27398777e-05,  4.46136437e-06,\n",
      "       -6.59206562e-05, -7.93372692e-06, -7.30920365e-05,  1.82413150e-05,\n",
      "       -1.28864249e-05,  1.57175891e-05,  5.97440048e-05,  2.32271577e-06,\n",
      "        3.48761091e-06, -1.20690820e-04, -2.43460636e-05,  3.33208773e-05,\n",
      "        5.89658084e-05, -1.30841199e-05,  4.64283585e-05,  7.72055500e-05,\n",
      "        7.03058686e-05,  1.39940239e-05, -1.27723197e-05,  2.90614844e-06,\n",
      "       -1.59403498e-07, -2.57022748e-06, -2.23775842e-05,  1.35820046e-05,\n",
      "       -7.78119720e-05, -1.74318375e-05,  3.17508820e-05,  5.36679472e-05,\n",
      "       -2.82492365e-05,  1.54641803e-05,  4.30684377e-05, -2.83753179e-05,\n",
      "        3.04594269e-05, -2.70229721e-05, -2.99946714e-05,  1.46561124e-05,\n",
      "        8.83367538e-05,  1.88732656e-06,  8.71530792e-05,  4.41166849e-05,\n",
      "        7.08993321e-05,  5.14064814e-05,  1.02125414e-04,  3.47784080e-05,\n",
      "       -2.31990009e-04,  2.77260442e-05,  4.23645688e-05,  1.23117716e-05,\n",
      "        2.11913342e-04,  4.26999941e-06,  1.13702845e-05,  2.81429748e-05,\n",
      "       -9.53504059e-05,  2.84796479e-05,  1.93050473e-05, -1.24914175e-06,\n",
      "        8.25321651e-04, -2.10221224e-02, -8.30058847e-03, -1.07947532e-02,\n",
      "       -5.36872670e-02, -1.56064602e-02, -2.64120437e-02,  2.23361440e-02,\n",
      "       -4.48626131e-02, -1.60391182e-02, -3.83092687e-02,  9.26901679e-03,\n",
      "       -5.62244467e-03, -4.88789007e-02,  1.83021314e-02, -3.46875843e-03,\n",
      "        1.80247594e-02,  1.04102660e-02, -1.55277308e-02,  2.33648270e-02,\n",
      "       -4.23641279e-02,  6.39711246e-02,  3.29931937e-02, -2.73240097e-02,\n",
      "        1.57289989e-02,  1.79450624e-02,  1.70803126e-02,  2.02854667e-02,\n",
      "        3.37778889e-02,  4.76597995e-02,  2.03639199e-03,  1.80616719e-03,\n",
      "       -1.84036344e-02,  6.53516129e-03, -8.45865719e-03,  1.91158094e-02,\n",
      "       -3.28472406e-02,  1.48449391e-02, -3.97589393e-02,  5.01596704e-02,\n",
      "       -7.29782740e-03, -5.06600142e-02,  2.12839083e-03, -2.44983472e-03,\n",
      "       -4.40775789e-02, -9.92535800e-03,  7.75040826e-03,  9.71581414e-03,\n",
      "        9.62676480e-04,  1.99863724e-02,  2.98892930e-02,  6.16490878e-02,\n",
      "        1.64282098e-02,  3.29710394e-02, -3.85813639e-02,  1.64384805e-02,\n",
      "        3.71382684e-02,  7.90105090e-02,  2.56780609e-02, -1.22822728e-02,\n",
      "       -7.09995441e-03,  5.67361852e-03, -4.65906560e-02,  2.31864559e-03,\n",
      "       -1.26086334e-02,  9.41963028e-03, -7.04013407e-02, -2.67598759e-02,\n",
      "        4.21673246e-03,  2.45333873e-02, -7.38500571e-03,  1.95566155e-02,\n",
      "       -3.04828323e-02, -2.03424469e-02,  3.74786034e-02, -4.71208990e-02,\n",
      "       -2.03324389e-02, -6.96854945e-03, -2.45591477e-02, -3.74325737e-03,\n",
      "       -9.42206010e-04, -5.40777594e-02, -9.04617086e-03, -1.35911442e-02,\n",
      "       -1.56500414e-02,  5.96325696e-02,  1.85577646e-02,  2.93798223e-02,\n",
      "        4.05648910e-02,  2.98423562e-02, -4.08205017e-02, -1.65726412e-02,\n",
      "       -3.13832983e-03,  4.08859085e-03,  2.87759192e-02,  3.46711790e-03,\n",
      "       -2.55606435e-02,  1.26388576e-02, -3.04218940e-02, -4.73317392e-02,\n",
      "       -2.05961075e-02,  4.46210662e-03,  3.32217105e-02,  2.74443440e-02,\n",
      "        2.75251865e-02, -6.31516427e-03, -2.26535797e-02, -9.87313688e-05,\n",
      "        4.05958705e-02, -3.37799592e-03,  3.45275179e-02, -4.00766311e-03,\n",
      "        1.96463913e-02, -2.21720841e-02, -1.45127587e-02, -2.89096814e-02,\n",
      "        6.61612749e-02,  1.35606313e-02,  1.57713294e-02, -2.66089961e-02,\n",
      "       -7.21766129e-02, -5.10057434e-03, -2.09657531e-02,  1.60202605e-03,\n",
      "        4.35398445e-02,  2.91602276e-02,  7.91730266e-03, -4.11017276e-02,\n",
      "       -3.87264736e-05,  2.61392379e-05, -1.72752552e-05, -4.59229268e-05,\n",
      "       -4.53130015e-05, -1.24203725e-05, -3.34460638e-05,  1.25880988e-05,\n",
      "        3.63292093e-05,  1.74716679e-05,  3.05563008e-05, -3.51816698e-06,\n",
      "       -4.48506398e-07, -6.08201044e-05,  4.22752928e-05, -2.83723512e-06,\n",
      "       -1.38765672e-05, -2.39315959e-05,  1.70659059e-05, -8.92534717e-06,\n",
      "        6.76384025e-06,  5.88932380e-07,  3.23046370e-05,  8.43658054e-05,\n",
      "       -1.00186444e-05, -1.59639076e-05,  9.50416961e-06, -2.79138694e-05,\n",
      "        1.16541560e-05, -1.89098937e-05,  1.78499868e-05, -7.66112953e-06,\n",
      "       -1.21666744e-05, -2.64010032e-05, -1.83586817e-05,  5.43206625e-06,\n",
      "       -3.98421571e-06, -6.83178587e-05,  4.35928559e-05,  7.44906138e-05,\n",
      "        5.78996787e-06, -6.95942799e-05,  8.60980890e-06,  1.31983234e-05,\n",
      "        7.21653996e-05,  2.37236418e-05, -1.14516160e-05,  2.54652805e-05,\n",
      "        1.59994070e-05,  4.25748804e-05, -3.34734941e-05, -3.55681477e-05,\n",
      "       -1.52092343e-06, -6.16904208e-06,  2.66992647e-05, -1.76871927e-05,\n",
      "       -3.06138554e-06, -1.04325329e-04, -1.41545926e-04, -3.91025715e-05,\n",
      "        6.42907617e-06, -1.70424319e-05, -4.96270586e-05, -1.35717564e-05,\n",
      "        1.48344498e-05, -3.72879513e-05, -7.95867672e-05,  2.41270918e-05,\n",
      "       -5.24948264e-05,  8.56833140e-06, -1.89897037e-05, -7.85269003e-06,\n",
      "       -4.25349717e-05,  3.00785950e-06, -5.70848060e-05,  1.92880343e-05,\n",
      "       -1.83398151e-05,  2.14507781e-05,  5.47429918e-05,  1.28753818e-05,\n",
      "        1.79380015e-06, -9.57368247e-05, -5.50380673e-06,  4.70999075e-05,\n",
      "        5.06639553e-05, -3.20286927e-06,  2.29634206e-05,  5.79905318e-05,\n",
      "        4.90359453e-05,  1.76520552e-05,  1.32779314e-06,  1.35458122e-05,\n",
      "        3.55853444e-06,  9.52906339e-06, -6.20406081e-06,  1.18482149e-05,\n",
      "       -5.71054115e-05, -8.56756742e-06,  4.06185463e-05,  4.77386675e-05,\n",
      "       -2.94447091e-05,  1.33199501e-05,  3.45762164e-05, -3.97705589e-05,\n",
      "        1.60058698e-05, -1.53777037e-05, -7.35501453e-06,  1.13034184e-05,\n",
      "        8.25524985e-05, -2.53268399e-06,  6.75392512e-05,  3.37626843e-05,\n",
      "        3.41549021e-05,  1.20032691e-05,  7.10699605e-05,  2.47153657e-05,\n",
      "       -1.62338867e-04,  3.08631352e-05,  2.09888312e-05,  6.74461990e-06,\n",
      "        1.62556898e-04,  1.39302392e-06, -1.13034366e-06,  4.27398809e-05,\n",
      "       -7.09782034e-05,  3.47259775e-05,  2.23349634e-05,  3.39172107e-06],\n",
      "      dtype=float32)>, <tf.Tensor: shape=(128, 10000), dtype=float32, numpy=\n",
      "array([[ 2.99086678e-03,  3.57720349e-03,  1.21047476e-03, ...,\n",
      "        -4.83462236e-06, -4.83261283e-06, -4.83503300e-06],\n",
      "       [ 1.31232408e-03,  2.42616236e-03,  1.50240608e-03, ...,\n",
      "        -3.73128501e-06, -3.72971135e-06, -3.73166426e-06],\n",
      "       [-1.90822291e-04,  2.82060821e-03,  9.73823247e-04, ...,\n",
      "        -1.27580290e-06, -1.27727333e-06, -1.27353678e-06],\n",
      "       ...,\n",
      "       [-8.29941593e-04, -2.43945979e-05, -8.91492644e-04, ...,\n",
      "         2.71106501e-06,  2.70980490e-06,  2.70858118e-06],\n",
      "       [-1.04590075e-03, -2.38334970e-03, -1.90612243e-03, ...,\n",
      "         2.65322228e-06,  2.65163976e-06,  2.65226390e-06],\n",
      "       [ 1.11868896e-04, -3.86143947e-04, -6.03800872e-04, ...,\n",
      "         1.38086841e-06,  1.38297492e-06,  1.38266773e-06]], dtype=float32)>, <tf.Tensor: shape=(10000,), dtype=float32, numpy=\n",
      "array([-0.7979981 , -1.0313314 , -1.0313315 , ...,  0.00200041,\n",
      "        0.00200015,  0.00200013], dtype=float32)>]\n"
     ]
    }
   ],
   "source": [
    "print(grad_t_list)"
   ]
  },
  {
   "cell_type": "markdown",
   "metadata": {},
   "source": [
    "\n",
    "\n",
    "\n",
    "now, we have a list of tensors, t-list. We can use it to find clipped tensors. <b>clip_by_global_norm</b> clips values of multiple tensors by the ratio of the sum of their norms.\n",
    "\n",
    "<b>clip_by_global_norm</b> get <i>t-list</i> as input and returns 2 things:\n",
    "<ul>\n",
    "    <li>a list of clipped tensors, so called <i>list_clipped</i></li> \n",
    "    <li>the global norm (global_norm) of all tensors in t_list</li> \n",
    "</ul>\n"
   ]
  },
  {
   "cell_type": "code",
   "execution_count": 48,
   "metadata": {
    "tags": []
   },
   "outputs": [
    {
     "data": {
      "text/plain": [
       "[<tensorflow.python.framework.indexed_slices.IndexedSlices at 0x7f5940932b90>,\n",
       " <tf.Tensor: shape=(200, 1024), dtype=float32, numpy=\n",
       " array([[ 1.59632634e-07, -1.30834522e-07,  1.96800272e-07, ...,\n",
       "          1.30818322e-07, -1.96428672e-07, -7.10876066e-07],\n",
       "        [ 1.56949710e-07, -2.48873619e-07,  3.15123060e-07, ...,\n",
       "          1.97746971e-07, -6.75782417e-08,  9.73872929e-08],\n",
       "        [-7.10844745e-07, -3.71628857e-07,  9.78122614e-08, ...,\n",
       "          2.39308378e-07,  1.47846180e-07, -1.82365071e-07],\n",
       "        ...,\n",
       "        [ 6.21753657e-07, -1.10735095e-06,  1.58651687e-07, ...,\n",
       "         -6.70536977e-08,  1.14338064e-07,  1.34430422e-08],\n",
       "        [-1.68841794e-07,  3.59718200e-07, -9.00036923e-07, ...,\n",
       "         -8.59996163e-08,  7.67342527e-08,  3.99179868e-07],\n",
       "        [ 6.66422466e-07,  1.37335789e-07,  2.89444728e-07, ...,\n",
       "          3.70765889e-07,  2.98980666e-07,  1.30502187e-07]], dtype=float32)>,\n",
       " <tf.Tensor: shape=(256, 1024), dtype=float32, numpy=\n",
       " array([[ 5.1490730e-08, -7.2949796e-08,  1.1626133e-07, ...,\n",
       "         -5.2027971e-08, -1.3574576e-07,  5.4496127e-08],\n",
       "        [-9.4891533e-08, -2.4077105e-08,  3.8072795e-08, ...,\n",
       "          1.7173967e-08, -2.9530142e-08,  1.6980202e-07],\n",
       "        [-1.1210754e-08,  8.5071960e-08,  1.2322077e-07, ...,\n",
       "         -2.5002059e-08, -6.6547862e-08, -1.0196439e-08],\n",
       "        ...,\n",
       "        [-7.6321797e-08,  4.0279637e-09, -6.4833515e-08, ...,\n",
       "         -7.8067679e-08, -7.3875974e-08, -5.6696166e-08],\n",
       "        [ 9.6290798e-09, -5.0235025e-09, -3.9189239e-08, ...,\n",
       "          2.5282709e-09,  7.2701859e-08, -4.5580759e-08],\n",
       "        [ 9.3597080e-08, -1.9351512e-07,  9.8475290e-09, ...,\n",
       "         -5.2863168e-08, -1.3771661e-08,  4.2148275e-07]], dtype=float32)>,\n",
       " <tf.Tensor: shape=(1024,), dtype=float32, numpy=\n",
       " array([-1.7663875e-05,  3.5374460e-06, -6.3776097e-06, ...,\n",
       "        -3.7569725e-06, -9.9828712e-06, -8.4287567e-06], dtype=float32)>,\n",
       " <tf.Tensor: shape=(256, 512), dtype=float32, numpy=\n",
       " array([[-1.46222192e-07,  1.19449709e-07, -1.67630034e-08, ...,\n",
       "         -1.28119268e-07,  1.00805963e-07, -1.69626048e-07],\n",
       "        [-2.83646756e-07,  9.33727193e-08,  6.46082015e-08, ...,\n",
       "         -9.23368759e-09, -1.30541608e-07, -4.54571065e-08],\n",
       "        [-1.63978299e-07,  1.47675877e-07,  3.96949389e-08, ...,\n",
       "          2.00776853e-07,  1.40486762e-07, -1.22710048e-07],\n",
       "        ...,\n",
       "        [-1.01554946e-07, -5.26200949e-08,  3.89633179e-08, ...,\n",
       "          2.56413273e-08, -2.72129697e-09,  2.78302679e-08],\n",
       "        [-8.04130451e-08, -1.26941373e-08, -2.17362754e-07, ...,\n",
       "          8.65290843e-08,  1.45878289e-07, -1.23182787e-07],\n",
       "        [ 1.54534277e-07,  8.09475154e-08, -1.48326450e-07, ...,\n",
       "          1.18719470e-08, -6.37463486e-08,  2.96106492e-07]], dtype=float32)>,\n",
       " <tf.Tensor: shape=(128, 512), dtype=float32, numpy=\n",
       " array([[ 1.63178385e-07, -1.18119274e-07,  9.05711488e-08, ...,\n",
       "         -1.09795167e-07, -1.70891994e-07,  6.66203022e-08],\n",
       "        [ 8.72554295e-08, -1.04537136e-07,  1.25904990e-07, ...,\n",
       "         -2.22811082e-07,  5.35296394e-08,  1.11076623e-08],\n",
       "        [ 1.26798767e-07, -1.00474502e-07, -1.87852308e-07, ...,\n",
       "         -2.26908284e-07,  5.69455310e-08, -2.95879602e-07],\n",
       "        ...,\n",
       "        [ 1.04251434e-07,  6.82443257e-09,  2.65777196e-08, ...,\n",
       "          9.78676411e-08, -1.83481504e-07,  9.08564743e-08],\n",
       "        [ 3.53829890e-08,  1.00993120e-07, -1.22959030e-08, ...,\n",
       "         -9.16798939e-08,  1.22920056e-07,  6.40384030e-08],\n",
       "        [ 2.80565473e-08, -1.72380737e-07,  1.46289921e-07, ...,\n",
       "         -1.52962144e-07,  3.32846817e-08, -2.50221746e-07]], dtype=float32)>,\n",
       " <tf.Tensor: shape=(512,), dtype=float32, numpy=\n",
       " array([-2.90001153e-05,  1.97645677e-05, -8.70823169e-06, -4.13327361e-05,\n",
       "        -3.42949897e-05, -5.92732431e-06, -2.04030803e-05,  1.78141454e-05,\n",
       "         3.21479056e-05,  1.41009477e-05,  2.73385303e-05, -2.36467349e-06,\n",
       "        -5.99153827e-06, -5.30730358e-05,  3.40309889e-05, -2.59112630e-06,\n",
       "        -2.14677420e-05, -1.11914396e-05,  1.76963949e-05, -6.49221465e-06,\n",
       "         7.98802921e-06, -4.75749403e-06,  3.80696583e-05,  7.18825831e-05,\n",
       "        -6.17429760e-06, -1.31572542e-05,  6.94163100e-06, -3.06406255e-05,\n",
       "         1.52129851e-05, -1.11140980e-05,  1.66505179e-05, -1.02272052e-05,\n",
       "        -6.90650904e-06, -1.90635274e-05, -1.06161078e-05, -5.80179403e-07,\n",
       "        -3.98541442e-06, -6.29720598e-05,  3.00157444e-05,  6.57137643e-05,\n",
       "         6.55416716e-06, -6.28015405e-05,  2.82971087e-06,  1.15010516e-05,\n",
       "         6.66644337e-05,  2.82406399e-05, -1.12922380e-05,  2.12047780e-05,\n",
       "         4.21771256e-06,  4.03252416e-05, -2.25134718e-05, -3.09344905e-05,\n",
       "         2.02038063e-06, -4.68423650e-06,  3.09054594e-05, -4.54082738e-06,\n",
       "        -2.51553956e-06, -8.03497896e-05, -1.27544088e-04, -4.53477514e-05,\n",
       "         1.13116585e-06, -1.60313684e-05, -4.30345244e-05, -1.19283404e-05,\n",
       "         1.06465013e-05, -3.56609671e-05, -6.29020360e-05,  1.13145261e-05,\n",
       "        -5.03570918e-05,  4.41641896e-06, -1.81493015e-05, -8.94940149e-06,\n",
       "        -2.90844255e-05,  5.40249312e-06, -5.09244055e-05,  2.08181737e-05,\n",
       "        -1.43738434e-05,  2.22414492e-05,  5.53860154e-05,  4.32080833e-06,\n",
       "         2.56679596e-06, -7.36241200e-05,  4.89782860e-06,  4.41007724e-05,\n",
       "         5.14843850e-05,  9.50350659e-06,  2.04722310e-05,  5.27028351e-05,\n",
       "         4.85874589e-05,  2.80702479e-05, -5.97672624e-06,  8.03570401e-06,\n",
       "         8.60118234e-06,  1.22973524e-05, -1.04800383e-05,  1.13985789e-05,\n",
       "        -4.83318290e-05, -1.14511440e-05,  3.17551385e-05,  5.23212002e-05,\n",
       "        -2.07624653e-05,  1.70206895e-05,  2.87976454e-05, -4.62714706e-05,\n",
       "         1.96440014e-05, -1.41509081e-05, -9.12973610e-06,  4.55508280e-06,\n",
       "         6.84900442e-05, -7.27312454e-07,  5.92988908e-05,  2.21718456e-05,\n",
       "         2.84140224e-05,  1.03553857e-05,  6.21755898e-05,  2.97175684e-05,\n",
       "        -1.41850862e-04,  2.86032500e-05,  2.14355750e-05,  3.46652678e-06,\n",
       "         1.42471836e-04,  5.36643347e-06, -1.34948878e-05,  3.81656791e-05,\n",
       "        -4.98588488e-05,  2.93728899e-05,  2.21483951e-05,  3.19770152e-06,\n",
       "        -3.88476146e-05,  4.18140589e-05, -4.25882718e-06, -4.11733854e-05,\n",
       "        -5.89337433e-05, -4.17614938e-05, -2.05044598e-05,  2.39622914e-05,\n",
       "         4.09337736e-05,  1.19450033e-05,  3.41051964e-05, -2.14410629e-05,\n",
       "        -7.53589120e-08, -7.36362708e-05,  6.02246073e-05, -1.27649491e-06,\n",
       "        -3.33698044e-05, -1.02898102e-05, -2.56649764e-05, -2.15950313e-05,\n",
       "         1.80871939e-05,  7.77909736e-06,  5.57661479e-05,  7.17766889e-05,\n",
       "        -1.10520750e-05, -3.18389502e-05,  1.02965741e-05, -4.02609257e-05,\n",
       "         1.44623937e-05,  9.74449722e-06,  1.46902930e-05, -1.29628152e-05,\n",
       "        -1.16111096e-06, -4.29378269e-05, -1.61795124e-05, -9.13915756e-06,\n",
       "        -2.94744568e-05, -7.64290962e-05,  2.14079446e-05,  9.95996743e-05,\n",
       "         6.72092483e-07, -1.19567201e-04,  1.64870853e-05,  2.51085294e-06,\n",
       "         1.10313427e-04,  2.74639606e-05, -2.13771254e-05,  3.56247838e-05,\n",
       "         2.81968551e-05,  3.54063777e-05, -5.52831916e-05, -5.07633922e-05,\n",
       "        -1.45409467e-06,  4.66232541e-06,  2.31742579e-05,  1.37789366e-05,\n",
       "         4.23106940e-06, -1.32385729e-04, -2.03612552e-04, -1.05447243e-05,\n",
       "         2.24046762e-05, -1.24258095e-05, -6.83706894e-05,  6.81580786e-07,\n",
       "         1.52117282e-05, -5.48025564e-05, -1.20724246e-04,  2.23504649e-05,\n",
       "        -9.97730313e-05,  6.79158347e-06, -2.27398777e-05,  4.46136437e-06,\n",
       "        -6.59206562e-05, -7.93372692e-06, -7.30920365e-05,  1.82413150e-05,\n",
       "        -1.28864249e-05,  1.57175891e-05,  5.97440048e-05,  2.32271577e-06,\n",
       "         3.48761091e-06, -1.20690820e-04, -2.43460636e-05,  3.33208773e-05,\n",
       "         5.89658084e-05, -1.30841199e-05,  4.64283585e-05,  7.72055500e-05,\n",
       "         7.03058686e-05,  1.39940239e-05, -1.27723197e-05,  2.90614844e-06,\n",
       "        -1.59403498e-07, -2.57022748e-06, -2.23775842e-05,  1.35820046e-05,\n",
       "        -7.78119720e-05, -1.74318375e-05,  3.17508820e-05,  5.36679472e-05,\n",
       "        -2.82492365e-05,  1.54641803e-05,  4.30684377e-05, -2.83753179e-05,\n",
       "         3.04594269e-05, -2.70229721e-05, -2.99946714e-05,  1.46561124e-05,\n",
       "         8.83367538e-05,  1.88732656e-06,  8.71530792e-05,  4.41166849e-05,\n",
       "         7.08993321e-05,  5.14064814e-05,  1.02125414e-04,  3.47784080e-05,\n",
       "        -2.31990009e-04,  2.77260442e-05,  4.23645688e-05,  1.23117716e-05,\n",
       "         2.11913342e-04,  4.26999941e-06,  1.13702845e-05,  2.81429748e-05,\n",
       "        -9.53504059e-05,  2.84796479e-05,  1.93050473e-05, -1.24914175e-06,\n",
       "         8.25321651e-04, -2.10221224e-02, -8.30058847e-03, -1.07947532e-02,\n",
       "        -5.36872670e-02, -1.56064602e-02, -2.64120437e-02,  2.23361440e-02,\n",
       "        -4.48626131e-02, -1.60391182e-02, -3.83092687e-02,  9.26901679e-03,\n",
       "        -5.62244467e-03, -4.88789007e-02,  1.83021314e-02, -3.46875843e-03,\n",
       "         1.80247594e-02,  1.04102660e-02, -1.55277308e-02,  2.33648270e-02,\n",
       "        -4.23641279e-02,  6.39711246e-02,  3.29931937e-02, -2.73240097e-02,\n",
       "         1.57289989e-02,  1.79450624e-02,  1.70803126e-02,  2.02854667e-02,\n",
       "         3.37778889e-02,  4.76597995e-02,  2.03639199e-03,  1.80616719e-03,\n",
       "        -1.84036344e-02,  6.53516129e-03, -8.45865719e-03,  1.91158094e-02,\n",
       "        -3.28472406e-02,  1.48449391e-02, -3.97589393e-02,  5.01596704e-02,\n",
       "        -7.29782740e-03, -5.06600142e-02,  2.12839083e-03, -2.44983472e-03,\n",
       "        -4.40775789e-02, -9.92535800e-03,  7.75040826e-03,  9.71581414e-03,\n",
       "         9.62676480e-04,  1.99863724e-02,  2.98892930e-02,  6.16490878e-02,\n",
       "         1.64282098e-02,  3.29710394e-02, -3.85813639e-02,  1.64384805e-02,\n",
       "         3.71382684e-02,  7.90105090e-02,  2.56780609e-02, -1.22822728e-02,\n",
       "        -7.09995441e-03,  5.67361852e-03, -4.65906560e-02,  2.31864559e-03,\n",
       "        -1.26086334e-02,  9.41963028e-03, -7.04013407e-02, -2.67598759e-02,\n",
       "         4.21673246e-03,  2.45333873e-02, -7.38500571e-03,  1.95566155e-02,\n",
       "        -3.04828323e-02, -2.03424469e-02,  3.74786034e-02, -4.71208990e-02,\n",
       "        -2.03324389e-02, -6.96854945e-03, -2.45591477e-02, -3.74325737e-03,\n",
       "        -9.42206010e-04, -5.40777594e-02, -9.04617086e-03, -1.35911442e-02,\n",
       "        -1.56500414e-02,  5.96325696e-02,  1.85577646e-02,  2.93798223e-02,\n",
       "         4.05648910e-02,  2.98423562e-02, -4.08205017e-02, -1.65726412e-02,\n",
       "        -3.13832983e-03,  4.08859085e-03,  2.87759192e-02,  3.46711790e-03,\n",
       "        -2.55606435e-02,  1.26388576e-02, -3.04218940e-02, -4.73317392e-02,\n",
       "        -2.05961075e-02,  4.46210662e-03,  3.32217105e-02,  2.74443440e-02,\n",
       "         2.75251865e-02, -6.31516427e-03, -2.26535797e-02, -9.87313688e-05,\n",
       "         4.05958705e-02, -3.37799592e-03,  3.45275179e-02, -4.00766311e-03,\n",
       "         1.96463913e-02, -2.21720841e-02, -1.45127587e-02, -2.89096814e-02,\n",
       "         6.61612749e-02,  1.35606313e-02,  1.57713294e-02, -2.66089961e-02,\n",
       "        -7.21766129e-02, -5.10057434e-03, -2.09657531e-02,  1.60202605e-03,\n",
       "         4.35398445e-02,  2.91602276e-02,  7.91730266e-03, -4.11017276e-02,\n",
       "        -3.87264736e-05,  2.61392379e-05, -1.72752552e-05, -4.59229268e-05,\n",
       "        -4.53130015e-05, -1.24203725e-05, -3.34460638e-05,  1.25880988e-05,\n",
       "         3.63292093e-05,  1.74716679e-05,  3.05563008e-05, -3.51816698e-06,\n",
       "        -4.48506398e-07, -6.08201044e-05,  4.22752928e-05, -2.83723512e-06,\n",
       "        -1.38765672e-05, -2.39315959e-05,  1.70659059e-05, -8.92534717e-06,\n",
       "         6.76384025e-06,  5.88932380e-07,  3.23046370e-05,  8.43658054e-05,\n",
       "        -1.00186444e-05, -1.59639076e-05,  9.50416961e-06, -2.79138694e-05,\n",
       "         1.16541560e-05, -1.89098937e-05,  1.78499868e-05, -7.66112953e-06,\n",
       "        -1.21666744e-05, -2.64010032e-05, -1.83586817e-05,  5.43206625e-06,\n",
       "        -3.98421571e-06, -6.83178587e-05,  4.35928559e-05,  7.44906138e-05,\n",
       "         5.78996787e-06, -6.95942799e-05,  8.60980890e-06,  1.31983234e-05,\n",
       "         7.21653996e-05,  2.37236418e-05, -1.14516160e-05,  2.54652805e-05,\n",
       "         1.59994070e-05,  4.25748804e-05, -3.34734941e-05, -3.55681477e-05,\n",
       "        -1.52092343e-06, -6.16904208e-06,  2.66992647e-05, -1.76871927e-05,\n",
       "        -3.06138554e-06, -1.04325329e-04, -1.41545926e-04, -3.91025715e-05,\n",
       "         6.42907617e-06, -1.70424319e-05, -4.96270586e-05, -1.35717564e-05,\n",
       "         1.48344498e-05, -3.72879513e-05, -7.95867672e-05,  2.41270918e-05,\n",
       "        -5.24948264e-05,  8.56833140e-06, -1.89897037e-05, -7.85269003e-06,\n",
       "        -4.25349717e-05,  3.00785950e-06, -5.70848060e-05,  1.92880343e-05,\n",
       "        -1.83398151e-05,  2.14507781e-05,  5.47429918e-05,  1.28753818e-05,\n",
       "         1.79380015e-06, -9.57368247e-05, -5.50380673e-06,  4.70999075e-05,\n",
       "         5.06639553e-05, -3.20286927e-06,  2.29634206e-05,  5.79905318e-05,\n",
       "         4.90359453e-05,  1.76520552e-05,  1.32779314e-06,  1.35458122e-05,\n",
       "         3.55853444e-06,  9.52906339e-06, -6.20406081e-06,  1.18482149e-05,\n",
       "        -5.71054115e-05, -8.56756742e-06,  4.06185463e-05,  4.77386675e-05,\n",
       "        -2.94447091e-05,  1.33199501e-05,  3.45762164e-05, -3.97705589e-05,\n",
       "         1.60058698e-05, -1.53777037e-05, -7.35501453e-06,  1.13034184e-05,\n",
       "         8.25524985e-05, -2.53268399e-06,  6.75392512e-05,  3.37626843e-05,\n",
       "         3.41549021e-05,  1.20032691e-05,  7.10699605e-05,  2.47153657e-05,\n",
       "        -1.62338867e-04,  3.08631352e-05,  2.09888312e-05,  6.74461990e-06,\n",
       "         1.62556898e-04,  1.39302392e-06, -1.13034366e-06,  4.27398809e-05,\n",
       "        -7.09782034e-05,  3.47259775e-05,  2.23349634e-05,  3.39172107e-06],\n",
       "       dtype=float32)>,\n",
       " <tf.Tensor: shape=(128, 10000), dtype=float32, numpy=\n",
       " array([[ 2.99086678e-03,  3.57720349e-03,  1.21047476e-03, ...,\n",
       "         -4.83462236e-06, -4.83261283e-06, -4.83503300e-06],\n",
       "        [ 1.31232408e-03,  2.42616236e-03,  1.50240608e-03, ...,\n",
       "         -3.73128501e-06, -3.72971135e-06, -3.73166426e-06],\n",
       "        [-1.90822291e-04,  2.82060821e-03,  9.73823247e-04, ...,\n",
       "         -1.27580290e-06, -1.27727333e-06, -1.27353678e-06],\n",
       "        ...,\n",
       "        [-8.29941593e-04, -2.43945979e-05, -8.91492644e-04, ...,\n",
       "          2.71106501e-06,  2.70980490e-06,  2.70858118e-06],\n",
       "        [-1.04590075e-03, -2.38334970e-03, -1.90612243e-03, ...,\n",
       "          2.65322228e-06,  2.65163976e-06,  2.65226390e-06],\n",
       "        [ 1.11868896e-04, -3.86143947e-04, -6.03800872e-04, ...,\n",
       "          1.38086841e-06,  1.38297492e-06,  1.38266773e-06]], dtype=float32)>,\n",
       " <tf.Tensor: shape=(10000,), dtype=float32, numpy=\n",
       " array([-0.7979981 , -1.0313314 , -1.0313315 , ...,  0.00200041,\n",
       "         0.00200015,  0.00200013], dtype=float32)>]"
      ]
     },
     "execution_count": 48,
     "metadata": {},
     "output_type": "execute_result"
    }
   ],
   "source": [
    "# Define the gradient clipping threshold\n",
    "grads, _ = tf.clip_by_global_norm(grad_t_list, max_grad_norm)\n",
    "grads"
   ]
  },
  {
   "cell_type": "markdown",
   "metadata": {},
   "source": [
    "<h4> 4.Apply the optimizer to the variables/gradients tuple. </h4>\n"
   ]
  },
  {
   "cell_type": "code",
   "execution_count": 49,
   "metadata": {
    "tags": []
   },
   "outputs": [],
   "source": [
    "# Create the training TensorFlow Operation through our optimizer\n",
    "train_op = optimizer.apply_gradients(zip(grads, tvars))"
   ]
  },
  {
   "cell_type": "markdown",
   "metadata": {},
   "source": [
    "<a id=\"ltsm\"></a>\n",
    "<h2>LSTM</h2>\n"
   ]
  },
  {
   "cell_type": "markdown",
   "metadata": {},
   "source": [
    "We learned how the model is build step by step. Noe, let's then create a Class that represents our model. This class needs a few things:\n",
    "<ul>\n",
    "    <li>We have to create the model in accordance with our defined hyperparameters</li>\n",
    "    <li>We have to create the LSTM cell structure and connect them with our RNN structure</li>\n",
    "    <li>We have to create the word embeddings and point them to the input data</li>\n",
    "    <li>We have to create the input structure for our RNN</li>\n",
    "    <li>We need to create a logistic structure to return the probability of our words</li>\n",
    "    <li>We need to create the loss and cost functions for our optimizer to work, and then create the optimizer</li>\n",
    "    <li>And finally, we need to create a training operation that can be run to actually train our model</li>\n",
    "</ul>\n"
   ]
  },
  {
   "cell_type": "code",
   "execution_count": 50,
   "metadata": {
    "tags": []
   },
   "outputs": [],
   "source": [
    "class PTBModel(object):\n",
    "\n",
    "\n",
    "    def __init__(self):\n",
    "        ######################################\n",
    "        # Setting parameters for ease of use #\n",
    "        ######################################\n",
    "        self.batch_size = batch_size\n",
    "        self.num_steps = num_steps\n",
    "        self.hidden_size_l1 = hidden_size_l1\n",
    "        self.hidden_size_l2 = hidden_size_l2\n",
    "        self.vocab_size = vocab_size\n",
    "        self.embeding_vector_size = embeding_vector_size\n",
    "        # Create a variable for the learning rate\n",
    "        self._lr = 1.0\n",
    "        \n",
    "        ###############################################################################\n",
    "        # Initializing the model using keras Sequential API  #\n",
    "        ###############################################################################\n",
    "        \n",
    "        self._model = tf.keras.models.Sequential()\n",
    "        \n",
    "        ####################################################################\n",
    "        # Creating the word embeddings layer and adding it to the sequence #\n",
    "        ####################################################################\n",
    "        with tf.device(\"/cpu:0\"):\n",
    "            # Create the embeddings for our input data. Size is hidden size.\n",
    "            self._embedding_layer = tf.keras.layers.Embedding(self.vocab_size, self.embeding_vector_size,batch_input_shape=(self.batch_size, self.num_steps),trainable=True,name=\"embedding_vocab\")  #[10000x200]\n",
    "            self._model.add(self._embedding_layer)\n",
    "            \n",
    "\n",
    "        ##########################################################################\n",
    "        # Creating the LSTM cell structure and connect it with the RNN structure #\n",
    "        ##########################################################################\n",
    "        # Create the LSTM Cells. \n",
    "        # This creates only the structure for the LSTM and has to be associated with a RNN unit still.\n",
    "        # The argument  of LSTMCell is size of hidden layer, that is, the number of hidden units of the LSTM (inside A). \n",
    "        # LSTM cell processes one word at a time and computes probabilities of the possible continuations of the sentence.\n",
    "        lstm_cell_l1 = tf.keras.layers.LSTMCell(hidden_size_l1)\n",
    "        lstm_cell_l2 = tf.keras.layers.LSTMCell(hidden_size_l2)\n",
    "        \n",
    "\n",
    "        \n",
    "        # By taking in the LSTM cells as parameters, the StackedRNNCells function junctions the LSTM units to the RNN units.\n",
    "        # RNN cell composed sequentially of stacked simple cells.\n",
    "        stacked_lstm = tf.keras.layers.StackedRNNCells([lstm_cell_l1, lstm_cell_l2])\n",
    "\n",
    "\n",
    "        \n",
    "\n",
    "        ############################################\n",
    "        # Creating the input structure for our RNN #\n",
    "        ############################################\n",
    "        # Input structure is 20x[30x200]\n",
    "        # Considering each word is represended by a 200 dimentional vector, and we have 30 batchs, we create 30 word-vectors of size [30xx2000]\n",
    "        # The input structure is fed from the embeddings, which are filled in by the input data\n",
    "        # Feeding a batch of b sentences to a RNN:\n",
    "        # In step 1,  first word of each of the b sentences (in a batch) is input in parallel.  \n",
    "        # In step 2,  second word of each of the b sentences is input in parallel. \n",
    "        # The parallelism is only for efficiency.  \n",
    "        # Each sentence in a batch is handled in parallel, but the network sees one word of a sentence at a time and does the computations accordingly. \n",
    "        # All the computations involving the words of all sentences in a batch at a given time step are done in parallel. \n",
    "\n",
    "        ########################################################################################################\n",
    "        # Instantiating our RNN model and setting stateful to True to feed forward the state to the next layer #\n",
    "        ########################################################################################################\n",
    "        \n",
    "        self._RNNlayer  =  tf.keras.layers.RNN(stacked_lstm,[batch_size, num_steps],return_state=False,stateful=True,trainable=True)\n",
    "        \n",
    "        # Define the initial state, i.e., the model state for the very first data point\n",
    "        # It initialize the state of the LSTM memory. The memory state of the network is initialized with a vector of zeros and gets updated after reading each word.\n",
    "        self._initial_state = tf.Variable(tf.zeros([batch_size,embeding_vector_size]),trainable=False)\n",
    "        self._RNNlayer.inital_state = self._initial_state\n",
    "    \n",
    "        ############################################\n",
    "        # Adding RNN layer to keras sequential API #\n",
    "        ############################################        \n",
    "        self._model.add(self._RNNlayer)\n",
    "        \n",
    "        #self._model.add(tf.keras.layers.LSTM(hidden_size_l1,return_sequences=True,stateful=True))\n",
    "        #self._model.add(tf.keras.layers.LSTM(hidden_size_l2,return_sequences=True))\n",
    "        \n",
    "        \n",
    "        ####################################################################################################\n",
    "        # Instantiating a Dense layer that connects the output to the vocab_size  and adding layer to model#\n",
    "        ####################################################################################################\n",
    "        self._dense = tf.keras.layers.Dense(self.vocab_size)\n",
    "        self._model.add(self._dense)\n",
    " \n",
    "        \n",
    "        ####################################################################################################\n",
    "        # Adding softmax activation layer and deriving probability to each class and adding layer to model #\n",
    "        ####################################################################################################\n",
    "        self._activation = tf.keras.layers.Activation('softmax')\n",
    "        self._model.add(self._activation)\n",
    "\n",
    "        ##########################################################\n",
    "        # Instantiating the stochastic gradient decent optimizer #\n",
    "        ########################################################## \n",
    "        self._optimizer = tf.keras.optimizers.SGD(lr=self._lr, clipnorm=max_grad_norm)\n",
    "        \n",
    "        \n",
    "        ##############################################################################\n",
    "        # Compiling and summarizing the model stacked using the keras sequential API #\n",
    "        ##############################################################################\n",
    "        self._model.compile(loss=self.crossentropy, optimizer=self._optimizer)\n",
    "        self._model.summary()\n",
    "\n",
    "\n",
    "    def crossentropy(self,y_true, y_pred):\n",
    "        return tf.keras.losses.sparse_categorical_crossentropy(y_true, y_pred)\n",
    "\n",
    "    def train_batch(self,_input_data,_targets):\n",
    "        #################################################\n",
    "        # Creating the Training Operation for our Model #\n",
    "        #################################################\n",
    "        # Create a variable for the learning rate\n",
    "        self._lr = tf.Variable(0.0, trainable=False)\n",
    "        # Get all TensorFlow variables marked as \"trainable\" (i.e. all of them except _lr, which we just created)\n",
    "        tvars = self._model.trainable_variables\n",
    "        # Define the gradient clipping threshold\n",
    "        with tf.GradientTape() as tape:\n",
    "            # Forward pass.\n",
    "            output_words_prob = self._model(_input_data)\n",
    "            # Loss value for this batch.\n",
    "            loss  = self.crossentropy(_targets, output_words_prob)\n",
    "            # average across batch and reduce sum\n",
    "            cost = tf.reduce_sum(loss/ self.batch_size)\n",
    "        # Get gradients of loss wrt the trainable variables.\n",
    "        grad_t_list = tape.gradient(cost, tvars)\n",
    "        # Define the gradient clipping threshold\n",
    "        grads, _ = tf.clip_by_global_norm(grad_t_list, max_grad_norm)\n",
    "        # Create the training TensorFlow Operation through our optimizer\n",
    "        train_op = self._optimizer.apply_gradients(zip(grads, tvars))\n",
    "        return cost\n",
    "        \n",
    "    def test_batch(self,_input_data,_targets):\n",
    "        #################################################\n",
    "        # Creating the Testing Operation for our Model #\n",
    "        #################################################\n",
    "        output_words_prob = self._model(_input_data)\n",
    "        loss  = self.crossentropy(_targets, output_words_prob)\n",
    "        # average across batch and reduce sum\n",
    "        cost = tf.reduce_sum(loss/ self.batch_size)\n",
    "\n",
    "        return cost\n",
    "    @classmethod\n",
    "    def instance(cls) : \n",
    "        return PTBModel()"
   ]
  },
  {
   "cell_type": "markdown",
   "metadata": {},
   "source": [
    "With that, the actual structure of our Recurrent Neural Network with Long Short-Term Memory is finished. What remains for us to do is to actually create the methods to run through time -- that is, the <code>run_epoch</code> method to be run at each epoch and a <code>main</code> script which ties all of this together.\n",
    "\n",
    "What our <code>run_epoch</code> method should do is take our input data and feed it to the relevant operations. This will return at the very least the current result for the cost function.\n"
   ]
  },
  {
   "cell_type": "code",
   "execution_count": 51,
   "metadata": {
    "tags": []
   },
   "outputs": [],
   "source": [
    "\n",
    "########################################################################################################################\n",
    "# run_one_epoch takes as parameters  the model instance, the data to be fed, training or testing mode and verbose info #\n",
    "########################################################################################################################\n",
    "def run_one_epoch(m, data,is_training=True,verbose=False):\n",
    "\n",
    "    #Define the epoch size based on the length of the data, batch size and the number of steps\n",
    "    epoch_size = ((len(data) // m.batch_size) - 1) // m.num_steps\n",
    "    start_time = time.time()\n",
    "    costs = 0.\n",
    "    iters = 0\n",
    "    \n",
    "    m._model.reset_states()\n",
    "    \n",
    "    #For each step and data point\n",
    "    for step, (x, y) in enumerate(ptb_iterator(data, m.batch_size, m.num_steps)):\n",
    "        \n",
    "        #Evaluate and return cost, state by running cost, final_state and the function passed as parameter\n",
    "        #y = tf.keras.utils.to_categorical(y, num_classes=vocab_size)\n",
    "        if is_training : \n",
    "            loss=  m.train_batch(x, y)\n",
    "        else :\n",
    "            loss = m.test_batch(x, y)\n",
    "                                   \n",
    "\n",
    "        #Add returned cost to costs (which keeps track of the total costs for this epoch)\n",
    "        costs += loss\n",
    "        \n",
    "        #Add number of steps to iteration counter\n",
    "        iters += m.num_steps\n",
    "\n",
    "        if verbose and step % (epoch_size // 10) == 10:\n",
    "            print(\"Itr %d of %d, perplexity: %.3f speed: %.0f wps\" % (step , epoch_size, np.exp(costs / iters), iters * m.batch_size / (time.time() - start_time)))\n",
    "        \n",
    "\n",
    "\n",
    "    # Returns the Perplexity rating for us to keep track of how the model is evolving\n",
    "    return np.exp(costs / iters)\n"
   ]
  },
  {
   "cell_type": "markdown",
   "metadata": {},
   "source": [
    "Now, we create the <code>main</code> method to tie everything together. The code here reads the data from the directory, using the <code>reader</code> helper module, and then trains and evaluates the model on both a testing and a validating subset of data.\n"
   ]
  },
  {
   "cell_type": "code",
   "execution_count": 52,
   "metadata": {
    "tags": []
   },
   "outputs": [],
   "source": [
    "# Reads the data and separates it into training data, validation data and testing data\n",
    "raw_data = ptb_raw_data(data_dir)\n",
    "train_data, valid_data, test_data, _, _ = raw_data"
   ]
  },
  {
   "cell_type": "code",
   "execution_count": null,
   "metadata": {
    "tags": []
   },
   "outputs": [
    {
     "name": "stdout",
     "output_type": "stream",
     "text": [
      "Model: \"sequential_1\"\n",
      "_________________________________________________________________\n",
      " Layer (type)                Output Shape              Param #   \n",
      "=================================================================\n",
      " embedding_vocab (Embedding)  (30, 20, 200)            2000000   \n",
      "                                                                 \n",
      " rnn_1 (RNN)                 (30, 20, 128)             671088    \n",
      "                                                                 \n",
      " dense_1 (Dense)             (30, 20, 10000)           1290000   \n",
      "                                                                 \n",
      " activation_1 (Activation)   (30, 20, 10000)           0         \n",
      "                                                                 \n",
      "=================================================================\n",
      "Total params: 3,961,088\n",
      "Trainable params: 3,955,088\n",
      "Non-trainable params: 6,000\n",
      "_________________________________________________________________\n",
      "Epoch 1 : Learning rate: 1.000\n",
      "Itr 10 of 1549, perplexity: 4507.259 speed: 1115 wps\n",
      "Itr 164 of 1549, perplexity: 1095.726 speed: 1178 wps\n",
      "Itr 318 of 1549, perplexity: 838.828 speed: 1187 wps\n",
      "Itr 472 of 1549, perplexity: 699.931 speed: 1187 wps\n",
      "Itr 626 of 1549, perplexity: 602.094 speed: 1179 wps\n",
      "Itr 780 of 1549, perplexity: 536.456 speed: 1179 wps\n"
     ]
    }
   ],
   "source": [
    "# Instantiates the PTBModel class\n",
    "m=PTBModel.instance()   \n",
    "K = tf.keras.backend \n",
    "for i in range(max_epoch):\n",
    "    # Define the decay for this epoch\n",
    "    lr_decay = decay ** max(i - max_epoch_decay_lr, 0.0)\n",
    "    dcr = learning_rate * lr_decay\n",
    "    m._lr = dcr\n",
    "    K.set_value(m._model.optimizer.learning_rate,m._lr)\n",
    "    print(\"Epoch %d : Learning rate: %.3f\" % (i + 1, m._model.optimizer.learning_rate))\n",
    "    # Run the loop for this epoch in the training mode\n",
    "    train_perplexity = run_one_epoch(m, train_data,is_training=True,verbose=True)\n",
    "    print(\"Epoch %d : Train Perplexity: %.3f\" % (i + 1, train_perplexity))\n",
    "        \n",
    "    # Run the loop for this epoch in the validation mode\n",
    "    valid_perplexity = run_one_epoch(m, valid_data,is_training=False,verbose=False)\n",
    "    print(\"Epoch %d : Valid Perplexity: %.3f\" % (i + 1, valid_perplexity))\n",
    "    \n",
    "# Run the loop in the testing mode to see how effective was our training\n",
    "test_perplexity = run_one_epoch(m, test_data,is_training=False,verbose=False)\n",
    "print(\"Test Perplexity: %.3f\" % test_perplexity)\n",
    "\n"
   ]
  },
  {
   "cell_type": "markdown",
   "metadata": {},
   "source": [
    "As you can see, the model's perplexity rating drops very quickly after a few iterations. As was elaborated before, <b>lower Perplexity means that the model is more certain about its prediction</b>. As such, we can be sure that this model is performing well!\n"
   ]
  },
  {
   "cell_type": "markdown",
   "metadata": {},
   "source": [
    "-------\n"
   ]
  },
  {
   "cell_type": "markdown",
   "metadata": {},
   "source": [
    "This is the end of the <b>Applying Recurrent Neural Networks to Text Processing</b> notebook. Hopefully you now have a better understanding of Recurrent Neural Networks and how to implement one utilizing TensorFlow. Thank you for reading this notebook, and good luck on your studies.\n"
   ]
  },
  {
   "cell_type": "markdown",
   "metadata": {},
   "source": [
    "## Want to learn more?\n",
    "\n",
    "Also, you can use __Watson Studio__ to run these notebooks faster with bigger datasets.__Watson Studio__ is IBM’s leading cloud solution for data scientists, built by data scientists. With Jupyter notebooks, RStudio, Apache Spark and popular libraries pre-packaged in the cloud, __Watson Studio__ enables data scientists to collaborate on their projects without having to install anything. Join the fast-growing community of __Watson Studio__ users today with a free account at [Watson Studio](https://cocl.us/ML0120EN_DSX).This is the end of this lesson. Thank you for reading this notebook, and good luck on your studies.\n"
   ]
  },
  {
   "cell_type": "markdown",
   "metadata": {},
   "source": [
    "### Thanks for completing this lesson!\n",
    "\n",
    "Notebook created by <a href=\"https://br.linkedin.com/in/walter-gomes-de-amorim-junior-624726121\">Walter Gomes de Amorim Junior</a>, <a href = \"https://linkedin.com/in/saeedaghabozorgi\"> Saeed Aghabozorgi </a></h4>\n",
    "\n",
    "\n",
    "Updated to TF 2.X by  <a href=\"https://www.linkedin.com/in/samaya-madhavan\"> Samaya Madhavan </a>\n"
   ]
  },
  {
   "cell_type": "markdown",
   "metadata": {},
   "source": [
    "<hr>\n",
    "\n",
    "Copyright &copy; 2018 [Cognitive Class](https://cocl.us/DX0108EN_CC). This notebook and its source code are released under the terms of the [MIT License](https://bigdatauniversity.com/mit-license/).\n"
   ]
  }
 ],
 "metadata": {
  "kernelspec": {
   "display_name": "Python",
   "language": "python",
   "name": "conda-env-python-py"
  },
  "language_info": {
   "codemirror_mode": {
    "name": "ipython",
    "version": 3
   },
   "file_extension": ".py",
   "mimetype": "text/x-python",
   "name": "python",
   "nbconvert_exporter": "python",
   "pygments_lexer": "ipython3",
   "version": "3.7.12"
  },
  "prev_pub_hash": "dc854cc2a3cd5e8454549d14810f586268aa35a4c1ca674849cd9bf9674931b2"
 },
 "nbformat": 4,
 "nbformat_minor": 4
}
