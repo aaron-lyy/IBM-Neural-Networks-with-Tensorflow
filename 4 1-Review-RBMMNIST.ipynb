{
 "cells": [
  {
   "cell_type": "markdown",
   "metadata": {},
   "source": [
    "<img src=\"https://cf-courses-data.s3.us.cloud-object-storage.appdomain.cloud/IBMDeveloperSkillsNetwork-DL0120EN-SkillsNetwork/images/IDSN-logo.png\" width=\"300\" alt=\"cognitiveclass.ai logo\">\n",
    "\n",
    "<h1 align=\"center\"><font size=\"5\">RESTRICTED BOLTZMANN MACHINES</font></h1>\n"
   ]
  },
  {
   "cell_type": "markdown",
   "metadata": {},
   "source": [
    "Estimated time needed: **25** minutes\n"
   ]
  },
  {
   "cell_type": "markdown",
   "metadata": {},
   "source": [
    "<h3>Introduction</h3>\n",
    "<b>Restricted Boltzmann Machine (RBM):</b>  RBMs are shallow neural nets that learn to reconstruct data by themselves in an unsupervised fashion.  \n",
    "\n",
    "\n",
    "<h4>Why are RBMs important?</h4>\n",
    "An RBM are a basic form of autoencoder.  It can automatically extract <b>meaningful</b> features from a given input.\n",
    "\n",
    "\n",
    "<h4>How does it work?</h4>\n",
    "RBM is a 2 layer neural network. Simply, RBM takes the inputs and translates those into a set of binary values that represents them in the hidden layer. Then, these numbers can be translated back to reconstruct the inputs. Through several forward and backward passes, the RBM will be trained, and a trained RBM can reveal which features are the most important ones when detecting patterns.   \n",
    "\n",
    "\n",
    "<h4>What are the applications of an RBM?</h4>\n",
    "RBM is useful for <a href='http://www.cs.utoronto.ca/~hinton/absps/netflixICML.pdf'>  Collaborative Filtering</a>, dimensionality reduction, classification, regression, feature learning, topic modeling and even <b>Deep Belief Networks</b>.\n",
    "\n",
    "<h4>Is RBM a generative or Discriminative model?</h4>\n",
    "RBM is a generative model. Let me explain it by first, see what is different between discriminative and generative models: \n",
    "\n",
    "<b>Discriminative:</b> Consider a classification problem where we want to learn to distinguish between Sedan cars (y = 1) and SUV cars (y = 0), based on some features of cars. Given a training set, an algorithm like logistic regression tries to find a straight line, or <i>decision boundary</i>, that separates the suv and sedan.  \n",
    "\n",
    "<b>Generative:</b> looking at cars, we can build a model of what Sedan cars look like. Then, looking at SUVs, we can build a separate model of what SUV cars look like. Finally, to classify a new car, we can match the new car against the Sedan model, and match it against the SUV model, to see whether the new car looks more like the SUV or Sedan. \n",
    "\n",
    "Generative Models specify a probability distribution over a dataset of input vectors. We can carry out both supervised and unsupervised tasks with generative models:\n",
    "<ul>\n",
    "    <li>In an unsupervised task, we try to form a model for $P(x)$, where $P$ is the probability given $x$ as an input vector.</li>\n",
    "    <li>In the supervised task, we first form a model for $P(x|y)$, where $P$ is the probability of $x$ given $y$(the label for $x$). For example, if $y = 0$ indicates that a car is an SUV, and $y = 1$ indicates that a car is a sedan, then $p(x|y = 0)$ models the distribution of SUV features, and $p(x|y = 1)$ models the distribution of sedan features. If we manage to find $P(x|y)$ and $P(y)$, then we can use <b>Bayes rule</b> to estimate $P(y|x)$, because:   \n",
    "        $$p(y|x) = \\frac{p(x|y)p(y)}{p(x)}$$</li>\n",
    "</ul>\n",
    "Now the question is, can we build a generative model, and then use it to create synthetic data by directly sampling from the modeled probability distributions? Lets see. \n"
   ]
  },
  {
   "cell_type": "markdown",
   "metadata": {},
   "source": [
    "<h2>Table of Contents</h2>\n",
    "<ol>\n",
    "    <li><a href=\"#ref1\">Initialization</a></li>\n",
    "    <li><a href=\"#ref2\">RBM layers</a></li>\n",
    "    <li><a href=\"#ref3\">What RBM can do after training?</a></li>\n",
    "    <li><a href=\"#ref4\">How to train the model?</a></li>\n",
    "    <li><a href=\"#ref5\">Learned features</a></li>\n",
    "</ol>\n",
    "<p></p>\n",
    "</div>\n",
    "<br>\n",
    "\n",
    "<hr>\n"
   ]
  },
  {
   "cell_type": "markdown",
   "metadata": {},
   "source": [
    "<a id=\"ref1\"></a>\n",
    "<h3>Initialization</h3>\n",
    "\n",
    "First, we have to load the utility file which contains different utility functions that are not connected\n",
    "in any way to the networks presented in the tutorials, but rather help in\n",
    "processing the outputs into a more understandable way.\n"
   ]
  },
  {
   "cell_type": "code",
   "execution_count": 1,
   "metadata": {
    "tags": []
   },
   "outputs": [],
   "source": [
    "import urllib.request\n",
    "with urllib.request.urlopen(\"https://cf-courses-data.s3.us.cloud-object-storage.appdomain.cloud/IBMDeveloperSkillsNetwork-DL0120EN-SkillsNetwork/labs/Week4/data/utils.py\") as url:\n",
    "    response = url.read()\n",
    "target = open('utils.py', 'w')\n",
    "target.write(response.decode('utf-8'))\n",
    "target.close()"
   ]
  },
  {
   "cell_type": "markdown",
   "metadata": {},
   "source": [
    "<h2>Installing TensorFlow </h2>\n",
    "\n",
    "We will installing TensorFlow version 2.9.0 and its required prerequistes.  Also installing pillow...\n"
   ]
  },
  {
   "cell_type": "code",
   "execution_count": 2,
   "metadata": {
    "tags": []
   },
   "outputs": [
    {
     "name": "stdout",
     "output_type": "stream",
     "text": [
      "Collecting grpcio==1.24.3\n",
      "  Downloading grpcio-1.24.3-cp37-cp37m-manylinux2010_x86_64.whl (2.2 MB)\n",
      "\u001b[2K     \u001b[90m━━━━━━━━━━━━━━━━━━━━━━━━━━━━━━━━━━━━━━━━\u001b[0m \u001b[32m2.2/2.2 MB\u001b[0m \u001b[31m77.6 MB/s\u001b[0m eta \u001b[36m0:00:00\u001b[0m\n",
      "\u001b[?25hRequirement already satisfied: six>=1.5.2 in /home/jupyterlab/conda/envs/python/lib/python3.7/site-packages (from grpcio==1.24.3) (1.16.0)\n",
      "Installing collected packages: grpcio\n",
      "  Attempting uninstall: grpcio\n",
      "    Found existing installation: grpcio 1.48.1\n",
      "    Uninstalling grpcio-1.48.1:\n",
      "      Successfully uninstalled grpcio-1.48.1\n",
      "Successfully installed grpcio-1.24.3\n",
      "Collecting tensorflow==2.9.0\n",
      "  Downloading tensorflow-2.9.0-cp37-cp37m-manylinux_2_17_x86_64.manylinux2014_x86_64.whl (511.7 MB)\n",
      "\u001b[2K     \u001b[90m━━━━━━━━━━━━━━━━━━━━━━━━━━━━━━━━━━━━━\u001b[0m \u001b[32m511.7/511.7 MB\u001b[0m \u001b[31m941.6 kB/s\u001b[0m eta \u001b[36m0:00:00\u001b[0m00:01\u001b[0m00:01\u001b[0m\n",
      "\u001b[?25hRequirement already satisfied: absl-py>=1.0.0 in /home/jupyterlab/conda/envs/python/lib/python3.7/site-packages (from tensorflow==2.9.0) (1.4.0)\n",
      "Collecting astunparse>=1.6.0 (from tensorflow==2.9.0)\n",
      "  Downloading astunparse-1.6.3-py2.py3-none-any.whl (12 kB)\n",
      "Collecting flatbuffers<2,>=1.12 (from tensorflow==2.9.0)\n",
      "  Downloading flatbuffers-1.12-py2.py3-none-any.whl (15 kB)\n",
      "Collecting gast<=0.4.0,>=0.2.1 (from tensorflow==2.9.0)\n",
      "  Downloading gast-0.4.0-py3-none-any.whl (9.8 kB)\n",
      "Requirement already satisfied: google-pasta>=0.1.1 in /home/jupyterlab/conda/envs/python/lib/python3.7/site-packages (from tensorflow==2.9.0) (0.2.0)\n",
      "Requirement already satisfied: grpcio<2.0,>=1.24.3 in /home/jupyterlab/conda/envs/python/lib/python3.7/site-packages (from tensorflow==2.9.0) (1.24.3)\n",
      "Collecting h5py>=2.9.0 (from tensorflow==2.9.0)\n",
      "  Downloading h5py-3.8.0-cp37-cp37m-manylinux_2_17_x86_64.manylinux2014_x86_64.whl (4.3 MB)\n",
      "\u001b[2K     \u001b[90m━━━━━━━━━━━━━━━━━━━━━━━━━━━━━━━━━━━━━━━━\u001b[0m \u001b[32m4.3/4.3 MB\u001b[0m \u001b[31m86.0 MB/s\u001b[0m eta \u001b[36m0:00:00\u001b[0m:00:01\u001b[0m\n",
      "\u001b[?25hCollecting keras<2.10.0,>=2.9.0rc0 (from tensorflow==2.9.0)\n",
      "  Downloading keras-2.9.0-py2.py3-none-any.whl (1.6 MB)\n",
      "\u001b[2K     \u001b[90m━━━━━━━━━━━━━━━━━━━━━━━━━━━━━━━━━━━━━━━━\u001b[0m \u001b[32m1.6/1.6 MB\u001b[0m \u001b[31m79.8 MB/s\u001b[0m eta \u001b[36m0:00:00\u001b[0m\n",
      "\u001b[?25hRequirement already satisfied: keras-preprocessing>=1.1.1 in /home/jupyterlab/conda/envs/python/lib/python3.7/site-packages (from tensorflow==2.9.0) (1.1.2)\n",
      "Collecting libclang>=13.0.0 (from tensorflow==2.9.0)\n",
      "  Downloading libclang-18.1.1-py2.py3-none-manylinux2010_x86_64.whl (24.5 MB)\n",
      "\u001b[2K     \u001b[90m━━━━━━━━━━━━━━━━━━━━━━━━━━━━━━━━━━━━━━━━\u001b[0m \u001b[32m24.5/24.5 MB\u001b[0m \u001b[31m55.5 MB/s\u001b[0m eta \u001b[36m0:00:00\u001b[0m00:01\u001b[0m00:01\u001b[0m\n",
      "\u001b[?25hRequirement already satisfied: numpy>=1.20 in /home/jupyterlab/conda/envs/python/lib/python3.7/site-packages (from tensorflow==2.9.0) (1.21.6)\n",
      "Collecting opt-einsum>=2.3.2 (from tensorflow==2.9.0)\n",
      "  Downloading opt_einsum-3.3.0-py3-none-any.whl (65 kB)\n",
      "\u001b[2K     \u001b[90m━━━━━━━━━━━━━━━━━━━━━━━━━━━━━━━━━━━━━━━━\u001b[0m \u001b[32m65.5/65.5 kB\u001b[0m \u001b[31m13.2 MB/s\u001b[0m eta \u001b[36m0:00:00\u001b[0m\n",
      "\u001b[?25hRequirement already satisfied: packaging in /home/jupyterlab/conda/envs/python/lib/python3.7/site-packages (from tensorflow==2.9.0) (23.1)\n",
      "Requirement already satisfied: protobuf>=3.9.2 in /home/jupyterlab/conda/envs/python/lib/python3.7/site-packages (from tensorflow==2.9.0) (4.21.8)\n",
      "Requirement already satisfied: setuptools in /home/jupyterlab/conda/envs/python/lib/python3.7/site-packages (from tensorflow==2.9.0) (67.7.2)\n",
      "Requirement already satisfied: six>=1.12.0 in /home/jupyterlab/conda/envs/python/lib/python3.7/site-packages (from tensorflow==2.9.0) (1.16.0)\n",
      "Collecting tensorboard<2.10,>=2.9 (from tensorflow==2.9.0)\n",
      "  Downloading tensorboard-2.9.1-py3-none-any.whl (5.8 MB)\n",
      "\u001b[2K     \u001b[90m━━━━━━━━━━━━━━━━━━━━━━━━━━━━━━━━━━━━━━━━\u001b[0m \u001b[32m5.8/5.8 MB\u001b[0m \u001b[31m87.3 MB/s\u001b[0m eta \u001b[36m0:00:00\u001b[0m:00:01\u001b[0m\n",
      "\u001b[?25hCollecting tensorflow-io-gcs-filesystem>=0.23.1 (from tensorflow==2.9.0)\n",
      "  Downloading tensorflow_io_gcs_filesystem-0.34.0-cp37-cp37m-manylinux_2_12_x86_64.manylinux2010_x86_64.whl (2.4 MB)\n",
      "\u001b[2K     \u001b[90m━━━━━━━━━━━━━━━━━━━━━━━━━━━━━━━━━━━━━━━━\u001b[0m \u001b[32m2.4/2.4 MB\u001b[0m \u001b[31m78.0 MB/s\u001b[0m eta \u001b[36m0:00:00\u001b[0m\n",
      "\u001b[?25hCollecting tensorflow-estimator<2.10.0,>=2.9.0rc0 (from tensorflow==2.9.0)\n",
      "  Downloading tensorflow_estimator-2.9.0-py2.py3-none-any.whl (438 kB)\n",
      "\u001b[2K     \u001b[90m━━━━━━━━━━━━━━━━━━━━━━━━━━━━━━━━━━━━━━\u001b[0m \u001b[32m438.7/438.7 kB\u001b[0m \u001b[31m55.9 MB/s\u001b[0m eta \u001b[36m0:00:00\u001b[0m\n",
      "\u001b[?25hRequirement already satisfied: termcolor>=1.1.0 in /home/jupyterlab/conda/envs/python/lib/python3.7/site-packages (from tensorflow==2.9.0) (2.3.0)\n",
      "Requirement already satisfied: typing-extensions>=3.6.6 in /home/jupyterlab/conda/envs/python/lib/python3.7/site-packages (from tensorflow==2.9.0) (4.5.0)\n",
      "Requirement already satisfied: wrapt>=1.11.0 in /home/jupyterlab/conda/envs/python/lib/python3.7/site-packages (from tensorflow==2.9.0) (1.14.1)\n",
      "Requirement already satisfied: wheel<1.0,>=0.23.0 in /home/jupyterlab/conda/envs/python/lib/python3.7/site-packages (from astunparse>=1.6.0->tensorflow==2.9.0) (0.40.0)\n",
      "Collecting google-auth<3,>=1.6.3 (from tensorboard<2.10,>=2.9->tensorflow==2.9.0)\n",
      "  Downloading google_auth-2.32.0-py2.py3-none-any.whl (195 kB)\n",
      "\u001b[2K     \u001b[90m━━━━━━━━━━━━━━━━━━━━━━━━━━━━━━━━━━━━━━\u001b[0m \u001b[32m195.5/195.5 kB\u001b[0m \u001b[31m27.9 MB/s\u001b[0m eta \u001b[36m0:00:00\u001b[0m\n",
      "\u001b[?25hCollecting google-auth-oauthlib<0.5,>=0.4.1 (from tensorboard<2.10,>=2.9->tensorflow==2.9.0)\n",
      "  Downloading google_auth_oauthlib-0.4.6-py2.py3-none-any.whl (18 kB)\n",
      "Requirement already satisfied: markdown>=2.6.8 in /home/jupyterlab/conda/envs/python/lib/python3.7/site-packages (from tensorboard<2.10,>=2.9->tensorflow==2.9.0) (3.4.3)\n",
      "Collecting protobuf>=3.9.2 (from tensorflow==2.9.0)\n",
      "  Downloading protobuf-3.19.6-cp37-cp37m-manylinux_2_17_x86_64.manylinux2014_x86_64.whl (1.1 MB)\n",
      "\u001b[2K     \u001b[90m━━━━━━━━━━━━━━━━━━━━━━━━━━━━━━━━━━━━━━━━\u001b[0m \u001b[32m1.1/1.1 MB\u001b[0m \u001b[31m38.7 MB/s\u001b[0m eta \u001b[36m0:00:00\u001b[0m\n",
      "\u001b[?25hRequirement already satisfied: requests<3,>=2.21.0 in /home/jupyterlab/conda/envs/python/lib/python3.7/site-packages (from tensorboard<2.10,>=2.9->tensorflow==2.9.0) (2.29.0)\n",
      "Collecting tensorboard-data-server<0.7.0,>=0.6.0 (from tensorboard<2.10,>=2.9->tensorflow==2.9.0)\n",
      "  Downloading tensorboard_data_server-0.6.1-py3-none-manylinux2010_x86_64.whl (4.9 MB)\n",
      "\u001b[2K     \u001b[90m━━━━━━━━━━━━━━━━━━━━━━━━━━━━━━━━━━━━━━━━\u001b[0m \u001b[32m4.9/4.9 MB\u001b[0m \u001b[31m101.7 MB/s\u001b[0m eta \u001b[36m0:00:00\u001b[0m00:01\u001b[0m\n",
      "\u001b[?25hCollecting tensorboard-plugin-wit>=1.6.0 (from tensorboard<2.10,>=2.9->tensorflow==2.9.0)\n",
      "  Downloading tensorboard_plugin_wit-1.8.1-py3-none-any.whl (781 kB)\n",
      "\u001b[2K     \u001b[90m━━━━━━━━━━━━━━━━━━━━━━━━━━━━━━━━━━━━━━\u001b[0m \u001b[32m781.3/781.3 kB\u001b[0m \u001b[31m53.7 MB/s\u001b[0m eta \u001b[36m0:00:00\u001b[0m\n",
      "\u001b[?25hRequirement already satisfied: werkzeug>=1.0.1 in /home/jupyterlab/conda/envs/python/lib/python3.7/site-packages (from tensorboard<2.10,>=2.9->tensorflow==2.9.0) (2.2.3)\n",
      "Collecting cachetools<6.0,>=2.0.0 (from google-auth<3,>=1.6.3->tensorboard<2.10,>=2.9->tensorflow==2.9.0)\n",
      "  Downloading cachetools-5.4.0-py3-none-any.whl (9.5 kB)\n",
      "Requirement already satisfied: pyasn1-modules>=0.2.1 in /home/jupyterlab/conda/envs/python/lib/python3.7/site-packages (from google-auth<3,>=1.6.3->tensorboard<2.10,>=2.9->tensorflow==2.9.0) (0.3.0)\n",
      "Collecting rsa<5,>=3.1.4 (from google-auth<3,>=1.6.3->tensorboard<2.10,>=2.9->tensorflow==2.9.0)\n",
      "  Downloading rsa-4.9-py3-none-any.whl (34 kB)\n",
      "Collecting requests-oauthlib>=0.7.0 (from google-auth-oauthlib<0.5,>=0.4.1->tensorboard<2.10,>=2.9->tensorflow==2.9.0)\n",
      "  Downloading requests_oauthlib-2.0.0-py2.py3-none-any.whl (24 kB)\n",
      "Requirement already satisfied: importlib-metadata>=4.4 in /home/jupyterlab/conda/envs/python/lib/python3.7/site-packages (from markdown>=2.6.8->tensorboard<2.10,>=2.9->tensorflow==2.9.0) (4.11.4)\n",
      "Requirement already satisfied: charset-normalizer<4,>=2 in /home/jupyterlab/conda/envs/python/lib/python3.7/site-packages (from requests<3,>=2.21.0->tensorboard<2.10,>=2.9->tensorflow==2.9.0) (3.1.0)\n",
      "Requirement already satisfied: idna<4,>=2.5 in /home/jupyterlab/conda/envs/python/lib/python3.7/site-packages (from requests<3,>=2.21.0->tensorboard<2.10,>=2.9->tensorflow==2.9.0) (3.4)\n",
      "Requirement already satisfied: urllib3<1.27,>=1.21.1 in /home/jupyterlab/conda/envs/python/lib/python3.7/site-packages (from requests<3,>=2.21.0->tensorboard<2.10,>=2.9->tensorflow==2.9.0) (1.26.15)\n",
      "Requirement already satisfied: certifi>=2017.4.17 in /home/jupyterlab/conda/envs/python/lib/python3.7/site-packages (from requests<3,>=2.21.0->tensorboard<2.10,>=2.9->tensorflow==2.9.0) (2023.5.7)\n",
      "Requirement already satisfied: MarkupSafe>=2.1.1 in /home/jupyterlab/conda/envs/python/lib/python3.7/site-packages (from werkzeug>=1.0.1->tensorboard<2.10,>=2.9->tensorflow==2.9.0) (2.1.1)\n",
      "Requirement already satisfied: zipp>=0.5 in /home/jupyterlab/conda/envs/python/lib/python3.7/site-packages (from importlib-metadata>=4.4->markdown>=2.6.8->tensorboard<2.10,>=2.9->tensorflow==2.9.0) (3.15.0)\n",
      "Requirement already satisfied: pyasn1<0.6.0,>=0.4.6 in /home/jupyterlab/conda/envs/python/lib/python3.7/site-packages (from pyasn1-modules>=0.2.1->google-auth<3,>=1.6.3->tensorboard<2.10,>=2.9->tensorflow==2.9.0) (0.5.0)\n",
      "Collecting oauthlib>=3.0.0 (from requests-oauthlib>=0.7.0->google-auth-oauthlib<0.5,>=0.4.1->tensorboard<2.10,>=2.9->tensorflow==2.9.0)\n",
      "  Downloading oauthlib-3.2.2-py3-none-any.whl (151 kB)\n",
      "\u001b[2K     \u001b[90m━━━━━━━━━━━━━━━━━━━━━━━━━━━━━━━━━━━━━━\u001b[0m \u001b[32m151.7/151.7 kB\u001b[0m \u001b[31m23.6 MB/s\u001b[0m eta \u001b[36m0:00:00\u001b[0m\n",
      "\u001b[?25hInstalling collected packages: tensorboard-plugin-wit, libclang, keras, flatbuffers, tensorflow-io-gcs-filesystem, tensorflow-estimator, tensorboard-data-server, rsa, protobuf, opt-einsum, oauthlib, h5py, gast, cachetools, astunparse, requests-oauthlib, google-auth, google-auth-oauthlib, tensorboard, tensorflow\n",
      "  Attempting uninstall: keras\n",
      "    Found existing installation: Keras 2.1.6\n",
      "    Uninstalling Keras-2.1.6:\n",
      "      Successfully uninstalled Keras-2.1.6\n",
      "  Attempting uninstall: tensorflow-estimator\n",
      "    Found existing installation: tensorflow-estimator 1.14.0\n",
      "    Uninstalling tensorflow-estimator-1.14.0:\n",
      "      Successfully uninstalled tensorflow-estimator-1.14.0\n",
      "  Attempting uninstall: protobuf\n",
      "    Found existing installation: protobuf 4.21.8\n",
      "    Uninstalling protobuf-4.21.8:\n",
      "      Successfully uninstalled protobuf-4.21.8\n",
      "  Attempting uninstall: h5py\n",
      "    Found existing installation: h5py 2.8.0\n",
      "    Uninstalling h5py-2.8.0:\n",
      "      Successfully uninstalled h5py-2.8.0\n",
      "  Attempting uninstall: gast\n",
      "    Found existing installation: gast 0.5.3\n",
      "    Uninstalling gast-0.5.3:\n",
      "      Successfully uninstalled gast-0.5.3\n",
      "  Attempting uninstall: tensorboard\n",
      "    Found existing installation: tensorboard 1.14.0\n",
      "    Uninstalling tensorboard-1.14.0:\n",
      "      Successfully uninstalled tensorboard-1.14.0\n",
      "  Attempting uninstall: tensorflow\n",
      "    Found existing installation: tensorflow 1.14.0\n",
      "    Uninstalling tensorflow-1.14.0:\n",
      "      Successfully uninstalled tensorflow-1.14.0\n",
      "Successfully installed astunparse-1.6.3 cachetools-5.4.0 flatbuffers-1.12 gast-0.4.0 google-auth-2.32.0 google-auth-oauthlib-0.4.6 h5py-3.8.0 keras-2.9.0 libclang-18.1.1 oauthlib-3.2.2 opt-einsum-3.3.0 protobuf-3.19.6 requests-oauthlib-2.0.0 rsa-4.9 tensorboard-2.9.1 tensorboard-data-server-0.6.1 tensorboard-plugin-wit-1.8.1 tensorflow-2.9.0 tensorflow-estimator-2.9.0 tensorflow-io-gcs-filesystem-0.34.0\n",
      "Requirement already satisfied: pillow==8.1.0 in /home/jupyterlab/conda/envs/python/lib/python3.7/site-packages (8.1.0)\n",
      "Collecting utils\n",
      "  Downloading utils-1.0.2.tar.gz (13 kB)\n",
      "  Preparing metadata (setup.py) ... \u001b[?25ldone\n",
      "\u001b[?25hBuilding wheels for collected packages: utils\n",
      "  Building wheel for utils (setup.py) ... \u001b[?25ldone\n",
      "\u001b[?25h  Created wheel for utils: filename=utils-1.0.2-py2.py3-none-any.whl size=13906 sha256=85e5276db46f63eba4442a3684e6a4939633aa4f9c0708d6a728117aa5440873\n",
      "  Stored in directory: /home/jupyterlab/.cache/pip/wheels/14/23/de/c59709836cc9f58bcc8cbd9b34c1d1ec31ccf288d01a90ba95\n",
      "Successfully built utils\n",
      "Installing collected packages: utils\n",
      "Successfully installed utils-1.0.2\n"
     ]
    }
   ],
   "source": [
    "!pip install grpcio==1.24.3\n",
    "!pip install tensorflow==2.9.0\n",
    "!pip install pillow==8.1.0\n",
    "!pip install utils"
   ]
  },
  {
   "cell_type": "markdown",
   "metadata": {},
   "source": [
    "\n",
    "**Restart kernel for latest version of TensorFlow to be activated, then continue to the next section.**\n"
   ]
  },
  {
   "cell_type": "markdown",
   "metadata": {},
   "source": [
    "<b>Notice:</b> This notebook has been created with TensorFlow version 2.9.0, and might not work with other versions. Therefore we check:\n"
   ]
  },
  {
   "cell_type": "code",
   "execution_count": 8,
   "metadata": {
    "tags": []
   },
   "outputs": [],
   "source": [
    "import tensorflow as tf\n",
    "from IPython.display import Markdown, display\n",
    "\n",
    "def printmd(string):\n",
    "    display(Markdown('# <span style=\"color:red\">'+string+'</span>'))\n",
    "\n",
    "\n",
    "if not tf.__version__ == '2.9.0':\n",
    "    printmd('<<<<<!!!!! ERROR !!!! please upgrade to TensorFlow 2.9.0, or restart your Kernel (Kernel->Restart & Clear Output)>>>>>')"
   ]
  },
  {
   "cell_type": "markdown",
   "metadata": {},
   "source": [
    "Now, we load in all the packages that we use to create the net including the TensorFlow package:\n"
   ]
  },
  {
   "cell_type": "code",
   "execution_count": 9,
   "metadata": {
    "tags": []
   },
   "outputs": [],
   "source": [
    "import tensorflow as tf\n",
    "import numpy as np\n",
    "\n",
    "from PIL import Image\n",
    "from utils import tile_raster_images\n",
    "import matplotlib.pyplot as plt\n",
    "%matplotlib inline"
   ]
  },
  {
   "cell_type": "markdown",
   "metadata": {},
   "source": [
    "<hr>\n"
   ]
  },
  {
   "cell_type": "markdown",
   "metadata": {},
   "source": [
    "<a id=\"ref2\"></a>\n",
    "<h3>RBM layers</h3>\n",
    "\n",
    "An RBM has two layers. The first layer of the RBM is called the <b>visible</b> (or input layer). Imagine that our toy example, has only vectors with 7 values, so the visible layer must have $V=7$ input nodes. \n",
    "The second layer is the <b>hidden</b> layer, which has $H$ neurons in our case. Each hidden node takes on values of either 0 or 1 (i.e., $h_i = 1$ or $h_i$ = 0), with a probability that is a logistic function of the inputs it receives from the other $V$ visible units, called for example, $p(h_i = 1)$. For our toy sample, we'll use 2 nodes in the hidden layer, so $H = 2$.\n",
    "\n",
    "<center><img src=\"https://ibm.box.com/shared/static/eu26opvcefgls6vnwuo29uwp0nudmokh.png\" alt=\"RBM Model\" style=\"width: 400px;\"></center>\n"
   ]
  },
  {
   "cell_type": "markdown",
   "metadata": {},
   "source": [
    "     \n",
    "\n",
    "Each node in the first layer also has a <b>bias</b>. We will denote the bias as $v_{bias}$, and this single value is shared among the $V$ visible units.\n",
    "\n",
    "The <b>bias</b> of the second is defined similarly as $h_{bias}$, and this single value among the $H$ hidden units.\n"
   ]
  },
  {
   "cell_type": "code",
   "execution_count": 10,
   "metadata": {
    "tags": []
   },
   "outputs": [],
   "source": [
    "v_bias = tf.Variable(tf.zeros([7]), tf.float32)\n",
    "h_bias = tf.Variable(tf.zeros([2]), tf.float32)"
   ]
  },
  {
   "cell_type": "markdown",
   "metadata": {},
   "source": [
    "We have to define weights among the input layer and hidden layer nodes. In the weight matrix, the number of rows are equal to the input nodes, and the number of columns are equal to the output nodes. We define a tensor $\\mathbf{W}$ of shape = (7,2), where the number of visible neurons = 7, and the number of hidden neurons = 2. \n"
   ]
  },
  {
   "cell_type": "code",
   "execution_count": 11,
   "metadata": {
    "tags": []
   },
   "outputs": [],
   "source": [
    "W = tf.constant(np.random.normal(loc=0.0, scale=1.0, size=(7, 2)).astype(np.float32))"
   ]
  },
  {
   "cell_type": "markdown",
   "metadata": {},
   "source": [
    "<hr>\n"
   ]
  },
  {
   "cell_type": "markdown",
   "metadata": {},
   "source": [
    "<a id=\"ref3\"></a>\n",
    "<h3>What RBM can do after training?</h3>\n",
    "Think of RBM as a model that has been trained based on images of a dataset of many SUV and sedan cars. Also, imagine that the RBM network has only two hidden nodes, where one node encodes the weight and, and the other encodes the size.  \n",
    "In a sense, the different configurations represent different cars, where one is an SUV and the other is Sedan.  In a training process, through many forward and backward passes, the RBM adjust its weights to send a stronger signal to either the SUV node (0, 1) or the sedan node (1, 0) in the hidden layer, given the pixels of images. Now, given an SUV in hidden layer, which distribution of pixels should we expect? RBM can give you 2 things. First, it encodes your images in hidden layer. Second, it gives you the probability of observing a case, given some hidden values.\n",
    "\n",
    "\n",
    "<h3>The Inference Process</h3>\n",
    "\n",
    "RBM has two phases:\n",
    "<ul>\n",
    "    <li>Forward Pass</li>  \n",
    "    <li>Backward Pass or Reconstruction</li>\n",
    "</ul>\n",
    "\n",
    "<b>Phase 1) Forward pass:</b>  \n",
    "\n",
    "Input one training sample (one image) $\\mathbf{x}$ through all visible nodes, and pass it to all hidden nodes. Processing happens in each node in the hidden layer. This computation begins by making stochastic decisions about whether to transmit that input or not (i.e. to determine the state of each hidden layer).  First, the probability vector is computed using the input feature vector $\\mathbf{x}$, the weight matrix $\\mathbf{W}$, and the bias term $h_{bias}$, as \n",
    "\n",
    "\n",
    "$$p({h_j}|\\mathbf x)= \\sigma( \\sum_{i=1}^V W_{ij} x_i + h_{bias} )$$, \n",
    "\n",
    "where $\\sigma(z) = (1+e^{-z})^{-1}$ is the logistic function.\n",
    "\n",
    "\n",
    "So, what does $p({h_j})$ represent? It is the <b>probability distribution</b> of the hidden units. That is, RBM uses inputs $x_i$ to make predictions about hidden node activations. For example, imagine that the hidden node activation values are [0.51 0.84] for the first training item. It tells you that the conditional probability for each hidden neuron for Phase 1 is: \n",
    "\n",
    "$$p(h_{1} = 1|\\mathbf{v}) = 0.51$$\n",
    "$$p(h_{2} = 1|\\mathbf{v}) = 0.84$$\n",
    "\n",
    "As a result, for each row in the training set, vector of probabilities is generated.  In TensorFlow, this is referred to as a `tensor` with a shape of (1,2). \n",
    "\n",
    "We then turn unit $j$ with probability $p(h_{j}|\\mathbf{v})$, and turn it off with probability $1 - p(h_{j}|\\mathbf{v})$ by generating a uniform random number vector $\\mathbf{\\xi}$, and comparing it to the activation probability as \n",
    "\n",
    "<center>If $\\xi_j>p(h_{j}|\\mathbf{v})$, then $h_j=1$, else $h_j=0$.</center>\n",
    "\n",
    "\n",
    "Therefore, the conditional probability of a configuration of $\\mathbf{h}$ given $\\mathbf{v}$ (for a training sample) is:\n",
    "\n",
    "$$p(\\mathbf{h} \\mid \\mathbf{v}) = \\prod_{j=1}^H p(h_j \\mid \\mathbf{v})$$\n",
    "\n",
    "\n",
    "where $H$ is the number of hidden units.\n",
    "\n"
   ]
  },
  {
   "cell_type": "markdown",
   "metadata": {},
   "source": [
    "Before we go further, let's look at a toy example for one case out of all input. Assume that we have a trained RBM, and a very simple input vector, such as [1.0, 0.0, 0.0, 1.0, 0.0, 0.0, 0.0].   \n",
    "Let's see what the output of forward pass would look like:\n"
   ]
  },
  {
   "cell_type": "code",
   "execution_count": 12,
   "metadata": {
    "tags": []
   },
   "outputs": [
    {
     "name": "stdout",
     "output_type": "stream",
     "text": [
      "Input:  tf.Tensor([[1. 0. 0. 1. 0. 0. 0.]], shape=(1, 7), dtype=float32)\n",
      "hb:  tf.Tensor([0.1 0.1], shape=(2,), dtype=float32)\n",
      "w:  tf.Tensor(\n",
      "[[ 1.6992245  -1.2515926 ]\n",
      " [ 1.0607799  -0.09440329]\n",
      " [ 0.48504212 -1.2242744 ]\n",
      " [ 0.7956151  -0.66488916]\n",
      " [ 0.39874536  1.1869137 ]\n",
      " [-0.6794402   0.04316694]\n",
      " [ 0.88671595  1.2041476 ]], shape=(7, 2), dtype=float32)\n",
      "p(h|v):  tf.Tensor([[0.9305287  0.13985658]], shape=(1, 2), dtype=float32)\n",
      "h0 states: tf.Tensor([[1. 0.]], shape=(1, 2), dtype=float32)\n"
     ]
    }
   ],
   "source": [
    "X = tf.constant([[1.0, 0.0, 0.0, 1.0, 0.0, 0.0, 0.0]], tf.float32)\n",
    "\n",
    "v_state = X\n",
    "print (\"Input: \", v_state)\n",
    "\n",
    "h_bias = tf.constant([0.1, 0.1])\n",
    "print (\"hb: \", h_bias)\n",
    "print (\"w: \", W)\n",
    "\n",
    "# Calculate the probabilities of turning the hidden units on:\n",
    "h_prob = tf.nn.sigmoid(tf.matmul(v_state, W) + h_bias)  #probabilities of the hidden units\n",
    "print (\"p(h|v): \", h_prob)\n",
    "\n",
    "# Draw samples from the distribution:\n",
    "h_state = tf.nn.relu(tf.sign(h_prob - tf.random.uniform(tf.shape(h_prob)))) #states\n",
    "print (\"h0 states:\", h_state)"
   ]
  },
  {
   "cell_type": "markdown",
   "metadata": {},
   "source": [
    "<b>Phase 2) Backward Pass (Reconstruction):</b>\n",
    "The RBM reconstructs data by making several forward and backward passes between the visible and hidden layers.\n",
    "\n",
    "So, in the second phase (i.e. reconstruction phase), the samples from the hidden layer (i.e. $\\mathbf h$) becomes the input in the backward pass. The same weight matrix and visible layer biases are used to passed to the sigmoid function. The reproduced output is a reconstruction which is an approximation of the original input.\n"
   ]
  },
  {
   "cell_type": "code",
   "execution_count": 13,
   "metadata": {
    "tags": []
   },
   "outputs": [
    {
     "name": "stdout",
     "output_type": "stream",
     "text": [
      "b:  tf.Tensor([0.1 0.2 0.1 0.1 0.1 0.2 0.1], shape=(7,), dtype=float32)\n",
      "p(vi∣h):  tf.Tensor(\n",
      "[[0.8580545  0.7791603  0.64222676 0.71004754 0.6221644  0.38238433\n",
      "  0.7284388 ]], shape=(1, 7), dtype=float32)\n",
      "v probability states:  tf.Tensor([[1. 1. 0. 1. 1. 1. 0.]], shape=(1, 7), dtype=float32)\n"
     ]
    }
   ],
   "source": [
    "vb = tf.constant([0.1, 0.2, 0.1, 0.1, 0.1, 0.2, 0.1])\n",
    "print (\"b: \", vb)\n",
    "v_prob = tf.nn.sigmoid(tf.matmul(h_state, tf.transpose(W)) + vb)\n",
    "print (\"p(vi∣h): \", v_prob)\n",
    "v_state = tf.nn.relu(tf.sign(v_prob - tf.random.uniform(tf.shape(v_prob))))\n",
    "print (\"v probability states: \", v_state)"
   ]
  },
  {
   "cell_type": "markdown",
   "metadata": {},
   "source": [
    "RBM learns a probability distribution over the input, and then, after being trained, the RBM can generate new samples from the learned probability distribution. As you know, <b>probability distribution</b>, is a mathematical function that provides the probabilities of occurrence of different possible outcomes in an experiment.\n",
    "\n",
    "The (conditional) probability distribution over the visible units v is given by\n",
    "\n",
    "$$p(\\mathbf{v} \\mid \\mathbf{h}) = \\prod_{i=1}^V p(v_i \\mid \\mathbf{h}),$$\n",
    "\n",
    "\n",
    "where,\n",
    "\n",
    "$$p(v_i \\mid \\mathbf{h}) = \\sigma\\left(\\sum_{j=1}^H W_{ji} h_j + v_{bias} \\right)$$\n",
    "\n",
    "so, given current state of hidden units and weights, what is the probability of generating [1. 0. 0. 1. 0. 0. 0.] in reconstruction phase, based on the above <b>probability distribution</b> function?\n"
   ]
  },
  {
   "cell_type": "code",
   "execution_count": 14,
   "metadata": {
    "tags": []
   },
   "outputs": [
    {
     "name": "stdout",
     "output_type": "stream",
     "text": [
      "input X: [[1. 0. 0. 1. 0. 0. 0.]]\n",
      "probablity vector: [0.8580545  0.7791603  0.64222676 0.71004754 0.6221644  0.38238433\n",
      " 0.7284388 ]\n",
      "probability of generating X:  0.0030505362\n"
     ]
    }
   ],
   "source": [
    "inp = X\n",
    "print(\"input X:\" , inp.numpy())\n",
    "\n",
    "print(\"probablity vector:\" , v_prob[0].numpy())\n",
    "v_probability = 1\n",
    "\n",
    "for elm, p in zip(inp[0],v_prob[0]) :\n",
    "    if elm ==1:\n",
    "        v_probability *= p\n",
    "    else:\n",
    "        v_probability *= (1-p)\n",
    "\n",
    "print(\"probability of generating X: \" , v_probability.numpy())"
   ]
  },
  {
   "cell_type": "markdown",
   "metadata": {},
   "source": [
    "How similar are vectors $\\mathbf{x}$ and $\\mathbf{v}$? Of course, the reconstructed values most likely will not look anything like the input vector, because our network has not been trained yet. Our objective is to train the model in such a way that the input vector and reconstructed vector to be same. Therefore, based on how different the input values look to the ones that we just reconstructed, the weights are adjusted. \n"
   ]
  },
  {
   "cell_type": "markdown",
   "metadata": {},
   "source": [
    "<hr>\n"
   ]
  },
  {
   "cell_type": "markdown",
   "metadata": {},
   "source": [
    "\n",
    "<h2>MNIST</h2>\n"
   ]
  },
  {
   "cell_type": "markdown",
   "metadata": {},
   "source": [
    "We will be using the MNIST dataset to practice the usage of RBMs. The following cell loads the MNIST dataset.\n"
   ]
  },
  {
   "cell_type": "code",
   "execution_count": 15,
   "metadata": {
    "tags": []
   },
   "outputs": [
    {
     "name": "stdout",
     "output_type": "stream",
     "text": [
      "Downloading data from https://storage.googleapis.com/tensorflow/tf-keras-datasets/mnist.npz\n",
      "11490434/11490434 [==============================] - 0s 0us/step\n"
     ]
    }
   ],
   "source": [
    "#loading training and test data\n",
    "mnist = tf.keras.datasets.mnist\n",
    "(trX, trY), (teX, teY) = mnist.load_data()\n",
    "\n",
    "# showing an example of the Flatten class and operation\n",
    "from tensorflow.keras.layers import Flatten\n",
    "flatten = Flatten(dtype='float32')\n",
    "trX = flatten(trX/255.0)\n",
    "trY = flatten(trY/255.0)"
   ]
  },
  {
   "cell_type": "markdown",
   "metadata": {},
   "source": [
    "Lets look at the dimension of the images.\n"
   ]
  },
  {
   "cell_type": "markdown",
   "metadata": {},
   "source": [
    "MNIST images have 784 pixels, so the visible layer must have 784 input nodes.  For our case, we'll use 50 nodes in the hidden layer, so i = 50.\n"
   ]
  },
  {
   "cell_type": "code",
   "execution_count": 16,
   "metadata": {
    "tags": []
   },
   "outputs": [],
   "source": [
    "vb = tf.Variable(tf.zeros([784]), tf.float32)\n",
    "hb = tf.Variable(tf.zeros([50]), tf.float32)"
   ]
  },
  {
   "cell_type": "markdown",
   "metadata": {},
   "source": [
    "Let $\\mathbf W$ be the Tensor of 784x50 (784 - number of visible neurons, 50 - number of hidden neurons) that represents weights between the neurons. \n"
   ]
  },
  {
   "cell_type": "code",
   "execution_count": 17,
   "metadata": {
    "tags": []
   },
   "outputs": [],
   "source": [
    "W = tf.Variable(tf.zeros([784,50]), tf.float32)"
   ]
  },
  {
   "cell_type": "markdown",
   "metadata": {},
   "source": [
    "Lets define the visible layer:\n"
   ]
  },
  {
   "cell_type": "code",
   "execution_count": 18,
   "metadata": {
    "tags": []
   },
   "outputs": [
    {
     "data": {
      "text/plain": [
       "<tf.Tensor: shape=(1, 50), dtype=float32, numpy=\n",
       "array([[0., 0., 0., 0., 0., 0., 0., 0., 0., 0., 0., 0., 0., 0., 0., 0.,\n",
       "        0., 0., 0., 0., 0., 0., 0., 0., 0., 0., 0., 0., 0., 0., 0., 0.,\n",
       "        0., 0., 0., 0., 0., 0., 0., 0., 0., 0., 0., 0., 0., 0., 0., 0.,\n",
       "        0., 0.]], dtype=float32)>"
      ]
     },
     "execution_count": 18,
     "metadata": {},
     "output_type": "execute_result"
    }
   ],
   "source": [
    "v0_state = tf.Variable(tf.zeros([784]), tf.float32)\n",
    "\n",
    "#testing to see if the matrix product works\n",
    "tf.matmul( [v0_state], W)"
   ]
  },
  {
   "cell_type": "markdown",
   "metadata": {},
   "source": [
    "Now, we can define hidden layer:\n"
   ]
  },
  {
   "cell_type": "code",
   "execution_count": 19,
   "metadata": {
    "tags": []
   },
   "outputs": [
    {
     "name": "stdout",
     "output_type": "stream",
     "text": [
      "h0_state shape:  tf.Tensor([ 1 50], shape=(2,), dtype=int32)\n",
      "first 15 hidden states:  tf.Tensor([0. 1. 1. 1. 1. 1. 0. 0. 0. 0. 0. 0. 0. 1. 1.], shape=(15,), dtype=float32)\n"
     ]
    }
   ],
   "source": [
    "#computing the hidden nodes probability vector and checking shape\n",
    "h0_prob = tf.nn.sigmoid(tf.matmul([v0_state], W) + hb)  #probabilities of the hidden units\n",
    "print(\"h0_state shape: \" , tf.shape(h0_prob))\n",
    "\n",
    "#defining a function to return only the generated hidden states \n",
    "def hidden_layer(v0_state, W, hb):\n",
    "    h0_prob = tf.nn.sigmoid(tf.matmul([v0_state], W) + hb)  #probabilities of the hidden units\n",
    "    h0_state = tf.nn.relu(tf.sign(h0_prob - tf.random.uniform(tf.shape(h0_prob)))) #sample_h_given_X\n",
    "    return h0_state\n",
    "\n",
    "\n",
    "h0_state = hidden_layer(v0_state, W, hb)\n",
    "print(\"first 15 hidden states: \", h0_state[0][0:15])"
   ]
  },
  {
   "cell_type": "markdown",
   "metadata": {},
   "source": [
    "Now, we define reconstruction part:\n"
   ]
  },
  {
   "cell_type": "code",
   "execution_count": 20,
   "metadata": {
    "tags": []
   },
   "outputs": [
    {
     "name": "stdout",
     "output_type": "stream",
     "text": [
      "hidden state shape:  (1, 50)\n",
      "v0 state shape:   (784,)\n",
      "v1 state shape:   (784,)\n"
     ]
    }
   ],
   "source": [
    "def reconstructed_output(h0_state, W, vb):\n",
    "    v1_prob = tf.nn.sigmoid(tf.matmul(h0_state, tf.transpose(W)) + vb) \n",
    "    v1_state = tf.nn.relu(tf.sign(v1_prob - tf.random.uniform(tf.shape(v1_prob)))) #sample_v_given_h\n",
    "    return v1_state[0]\n",
    "\n",
    "v1_state = reconstructed_output(h0_state, W, vb)\n",
    "print(\"hidden state shape: \", h0_state.shape)\n",
    "print(\"v0 state shape:  \", v0_state.shape)\n",
    "print(\"v1 state shape:  \", v1_state.shape)"
   ]
  },
  {
   "cell_type": "markdown",
   "metadata": {},
   "source": [
    "<h3>What is the objective function?</h3>\n",
    "\n",
    "<b>Goal</b>: Maximize the likelihood of our data being drawn from that distribution\n",
    "\n",
    "<b>Calculate error:</b>  \n",
    "In each epoch, we compute the \"error\" as a sum of the squared difference between step 1 and step n,\n",
    "e.g the error shows the difference between the data and its reconstruction.\n",
    "\n",
    "<b>Note:</b> tf.reduce_mean computes the mean of elements across dimensions of a tensor.\n"
   ]
  },
  {
   "cell_type": "code",
   "execution_count": 21,
   "metadata": {
    "tags": []
   },
   "outputs": [
    {
     "name": "stdout",
     "output_type": "stream",
     "text": [
      "error 0.5089286\n"
     ]
    }
   ],
   "source": [
    "def error(v0_state, v1_state):\n",
    "    return tf.reduce_mean(tf.square(v0_state - v1_state))\n",
    "\n",
    "err = tf.reduce_mean(tf.square(v0_state - v1_state))\n",
    "print(\"error\" , err.numpy())"
   ]
  },
  {
   "cell_type": "markdown",
   "metadata": {},
   "source": [
    "<a id=\"ref4\"></a>\n",
    "<h3>Training the Model</h3>\n",
    "<b>Warning...</b> The following part is math-heavy, but you can skip it if you just want to run the cells in the next section.\n",
    "\n",
    "As mentioned, we want to give a high probability to the input data we train on. So, in order to train an RBM, we have to maximize the product of probabilities assigned to all rows $\\mathbf{v}$ (images) in the training set $\\mathbf{V}$ (a matrix, where each row of it is treated as a visible vector $\\mathbf{v}$)\n",
    "\n",
    "$$\\arg \\max_W \\prod_{\\mathbf{v}\\in\\mathbf{V}_T} p(\\mathbf{v})$$\n",
    "\n",
    "\n",
    "which is equivalent to maximizing the expectation of the log probability, given as\n",
    "\n",
    "$$\\arg\\max_W\\left[ \\mathbb{E} \\left(\\prod_{\\mathbf v\\in \\mathbf V}\\text{log} \\left(p(\\mathbf v)\\right) \\right) \\right].$$\n",
    "\n",
    "\n",
    "So, we have to update the weights $W_{ij}$  to increase $p(\\mathbf{v})$ for all $\\mathbf{v}$ in our training data during training. So we have to calculate the derivative:\n",
    "\n",
    "\n",
    "$$\\frac{\\partial \\log p(\\mathbf v)}{\\partial W_{ij}}$$\n",
    "\n",
    "This cannot be easily done by typical <b>gradient descent (SGD)</b>, so we can use another approach, which has 2 steps:\n",
    "<ol>\n",
    "    <li>Gibbs Sampling</li>\n",
    "    <li>Contrastive Divergence</li>\n",
    "</ol>    \n",
    "    \n",
    "<h3>Gibbs Sampling</h3>   \n",
    "\n",
    "<h4>Gibbs Sampling Step 1</h4> \n",
    "Given an input vector $\\mathbf{v}$, we are using $p(\\mathbf{h}|\\mathbf{v})$ to predict the hidden values $\\mathbf{h}$. \n",
    "  $$p({h_j}|\\mathbf v)= \\sigma\\left(\\sum_{i=1}^V W_{ij} v_i + h_{bias} \\right)$$\n",
    "The samples are generated from this distribution by generating the uniform random variate vector $\\mathbf{\\xi} \\sim U[0,1]$ of length $H$ and comparing to the computed probabilities as\n",
    "\n",
    "\n",
    "<center>If $\\xi_j>p(h_{j}|\\mathbf{v})$, then $h_j=1$, else $h_j=0$.</center>\n",
    "\n",
    "\n",
    "<h4>Gibbs Sampling Step 2</h4> \n",
    "Then, knowing the hidden values, we use $p(\\mathbf v| \\mathbf h)$ for reconstructing of new input values v. \n",
    "\n",
    "   $$p({v_i}|\\mathbf h)= \\sigma\\left(\\sum_{j=1}^H W^{T}_{ij} h_j + v_{bias} \\right)$$\n",
    "\n",
    "\n",
    "The samples are generated from this distribution by generating a uniform random variate vector $\\mathbf{\\xi} \\sim U[0,1]$ of length $V$ and comparing to the computed probabilities as\n",
    "\n",
    "<center>If $\\xi_i>p(v_{i}|\\mathbf{h})$, then $v_i=1$, else $v_i=0$.</center>\n",
    "\n",
    "Let vectors $\\mathbf v_k$ and $\\mathbf h_k$ be for the $k$th iteration.  In general, the $kth$ state is generrated as: \n",
    "\n",
    "\n",
    "    \n",
    "<b>Iteration</b> $k$: \n",
    "\n",
    "$$\\mathbf v_{k-1} \\Rightarrow p(\\mathbf h_{k-1}|\\mathbf v_{k-1})\\Rightarrow \\mathbf h_{k-1}\\Rightarrow p(\\mathbf v_{k}|\\mathbf h_{k-1})\\Rightarrow \\mathbf v_k$$       \n",
    "    \n",
    "<h3>Contrastive Divergence (CD-k)</h3>\n",
    "The update of the weight matrix is done during the Contrastive Divergence step. \n",
    "\n",
    "Vectors v0 and vk are used to calculate the activation probabilities for hidden values h0 and hk. The difference between the outer products of those probabilities with input vectors v0 and vk results in the update matrix:\n",
    "\n",
    "\n",
    "$$\\Delta \\mathbf W_k =\\mathbf v_k \\otimes \\mathbf h_k - \\mathbf v_{k-1} \\otimes \\mathbf h_{k-1}$$\n",
    "\n",
    "Contrastive Divergence is actually matrix of values that is computed and used to adjust values of the $\\mathbf W$ matrix. Changing $\\mathbf W$ incrementally leads to training of the  $\\mathbf W$ values. Then, on each step (epoch), $\\mathbf W$ is updated using the following:\n",
    "\n",
    "$$\\mathbf W_k = \\mathbf W_{k-1} + \\alpha * \\Delta \\mathbf W_k$$\n",
    "\n",
    "\n",
    "\n",
    "Reconstruction steps:\n",
    "<ul>\n",
    "    <li> Get one data point from data set, like <i>x</i>, and pass it through the following steps:</li>\n",
    "    \n",
    "<b>Iteration</b> $k=1$: \n",
    "    \n",
    "Sampling (starting with input image)\n",
    "    $$\\mathbf x = \\mathbf v_0 \\Rightarrow p(\\mathbf h_0|\\mathbf v_0)\\Rightarrow \\mathbf h_0 \\Rightarrow p(\\mathbf v_1|\\mathbf h_0)\\Rightarrow \\mathbf v_1$$   \n",
    "    followed by the CD-k step\n",
    "$$\\Delta \\mathbf W_1 =\\mathbf v_1 \\otimes \\mathbf h_1 - \\mathbf v_{0} \\otimes \\mathbf h_{0}$$     \n",
    "$$\\mathbf W_1 = \\mathbf W_{0} + \\alpha * \\Delta \\mathbf W_1$$ \n",
    " \n",
    "<li> $\\mathbf v_1$ is the reconstruction of $\\mathbf x$ sent to the next iteration).</li>\n",
    "\n",
    "<b>Iteration</b> $k=2$: \n",
    "\n",
    "Sampling (starting with $\\mathbf v_1$)\n",
    "\n",
    "$$\\mathbf v_1 \\Rightarrow p(\\mathbf h_1|\\mathbf v_1)\\Rightarrow \\mathbf h_1\\Rightarrow p(\\mathbf v_2|\\mathbf h_1)\\Rightarrow \\mathbf v_2$$   \n",
    "\n",
    "followed by the CD-k step\n",
    "$$\\Delta \\mathbf W_2 =\\mathbf v_2 \\otimes \\mathbf h_2 - \\mathbf v_{1} \\otimes \\mathbf h_{1}$$     \n",
    "$$\\mathbf W_2 = \\mathbf W_{1} + \\alpha * \\Delta \\mathbf W_2$$ \n",
    "\n",
    "<li> $\\mathbf v_2$ is the reconstruction of $\\mathbf v_1$ sent to the next iteration).</li>    \n",
    "      \n",
    "<b>Iteration</b> $k=K$:\n",
    "    \n",
    "Sampling (starting with $\\mathbf v_{K-1}$)\n",
    "\n",
    "$$\\mathbf v_{K-1} \\Rightarrow p(\\mathbf h_{K-1}|\\mathbf v_{K-1})\\Rightarrow \\mathbf h_{K-1}\\Rightarrow p(\\mathbf v_K|\\mathbf h_{K-1})\\Rightarrow \\mathbf v_K$$   \n",
    "\n",
    "followed by the CD-k step\n",
    "$$\\Delta \\mathbf W_K =\\mathbf v_K \\otimes \\mathbf h_K - \\mathbf v_{K-1} \\otimes \\mathbf h_{K-1}$$     \n",
    "$$\\mathbf W_K = \\mathbf W_{K-1} + \\alpha * \\Delta \\mathbf W_K$$ \n",
    "    \n",
    "<b>What is $\\alpha$?</b>  \n",
    "Here, alpha is some small step size, and is also known as the \"learning rate\".\n"
   ]
  },
  {
   "cell_type": "markdown",
   "metadata": {},
   "source": [
    "$K$ is adjustable, and good performance can be achieved with $K=1$, so that we just take one set of sampling steps per image.\n"
   ]
  },
  {
   "cell_type": "code",
   "execution_count": 22,
   "metadata": {
    "tags": []
   },
   "outputs": [],
   "source": [
    "h1_prob = tf.nn.sigmoid(tf.matmul([v1_state], W) + hb)\n",
    "h1_state = tf.nn.relu(tf.sign(h1_prob - tf.random.uniform(tf.shape(h1_prob)))) #sample_h_given_X"
   ]
  },
  {
   "cell_type": "markdown",
   "metadata": {},
   "source": [
    "Lets look at the error of the first run:\n"
   ]
  },
  {
   "cell_type": "code",
   "execution_count": 23,
   "metadata": {
    "tags": []
   },
   "outputs": [
    {
     "name": "stdout",
     "output_type": "stream",
     "text": [
      "error:  tf.Tensor(0.5089286, shape=(), dtype=float32)\n"
     ]
    }
   ],
   "source": [
    "print(\"error: \", error(v0_state, v1_state))"
   ]
  },
  {
   "cell_type": "code",
   "execution_count": 24,
   "metadata": {
    "tags": []
   },
   "outputs": [
    {
     "name": "stdout",
     "output_type": "stream",
     "text": [
      "Epoch: 0 batch #: 1  of 300 sample #: 199 reconstruction error: 0.177684\n",
      "Epoch: 0 batch #: 2  of 300 sample #: 199 reconstruction error: 0.220186\n",
      "Epoch: 0 batch #: 3  of 300 sample #: 199 reconstruction error: 0.110856\n",
      "Epoch: 0 batch #: 4  of 300 sample #: 199 reconstruction error: 0.123701\n",
      "Epoch: 0 batch #: 5  of 300 sample #: 199 reconstruction error: 0.095941\n",
      "Epoch: 0 batch #: 6  of 300 sample #: 199 reconstruction error: 0.166531\n",
      "Epoch: 0 batch #: 7  of 300 sample #: 199 reconstruction error: 0.090495\n",
      "Epoch: 0 batch #: 8  of 300 sample #: 199 reconstruction error: 0.125046\n",
      "Epoch: 0 batch #: 9  of 300 sample #: 199 reconstruction error: 0.106845\n",
      "Epoch: 0 batch #: 10  of 300 sample #: 199 reconstruction error: 0.170079\n",
      "Epoch: 0 batch #: 11  of 300 sample #: 199 reconstruction error: 0.098849\n",
      "Epoch: 0 batch #: 12  of 300 sample #: 199 reconstruction error: 0.125776\n",
      "Epoch: 0 batch #: 13  of 300 sample #: 199 reconstruction error: 0.063418\n",
      "Epoch: 0 batch #: 14  of 300 sample #: 199 reconstruction error: 0.100476\n",
      "Epoch: 0 batch #: 15  of 300 sample #: 199 reconstruction error: 0.117743\n",
      "Epoch: 0 batch #: 16  of 300 sample #: 199 reconstruction error: 0.112919\n",
      "Epoch: 0 batch #: 17  of 300 sample #: 199 reconstruction error: 0.074922\n",
      "Epoch: 0 batch #: 18  of 300 sample #: 199 reconstruction error: 0.119724\n",
      "Epoch: 0 batch #: 19  of 300 sample #: 199 reconstruction error: 0.117822\n",
      "Epoch: 0 batch #: 20  of 300 sample #: 199 reconstruction error: 0.109809\n",
      "Epoch: 0 batch #: 21  of 300 sample #: 199 reconstruction error: 0.095066\n",
      "Epoch: 0 batch #: 22  of 300 sample #: 199 reconstruction error: 0.078589\n",
      "Epoch: 0 batch #: 23  of 300 sample #: 199 reconstruction error: 0.094738\n",
      "Epoch: 0 batch #: 24  of 300 sample #: 199 reconstruction error: 0.136844\n",
      "Epoch: 0 batch #: 25  of 300 sample #: 199 reconstruction error: 0.099920\n",
      "Epoch: 0 batch #: 26  of 300 sample #: 199 reconstruction error: 0.115463\n",
      "Epoch: 0 batch #: 27  of 300 sample #: 199 reconstruction error: 0.100840\n",
      "Epoch: 0 batch #: 28  of 300 sample #: 199 reconstruction error: 0.086566\n",
      "Epoch: 0 batch #: 29  of 300 sample #: 199 reconstruction error: 0.097690\n",
      "Epoch: 0 batch #: 30  of 300 sample #: 199 reconstruction error: 0.088008\n",
      "Epoch: 0 batch #: 31  of 300 sample #: 199 reconstruction error: 0.093094\n",
      "Epoch: 0 batch #: 32  of 300 sample #: 199 reconstruction error: 0.094739\n",
      "Epoch: 0 batch #: 33  of 300 sample #: 199 reconstruction error: 0.050769\n",
      "Epoch: 0 batch #: 34  of 300 sample #: 199 reconstruction error: 0.080152\n",
      "Epoch: 0 batch #: 35  of 300 sample #: 199 reconstruction error: 0.067647\n",
      "Epoch: 0 batch #: 36  of 300 sample #: 199 reconstruction error: 0.078326\n",
      "Epoch: 0 batch #: 37  of 300 sample #: 199 reconstruction error: 0.064594\n",
      "Epoch: 0 batch #: 38  of 300 sample #: 199 reconstruction error: 0.077021\n",
      "Epoch: 0 batch #: 39  of 300 sample #: 199 reconstruction error: 0.088916\n",
      "Epoch: 0 batch #: 40  of 300 sample #: 199 reconstruction error: 0.114340\n",
      "Epoch: 0 batch #: 41  of 300 sample #: 199 reconstruction error: 0.071295\n",
      "Epoch: 0 batch #: 42  of 300 sample #: 199 reconstruction error: 0.083071\n",
      "Epoch: 0 batch #: 43  of 300 sample #: 199 reconstruction error: 0.124373\n",
      "Epoch: 0 batch #: 44  of 300 sample #: 199 reconstruction error: 0.081479\n",
      "Epoch: 0 batch #: 45  of 300 sample #: 199 reconstruction error: 0.052284\n",
      "Epoch: 0 batch #: 46  of 300 sample #: 199 reconstruction error: 0.038099\n",
      "Epoch: 0 batch #: 47  of 300 sample #: 199 reconstruction error: 0.044562\n",
      "Epoch: 0 batch #: 48  of 300 sample #: 199 reconstruction error: 0.044213\n",
      "Epoch: 0 batch #: 49  of 300 sample #: 199 reconstruction error: 0.121647\n",
      "Epoch: 0 batch #: 50  of 300 sample #: 199 reconstruction error: 0.057896\n",
      "Epoch: 0 batch #: 51  of 300 sample #: 199 reconstruction error: 0.062240\n",
      "Epoch: 0 batch #: 52  of 300 sample #: 199 reconstruction error: 0.023651\n",
      "Epoch: 0 batch #: 53  of 300 sample #: 199 reconstruction error: 0.107733\n",
      "Epoch: 0 batch #: 54  of 300 sample #: 199 reconstruction error: 0.048453\n",
      "Epoch: 0 batch #: 55  of 300 sample #: 199 reconstruction error: 0.098920\n",
      "Epoch: 0 batch #: 56  of 300 sample #: 199 reconstruction error: 0.054905\n",
      "Epoch: 0 batch #: 57  of 300 sample #: 199 reconstruction error: 0.050856\n",
      "Epoch: 0 batch #: 58  of 300 sample #: 199 reconstruction error: 0.072601\n",
      "Epoch: 0 batch #: 59  of 300 sample #: 199 reconstruction error: 0.055526\n",
      "Epoch: 0 batch #: 60  of 300 sample #: 199 reconstruction error: 0.086521\n",
      "Epoch: 0 batch #: 61  of 300 sample #: 199 reconstruction error: 0.089891\n",
      "Epoch: 0 batch #: 62  of 300 sample #: 199 reconstruction error: 0.088877\n",
      "Epoch: 0 batch #: 63  of 300 sample #: 199 reconstruction error: 0.057267\n",
      "Epoch: 0 batch #: 64  of 300 sample #: 199 reconstruction error: 0.070396\n",
      "Epoch: 0 batch #: 65  of 300 sample #: 199 reconstruction error: 0.084059\n",
      "Epoch: 0 batch #: 66  of 300 sample #: 199 reconstruction error: 0.066588\n",
      "Epoch: 0 batch #: 67  of 300 sample #: 199 reconstruction error: 0.044478\n",
      "Epoch: 0 batch #: 68  of 300 sample #: 199 reconstruction error: 0.066935\n",
      "Epoch: 0 batch #: 69  of 300 sample #: 199 reconstruction error: 0.078981\n",
      "Epoch: 0 batch #: 70  of 300 sample #: 199 reconstruction error: 0.085379\n",
      "Epoch: 0 batch #: 71  of 300 sample #: 199 reconstruction error: 0.081837\n",
      "Epoch: 0 batch #: 72  of 300 sample #: 199 reconstruction error: 0.060655\n",
      "Epoch: 0 batch #: 73  of 300 sample #: 199 reconstruction error: 0.097213\n",
      "Epoch: 0 batch #: 74  of 300 sample #: 199 reconstruction error: 0.101867\n",
      "Epoch: 0 batch #: 75  of 300 sample #: 199 reconstruction error: 0.056381\n",
      "Epoch: 0 batch #: 76  of 300 sample #: 199 reconstruction error: 0.075835\n",
      "Epoch: 0 batch #: 77  of 300 sample #: 199 reconstruction error: 0.107341\n",
      "Epoch: 0 batch #: 78  of 300 sample #: 199 reconstruction error: 0.091214\n",
      "Epoch: 0 batch #: 79  of 300 sample #: 199 reconstruction error: 0.117806\n",
      "Epoch: 0 batch #: 80  of 300 sample #: 199 reconstruction error: 0.036333\n",
      "Epoch: 0 batch #: 81  of 300 sample #: 199 reconstruction error: 0.061253\n",
      "Epoch: 0 batch #: 82  of 300 sample #: 199 reconstruction error: 0.056922\n",
      "Epoch: 0 batch #: 83  of 300 sample #: 199 reconstruction error: 0.082867\n",
      "Epoch: 0 batch #: 84  of 300 sample #: 199 reconstruction error: 0.089747\n",
      "Epoch: 0 batch #: 85  of 300 sample #: 199 reconstruction error: 0.044978\n",
      "Epoch: 0 batch #: 86  of 300 sample #: 199 reconstruction error: 0.091791\n",
      "Epoch: 0 batch #: 87  of 300 sample #: 199 reconstruction error: 0.083724\n",
      "Epoch: 0 batch #: 88  of 300 sample #: 199 reconstruction error: 0.022990\n",
      "Epoch: 0 batch #: 89  of 300 sample #: 199 reconstruction error: 0.070263\n",
      "Epoch: 0 batch #: 90  of 300 sample #: 199 reconstruction error: 0.077496\n",
      "Epoch: 0 batch #: 91  of 300 sample #: 199 reconstruction error: 0.070010\n",
      "Epoch: 0 batch #: 92  of 300 sample #: 199 reconstruction error: 0.053238\n",
      "Epoch: 0 batch #: 93  of 300 sample #: 199 reconstruction error: 0.112891\n",
      "Epoch: 0 batch #: 94  of 300 sample #: 199 reconstruction error: 0.127740\n",
      "Epoch: 0 batch #: 95  of 300 sample #: 199 reconstruction error: 0.055381\n",
      "Epoch: 0 batch #: 96  of 300 sample #: 199 reconstruction error: 0.058372\n",
      "Epoch: 0 batch #: 97  of 300 sample #: 199 reconstruction error: 0.114884\n",
      "Epoch: 0 batch #: 98  of 300 sample #: 199 reconstruction error: 0.089139\n",
      "Epoch: 0 batch #: 99  of 300 sample #: 199 reconstruction error: 0.054605\n",
      "Epoch: 0 batch #: 100  of 300 sample #: 199 reconstruction error: 0.088285\n",
      "Epoch: 0 batch #: 101  of 300 sample #: 199 reconstruction error: 0.061637\n",
      "Epoch: 0 batch #: 102  of 300 sample #: 199 reconstruction error: 0.078910\n",
      "Epoch: 0 batch #: 103  of 300 sample #: 199 reconstruction error: 0.077164\n",
      "Epoch: 0 batch #: 104  of 300 sample #: 199 reconstruction error: 0.082897\n",
      "Epoch: 0 batch #: 105  of 300 sample #: 199 reconstruction error: 0.060751\n",
      "Epoch: 0 batch #: 106  of 300 sample #: 199 reconstruction error: 0.121313\n",
      "Epoch: 0 batch #: 107  of 300 sample #: 199 reconstruction error: 0.131970\n",
      "Epoch: 0 batch #: 108  of 300 sample #: 199 reconstruction error: 0.056017\n",
      "Epoch: 0 batch #: 109  of 300 sample #: 199 reconstruction error: 0.091032\n",
      "Epoch: 0 batch #: 110  of 300 sample #: 199 reconstruction error: 0.056901\n",
      "Epoch: 0 batch #: 111  of 300 sample #: 199 reconstruction error: 0.096060\n",
      "Epoch: 0 batch #: 112  of 300 sample #: 199 reconstruction error: 0.037284\n",
      "Epoch: 0 batch #: 113  of 300 sample #: 199 reconstruction error: 0.072068\n",
      "Epoch: 0 batch #: 114  of 300 sample #: 199 reconstruction error: 0.075855\n",
      "Epoch: 0 batch #: 115  of 300 sample #: 199 reconstruction error: 0.060136\n",
      "Epoch: 0 batch #: 116  of 300 sample #: 199 reconstruction error: 0.054412\n",
      "Epoch: 0 batch #: 117  of 300 sample #: 199 reconstruction error: 0.038656\n",
      "Epoch: 0 batch #: 118  of 300 sample #: 199 reconstruction error: 0.069884\n",
      "Epoch: 0 batch #: 119  of 300 sample #: 199 reconstruction error: 0.114089\n",
      "Epoch: 0 batch #: 120  of 300 sample #: 199 reconstruction error: 0.074680\n",
      "Epoch: 0 batch #: 121  of 300 sample #: 199 reconstruction error: 0.046444\n",
      "Epoch: 0 batch #: 122  of 300 sample #: 199 reconstruction error: 0.098992\n",
      "Epoch: 0 batch #: 123  of 300 sample #: 199 reconstruction error: 0.069585\n",
      "Epoch: 0 batch #: 124  of 300 sample #: 199 reconstruction error: 0.078996\n",
      "Epoch: 0 batch #: 125  of 300 sample #: 199 reconstruction error: 0.040549\n",
      "Epoch: 0 batch #: 126  of 300 sample #: 199 reconstruction error: 0.092790\n",
      "Epoch: 0 batch #: 127  of 300 sample #: 199 reconstruction error: 0.100534\n",
      "Epoch: 0 batch #: 128  of 300 sample #: 199 reconstruction error: 0.066091\n",
      "Epoch: 0 batch #: 129  of 300 sample #: 199 reconstruction error: 0.058423\n",
      "Epoch: 0 batch #: 130  of 300 sample #: 199 reconstruction error: 0.073078\n",
      "Epoch: 0 batch #: 131  of 300 sample #: 199 reconstruction error: 0.071190\n",
      "Epoch: 0 batch #: 132  of 300 sample #: 199 reconstruction error: 0.048026\n",
      "Epoch: 0 batch #: 133  of 300 sample #: 199 reconstruction error: 0.053994\n",
      "Epoch: 0 batch #: 134  of 300 sample #: 199 reconstruction error: 0.102840\n",
      "Epoch: 0 batch #: 135  of 300 sample #: 199 reconstruction error: 0.092277\n",
      "Epoch: 0 batch #: 136  of 300 sample #: 199 reconstruction error: 0.090285\n",
      "Epoch: 0 batch #: 137  of 300 sample #: 199 reconstruction error: 0.075258\n",
      "Epoch: 0 batch #: 138  of 300 sample #: 199 reconstruction error: 0.065339\n",
      "Epoch: 0 batch #: 139  of 300 sample #: 199 reconstruction error: 0.119589\n",
      "Epoch: 0 batch #: 140  of 300 sample #: 199 reconstruction error: 0.076121\n",
      "Epoch: 0 batch #: 141  of 300 sample #: 199 reconstruction error: 0.086802\n",
      "Epoch: 0 batch #: 142  of 300 sample #: 199 reconstruction error: 0.067929\n",
      "Epoch: 0 batch #: 143  of 300 sample #: 199 reconstruction error: 0.048533\n",
      "Epoch: 0 batch #: 144  of 300 sample #: 199 reconstruction error: 0.053672\n",
      "Epoch: 0 batch #: 145  of 300 sample #: 199 reconstruction error: 0.097618\n",
      "Epoch: 0 batch #: 146  of 300 sample #: 199 reconstruction error: 0.094141\n",
      "Epoch: 0 batch #: 147  of 300 sample #: 199 reconstruction error: 0.076588\n",
      "Epoch: 0 batch #: 148  of 300 sample #: 199 reconstruction error: 0.074499\n",
      "Epoch: 0 batch #: 149  of 300 sample #: 199 reconstruction error: 0.048109\n",
      "Epoch: 0 batch #: 150  of 300 sample #: 199 reconstruction error: 0.044115\n",
      "Epoch: 0 batch #: 151  of 300 sample #: 199 reconstruction error: 0.098458\n",
      "Epoch: 0 batch #: 152  of 300 sample #: 199 reconstruction error: 0.073090\n",
      "Epoch: 0 batch #: 153  of 300 sample #: 199 reconstruction error: 0.070811\n",
      "Epoch: 0 batch #: 154  of 300 sample #: 199 reconstruction error: 0.054590\n",
      "Epoch: 0 batch #: 155  of 300 sample #: 199 reconstruction error: 0.059882\n",
      "Epoch: 0 batch #: 156  of 300 sample #: 199 reconstruction error: 0.072135\n",
      "Epoch: 0 batch #: 157  of 300 sample #: 199 reconstruction error: 0.077848\n",
      "Epoch: 0 batch #: 158  of 300 sample #: 199 reconstruction error: 0.061706\n",
      "Epoch: 0 batch #: 159  of 300 sample #: 199 reconstruction error: 0.047557\n",
      "Epoch: 0 batch #: 160  of 300 sample #: 199 reconstruction error: 0.080082\n",
      "Epoch: 0 batch #: 161  of 300 sample #: 199 reconstruction error: 0.067774\n",
      "Epoch: 0 batch #: 162  of 300 sample #: 199 reconstruction error: 0.096407\n",
      "Epoch: 0 batch #: 163  of 300 sample #: 199 reconstruction error: 0.043143\n",
      "Epoch: 0 batch #: 164  of 300 sample #: 199 reconstruction error: 0.060688\n",
      "Epoch: 0 batch #: 165  of 300 sample #: 199 reconstruction error: 0.077989\n",
      "Epoch: 0 batch #: 166  of 300 sample #: 199 reconstruction error: 0.068104\n",
      "Epoch: 0 batch #: 167  of 300 sample #: 199 reconstruction error: 0.091376\n",
      "Epoch: 0 batch #: 168  of 300 sample #: 199 reconstruction error: 0.049236\n",
      "Epoch: 0 batch #: 169  of 300 sample #: 199 reconstruction error: 0.029953\n",
      "Epoch: 0 batch #: 170  of 300 sample #: 199 reconstruction error: 0.060694\n",
      "Epoch: 0 batch #: 171  of 300 sample #: 199 reconstruction error: 0.033602\n",
      "Epoch: 0 batch #: 172  of 300 sample #: 199 reconstruction error: 0.040658\n",
      "Epoch: 0 batch #: 173  of 300 sample #: 199 reconstruction error: 0.076285\n",
      "Epoch: 0 batch #: 174  of 300 sample #: 199 reconstruction error: 0.113860\n",
      "Epoch: 0 batch #: 175  of 300 sample #: 199 reconstruction error: 0.075549\n",
      "Epoch: 0 batch #: 176  of 300 sample #: 199 reconstruction error: 0.042945\n",
      "Epoch: 0 batch #: 177  of 300 sample #: 199 reconstruction error: 0.042680\n",
      "Epoch: 0 batch #: 178  of 300 sample #: 199 reconstruction error: 0.098327\n",
      "Epoch: 0 batch #: 179  of 300 sample #: 199 reconstruction error: 0.083002\n",
      "Epoch: 0 batch #: 180  of 300 sample #: 199 reconstruction error: 0.077884\n",
      "Epoch: 0 batch #: 181  of 300 sample #: 199 reconstruction error: 0.096988\n",
      "Epoch: 0 batch #: 182  of 300 sample #: 199 reconstruction error: 0.083569\n",
      "Epoch: 0 batch #: 183  of 300 sample #: 199 reconstruction error: 0.106338\n",
      "Epoch: 0 batch #: 184  of 300 sample #: 199 reconstruction error: 0.072997\n",
      "Epoch: 0 batch #: 185  of 300 sample #: 199 reconstruction error: 0.075284\n",
      "Epoch: 0 batch #: 186  of 300 sample #: 199 reconstruction error: 0.104104\n",
      "Epoch: 0 batch #: 187  of 300 sample #: 199 reconstruction error: 0.049155\n",
      "Epoch: 0 batch #: 188  of 300 sample #: 199 reconstruction error: 0.122099\n",
      "Epoch: 0 batch #: 189  of 300 sample #: 199 reconstruction error: 0.080142\n",
      "Epoch: 0 batch #: 190  of 300 sample #: 199 reconstruction error: 0.056505\n",
      "Epoch: 0 batch #: 191  of 300 sample #: 199 reconstruction error: 0.102807\n",
      "Epoch: 0 batch #: 192  of 300 sample #: 199 reconstruction error: 0.118128\n",
      "Epoch: 0 batch #: 193  of 300 sample #: 199 reconstruction error: 0.113563\n",
      "Epoch: 0 batch #: 194  of 300 sample #: 199 reconstruction error: 0.097566\n",
      "Epoch: 0 batch #: 195  of 300 sample #: 199 reconstruction error: 0.040506\n",
      "Epoch: 0 batch #: 196  of 300 sample #: 199 reconstruction error: 0.058092\n",
      "Epoch: 0 batch #: 197  of 300 sample #: 199 reconstruction error: 0.050693\n",
      "Epoch: 0 batch #: 198  of 300 sample #: 199 reconstruction error: 0.087448\n",
      "Epoch: 0 batch #: 199  of 300 sample #: 199 reconstruction error: 0.073736\n",
      "Epoch: 0 batch #: 200  of 300 sample #: 199 reconstruction error: 0.091187\n",
      "Epoch: 0 batch #: 201  of 300 sample #: 199 reconstruction error: 0.101622\n",
      "Epoch: 0 batch #: 202  of 300 sample #: 199 reconstruction error: 0.023286\n",
      "Epoch: 0 batch #: 203  of 300 sample #: 199 reconstruction error: 0.102706\n",
      "Epoch: 0 batch #: 204  of 300 sample #: 199 reconstruction error: 0.042926\n",
      "Epoch: 0 batch #: 205  of 300 sample #: 199 reconstruction error: 0.017399\n",
      "Epoch: 0 batch #: 206  of 300 sample #: 199 reconstruction error: 0.062942\n",
      "Epoch: 0 batch #: 207  of 300 sample #: 199 reconstruction error: 0.080532\n",
      "Epoch: 0 batch #: 208  of 300 sample #: 199 reconstruction error: 0.056201\n",
      "Epoch: 0 batch #: 209  of 300 sample #: 199 reconstruction error: 0.030696\n",
      "Epoch: 0 batch #: 210  of 300 sample #: 199 reconstruction error: 0.083966\n",
      "Epoch: 0 batch #: 211  of 300 sample #: 199 reconstruction error: 0.096856\n",
      "Epoch: 0 batch #: 212  of 300 sample #: 199 reconstruction error: 0.086993\n",
      "Epoch: 0 batch #: 213  of 300 sample #: 199 reconstruction error: 0.088128\n",
      "Epoch: 0 batch #: 214  of 300 sample #: 199 reconstruction error: 0.106195\n",
      "Epoch: 0 batch #: 215  of 300 sample #: 199 reconstruction error: 0.035189\n",
      "Epoch: 0 batch #: 216  of 300 sample #: 199 reconstruction error: 0.101738\n",
      "Epoch: 0 batch #: 217  of 300 sample #: 199 reconstruction error: 0.087369\n",
      "Epoch: 0 batch #: 218  of 300 sample #: 199 reconstruction error: 0.079266\n",
      "Epoch: 0 batch #: 219  of 300 sample #: 199 reconstruction error: 0.068020\n",
      "Epoch: 0 batch #: 220  of 300 sample #: 199 reconstruction error: 0.054434\n",
      "Epoch: 0 batch #: 221  of 300 sample #: 199 reconstruction error: 0.078579\n",
      "Epoch: 0 batch #: 222  of 300 sample #: 199 reconstruction error: 0.099817\n",
      "Epoch: 0 batch #: 223  of 300 sample #: 199 reconstruction error: 0.077465\n",
      "Epoch: 0 batch #: 224  of 300 sample #: 199 reconstruction error: 0.054827\n",
      "Epoch: 0 batch #: 225  of 300 sample #: 199 reconstruction error: 0.069773\n",
      "Epoch: 0 batch #: 226  of 300 sample #: 199 reconstruction error: 0.134180\n",
      "Epoch: 0 batch #: 227  of 300 sample #: 199 reconstruction error: 0.073480\n",
      "Epoch: 0 batch #: 228  of 300 sample #: 199 reconstruction error: 0.058427\n",
      "Epoch: 0 batch #: 229  of 300 sample #: 199 reconstruction error: 0.076525\n",
      "Epoch: 0 batch #: 230  of 300 sample #: 199 reconstruction error: 0.033943\n",
      "Epoch: 0 batch #: 231  of 300 sample #: 199 reconstruction error: 0.033928\n",
      "Epoch: 0 batch #: 232  of 300 sample #: 199 reconstruction error: 0.078137\n",
      "Epoch: 0 batch #: 233  of 300 sample #: 199 reconstruction error: 0.069320\n",
      "Epoch: 0 batch #: 234  of 300 sample #: 199 reconstruction error: 0.060010\n",
      "Epoch: 0 batch #: 235  of 300 sample #: 199 reconstruction error: 0.068444\n",
      "Epoch: 0 batch #: 236  of 300 sample #: 199 reconstruction error: 0.110681\n",
      "Epoch: 0 batch #: 237  of 300 sample #: 199 reconstruction error: 0.072597\n",
      "Epoch: 0 batch #: 238  of 300 sample #: 199 reconstruction error: 0.117742\n",
      "Epoch: 0 batch #: 239  of 300 sample #: 199 reconstruction error: 0.035298\n",
      "Epoch: 0 batch #: 240  of 300 sample #: 199 reconstruction error: 0.083065\n",
      "Epoch: 0 batch #: 241  of 300 sample #: 199 reconstruction error: 0.084896\n",
      "Epoch: 0 batch #: 242  of 300 sample #: 199 reconstruction error: 0.067749\n",
      "Epoch: 0 batch #: 243  of 300 sample #: 199 reconstruction error: 0.076352\n",
      "Epoch: 0 batch #: 244  of 300 sample #: 199 reconstruction error: 0.072670\n",
      "Epoch: 0 batch #: 245  of 300 sample #: 199 reconstruction error: 0.053104\n",
      "Epoch: 0 batch #: 246  of 300 sample #: 199 reconstruction error: 0.082563\n",
      "Epoch: 0 batch #: 247  of 300 sample #: 199 reconstruction error: 0.048021\n",
      "Epoch: 0 batch #: 248  of 300 sample #: 199 reconstruction error: 0.062610\n",
      "Epoch: 0 batch #: 249  of 300 sample #: 199 reconstruction error: 0.056170\n",
      "Epoch: 0 batch #: 250  of 300 sample #: 199 reconstruction error: 0.090257\n",
      "Epoch: 0 batch #: 251  of 300 sample #: 199 reconstruction error: 0.046680\n",
      "Epoch: 0 batch #: 252  of 300 sample #: 199 reconstruction error: 0.067771\n",
      "Epoch: 0 batch #: 253  of 300 sample #: 199 reconstruction error: 0.053004\n",
      "Epoch: 0 batch #: 254  of 300 sample #: 199 reconstruction error: 0.030783\n",
      "Epoch: 0 batch #: 255  of 300 sample #: 199 reconstruction error: 0.069728\n",
      "Epoch: 0 batch #: 256  of 300 sample #: 199 reconstruction error: 0.075569\n",
      "Epoch: 0 batch #: 257  of 300 sample #: 199 reconstruction error: 0.082070\n",
      "Epoch: 0 batch #: 258  of 300 sample #: 199 reconstruction error: 0.072377\n",
      "Epoch: 0 batch #: 259  of 300 sample #: 199 reconstruction error: 0.082531\n",
      "Epoch: 0 batch #: 260  of 300 sample #: 199 reconstruction error: 0.096883\n",
      "Epoch: 0 batch #: 261  of 300 sample #: 199 reconstruction error: 0.028310\n",
      "Epoch: 0 batch #: 262  of 300 sample #: 199 reconstruction error: 0.066633\n",
      "Epoch: 0 batch #: 263  of 300 sample #: 199 reconstruction error: 0.078037\n",
      "Epoch: 0 batch #: 264  of 300 sample #: 199 reconstruction error: 0.065681\n",
      "Epoch: 0 batch #: 265  of 300 sample #: 199 reconstruction error: 0.055808\n",
      "Epoch: 0 batch #: 266  of 300 sample #: 199 reconstruction error: 0.037564\n",
      "Epoch: 0 batch #: 267  of 300 sample #: 199 reconstruction error: 0.053025\n",
      "Epoch: 0 batch #: 268  of 300 sample #: 199 reconstruction error: 0.026456\n",
      "Epoch: 0 batch #: 269  of 300 sample #: 199 reconstruction error: 0.091169\n",
      "Epoch: 0 batch #: 270  of 300 sample #: 199 reconstruction error: 0.075214\n",
      "Epoch: 0 batch #: 271  of 300 sample #: 199 reconstruction error: 0.046078\n",
      "Epoch: 0 batch #: 272  of 300 sample #: 199 reconstruction error: 0.058274\n",
      "Epoch: 0 batch #: 273  of 300 sample #: 199 reconstruction error: 0.042803\n",
      "Epoch: 0 batch #: 274  of 300 sample #: 199 reconstruction error: 0.047409\n",
      "Epoch: 0 batch #: 275  of 300 sample #: 199 reconstruction error: 0.092038\n",
      "Epoch: 0 batch #: 276  of 300 sample #: 199 reconstruction error: 0.072541\n",
      "Epoch: 0 batch #: 277  of 300 sample #: 199 reconstruction error: 0.079947\n",
      "Epoch: 0 batch #: 278  of 300 sample #: 199 reconstruction error: 0.069109\n",
      "Epoch: 0 batch #: 279  of 300 sample #: 199 reconstruction error: 0.044668\n",
      "Epoch: 0 batch #: 280  of 300 sample #: 199 reconstruction error: 0.078980\n",
      "Epoch: 0 batch #: 281  of 300 sample #: 199 reconstruction error: 0.077770\n",
      "Epoch: 0 batch #: 282  of 300 sample #: 199 reconstruction error: 0.105451\n",
      "Epoch: 0 batch #: 283  of 300 sample #: 199 reconstruction error: 0.048452\n",
      "Epoch: 0 batch #: 284  of 300 sample #: 199 reconstruction error: 0.070095\n",
      "Epoch: 0 batch #: 285  of 300 sample #: 199 reconstruction error: 0.068417\n",
      "Epoch: 0 batch #: 286  of 300 sample #: 199 reconstruction error: 0.081398\n",
      "Epoch: 0 batch #: 287  of 300 sample #: 199 reconstruction error: 0.073580\n",
      "Epoch: 0 batch #: 288  of 300 sample #: 199 reconstruction error: 0.022230\n",
      "Epoch: 0 batch #: 289  of 300 sample #: 199 reconstruction error: 0.087843\n",
      "Epoch: 0 batch #: 290  of 300 sample #: 199 reconstruction error: 0.095077\n",
      "Epoch: 0 batch #: 291  of 300 sample #: 199 reconstruction error: 0.099530\n",
      "Epoch: 0 batch #: 292  of 300 sample #: 199 reconstruction error: 0.078390\n",
      "Epoch: 0 batch #: 293  of 300 sample #: 199 reconstruction error: 0.063743\n",
      "Epoch: 0 batch #: 294  of 300 sample #: 199 reconstruction error: 0.089664\n",
      "Epoch: 0 batch #: 295  of 300 sample #: 199 reconstruction error: 0.069410\n",
      "Epoch: 0 batch #: 296  of 300 sample #: 199 reconstruction error: 0.026398\n",
      "Epoch: 0 batch #: 297  of 300 sample #: 199 reconstruction error: 0.101601\n",
      "Epoch: 0 batch #: 298  of 300 sample #: 199 reconstruction error: 0.063717\n",
      "Epoch: 0 batch #: 299  of 300 sample #: 199 reconstruction error: 0.045959\n",
      "Epoch: 0 batch #: 300  of 300 sample #: 199 reconstruction error: 0.086721\n"
     ]
    }
   ],
   "source": [
    "#Parameters\n",
    "alpha = 0.01\n",
    "epochs = 1\n",
    "batchsize = 200\n",
    "weights = []\n",
    "errors = []\n",
    "batch_number = 0\n",
    "K = 1\n",
    "\n",
    "#creating datasets\n",
    "train_ds = \\\n",
    "    tf.data.Dataset.from_tensor_slices((trX, trY)).batch(batchsize)\n",
    "\n",
    "for epoch in range(epochs):\n",
    "    for batch_x, batch_y in train_ds:\n",
    "        batch_number += 1\n",
    "        for i_sample in range(batchsize):           \n",
    "            for k in range(K):\n",
    "                v0_state = batch_x[i_sample]\n",
    "                h0_state = hidden_layer(v0_state, W, hb)\n",
    "                v1_state = reconstructed_output(h0_state, W, vb)\n",
    "                h1_state = hidden_layer(v1_state, W, hb)\n",
    "\n",
    "                delta_W = tf.matmul(tf.transpose([v0_state]), h0_state) - tf.matmul(tf.transpose([v1_state]), h1_state)\n",
    "                W = W + alpha * delta_W\n",
    "\n",
    "                vb = vb + alpha * tf.reduce_mean(v0_state - v1_state, 0)\n",
    "                hb = hb + alpha * tf.reduce_mean(h0_state - h1_state, 0) \n",
    "\n",
    "                v0_state = v1_state\n",
    "\n",
    "            if i_sample == batchsize-1:\n",
    "                err = error(batch_x[i_sample], v1_state)\n",
    "                errors.append(err)\n",
    "                weights.append(W)\n",
    "                print ( 'Epoch: %d' % epoch, \n",
    "                       \"batch #: %i \" % batch_number, \"of %i\" % int(60e3/batchsize), \n",
    "                       \"sample #: %i\" % i_sample,\n",
    "                       'reconstruction error: %f' % err)\n",
    "\n"
   ]
  },
  {
   "cell_type": "markdown",
   "metadata": {},
   "source": [
    "Let's take a look at the errors at the end of each batch:\n"
   ]
  },
  {
   "cell_type": "code",
   "execution_count": 25,
   "metadata": {
    "tags": []
   },
   "outputs": [
    {
     "data": {
      "image/png": "[encoded data removed]",
      "text/plain": [
       "<Figure size 640x480 with 1 Axes>"
      ]
     },
     "metadata": {},
     "output_type": "display_data"
    }
   ],
   "source": [
    "plt.plot(errors)\n",
    "plt.xlabel(\"Batch Number\")\n",
    "plt.ylabel(\"Error\")\n",
    "plt.show()"
   ]
  },
  {
   "cell_type": "markdown",
   "metadata": {},
   "source": [
    "What is the final weight matrix $W$ after training?\n"
   ]
  },
  {
   "cell_type": "code",
   "execution_count": 26,
   "metadata": {
    "tags": []
   },
   "outputs": [
    {
     "name": "stdout",
     "output_type": "stream",
     "text": [
      "[[-0.27       -0.3899999  -0.43999985 ... -0.23000003 -0.45999983\n",
      "  -0.5399998 ]\n",
      " [-0.23000003 -0.31999996 -0.4999998  ... -0.21000002 -0.5099998\n",
      "  -0.6099997 ]\n",
      " [-0.28       -0.35999992 -0.4999998  ... -0.26000002 -0.4899998\n",
      "  -0.6099997 ]\n",
      " ...\n",
      " [-0.29       -0.33999994 -0.5499998  ... -0.28       -0.5199998\n",
      "  -0.5999997 ]\n",
      " [-0.25000003 -0.4799998  -0.5299998  ... -0.26000002 -0.4799998\n",
      "  -0.57999974]\n",
      " [-0.20000002 -0.33999994 -0.46999982 ... -0.24000004 -0.42999986\n",
      "  -0.6099997 ]]\n"
     ]
    }
   ],
   "source": [
    "print(W.numpy()) # a weight matrix of shape (50,784)"
   ]
  },
  {
   "cell_type": "markdown",
   "metadata": {},
   "source": [
    "<a id=\"ref5\"></a>\n",
    "<h3>Learned features</h3> \n"
   ]
  },
  {
   "cell_type": "markdown",
   "metadata": {},
   "source": [
    "We can take each hidden unit and visualize the connections between that hidden unit and each element in the input vector. In our case, we have 50 hidden units. Lets visualize those.\n"
   ]
  },
  {
   "cell_type": "markdown",
   "metadata": {},
   "source": [
    "Let's plot the current weights:\n",
    "<b>tile_raster_images</b> helps in generating an easy to grasp image from a set of samples or weights. It transforms the <b>uw</b> (with one flattened image per row of size 784), into an array (of size $28\\times28$) in which images are reshaped and laid out like tiles on a floor.\n"
   ]
  },
  {
   "cell_type": "code",
   "execution_count": 27,
   "metadata": {
    "tags": []
   },
   "outputs": [
    {
     "data": {
      "image/png": "[encoded data removed]",
      "text/plain": [
       "<Figure size 1800x1800 with 1 Axes>"
      ]
     },
     "metadata": {},
     "output_type": "display_data"
    }
   ],
   "source": [
    "tile_raster_images(X=W.numpy().T, img_shape=(28, 28), tile_shape=(5, 10), tile_spacing=(1, 1))\n",
    "import matplotlib.pyplot as plt\n",
    "from PIL import Image\n",
    "%matplotlib inline\n",
    "image = Image.fromarray(tile_raster_images(X=W.numpy().T, img_shape=(28, 28) ,tile_shape=(5, 10), tile_spacing=(1, 1)))\n",
    "### Plot image\n",
    "plt.rcParams['figure.figsize'] = (18.0, 18.0)\n",
    "imgplot = plt.imshow(image)\n",
    "imgplot.set_cmap('gray')  "
   ]
  },
  {
   "cell_type": "markdown",
   "metadata": {},
   "source": [
    "Each tile in the above visualization corresponds to a vector of connections between a hidden unit and visible layer's units. \n"
   ]
  },
  {
   "cell_type": "markdown",
   "metadata": {},
   "source": [
    "Let's look at one of the learned weights corresponding to one of hidden units for example. In this particular square, the gray color represents weight = 0, and the whiter it is, the more positive the weights are (closer to 1). Conversely, the darker pixels are, the more negative the weights. The positive pixels will increase the probability of activation in hidden units (after multiplying by input/visible pixels), and negative pixels will decrease the probability of a unit hidden to be 1 (activated). So, why is this important?  So we can see that this specific square (hidden unit) can detect a feature (e.g. a \"/\" shape) and if it exists in the input.\n"
   ]
  },
  {
   "cell_type": "code",
   "execution_count": 28,
   "metadata": {
    "tags": []
   },
   "outputs": [
    {
     "data": {
      "image/png": "[encoded data removed]",
      "text/plain": [
       "<Figure size 400x400 with 1 Axes>"
      ]
     },
     "metadata": {},
     "output_type": "display_data"
    }
   ],
   "source": [
    "from PIL import Image\n",
    "image = Image.fromarray(tile_raster_images(X =W.numpy().T[10:11], img_shape=(28, 28),tile_shape=(1, 1), tile_spacing=(1, 1)))\n",
    "### Plot image\n",
    "plt.rcParams['figure.figsize'] = (4.0, 4.0)\n",
    "imgplot = plt.imshow(image)\n",
    "imgplot.set_cmap('gray')  "
   ]
  },
  {
   "cell_type": "markdown",
   "metadata": {},
   "source": [
    "Let's look at the reconstruction of an image now. Imagine that we have a destructed image of figure 3. Lets see if our trained network can fix it:\n",
    "\n",
    "First we plot the image:\n"
   ]
  },
  {
   "cell_type": "code",
   "execution_count": 29,
   "metadata": {
    "tags": []
   },
   "outputs": [
    {
     "name": "stdout",
     "output_type": "stream",
     "text": [
      "--2024-08-03 06:08:28--  https://ibm.box.com/shared/static/vvm1b63uvuxq88vbw9znpwu5ol380mco.jpg\n",
      "Resolving ibm.box.com (ibm.box.com)... 74.112.186.157, 74.112.186.157\n",
      "Connecting to ibm.box.com (ibm.box.com)|74.112.186.157|:443... connected.\n",
      "HTTP request sent, awaiting response... 301 Moved Permanently\n",
      "Location: /public/static/vvm1b63uvuxq88vbw9znpwu5ol380mco.jpg [following]\n",
      "--2024-08-03 06:08:28--  https://ibm.box.com/public/static/vvm1b63uvuxq88vbw9znpwu5ol380mco.jpg\n",
      "Reusing existing connection to ibm.box.com:443.\n",
      "HTTP request sent, awaiting response... 301 Moved Permanently\n",
      "Location: https://ibm.ent.box.com/public/static/vvm1b63uvuxq88vbw9znpwu5ol380mco.jpg [following]\n",
      "--2024-08-03 06:08:28--  https://ibm.ent.box.com/public/static/vvm1b63uvuxq88vbw9znpwu5ol380mco.jpg\n",
      "Resolving ibm.ent.box.com (ibm.ent.box.com)... 74.112.186.157, 74.112.186.157\n",
      "Connecting to ibm.ent.box.com (ibm.ent.box.com)|74.112.186.157|:443... connected.\n",
      "HTTP request sent, awaiting response... 302 Found\n",
      "Location: https://public.boxcloud.com/d/1/b1!18zxndU7Vw6Y2SqK_gjRQIW5i9HX43q_K8jl5H_b2fe5syXOE1G62UbbF_J1D9WDE4vfUDrYVKDOCE7f4EKsprcsbfBCf9bHMcqOipsYhLGZk7Dt3mUISEcZxUa3rTQf45tRxSgNkxxmaJuKx-A8fvd-nCdD9Hi1aSPDFrcgOpxHMiDwnj26aD4OLpUcLOkYgMI-JSdy-mvZp3AQJNhvGaJk6aYVx9GW578mIHL1aBjcFR289gvcldBl_1nHXL8tj9nTv63F1bLT5e2Xm1AXSUGYe8n4SEJ90oPnP5E2iw-xV91YWoBeEwxT2shSr9XcVdcTFLApzwvK99K7F4l2TQjnONlWLPuKJ9VgZsNtPiI2tIDJdRa8fVUGQtJ5jBvFXK8cSmbkr3sXAL-56RvFDn8zKgSl5MxXEhFZFXI-9CPh8-6yVpT83HAtTzvy-cicIdACQGiUXp7Gfi_-81gFeIHV8ZZe9Bls5ShNBnFcBh11S-IkFgf-GcQIONd-bsQOcI1R0JcEpRr-4TJvJtaivTbv5PHgwgDX28bOaPG6B9J6Dja5mCBkv4wd2zxmQw45qCf3TaYiHq-rjUMumEChAeJkAjWEbftBBjRLqQb5Do_Re6cRvgeBB8l5he_aVj34TSjfdt7v0maoXwA2HgQzB8iqZuX6XsNJ--W6E-VlFpZUvzAwhOs36_5jC0KwW_JSnaiP4Um7mLeBZOhZlkvIbvpXVGg6fDXPgGYreao9vyPA7wx6Y0-T4mEhImMGVT47je6V9z1Gd_OnNwAL5H7i1zEJy-5qj_l89CcwOukK2M3puNNRgSLRFRTvaHYZzvpKSzs1WHQgwfojTxV-Ys9tlGdxVU1uHfTMw-Iuiseh-MHX2ReEJOGfYxX8NsD6PMUCeX_tID-8z2DN1tVfWFWFedGE7W4MVotaxkswVGjkBb-t5x6Z_UmKCO6YKuGiac4DIkvPEJSH4YQinDGmjdrCVc1bSQa6Khlqevd_L0Z-IEXkI2OD-rlHeXjgXZ1C4nAGmkp2qN1idacSH6-MJ8lc404ICgIkM6a9mRH0lCASNITWsufFB5OWmJN_ixdAVLi-yR3JR3PXnCvtb2Ah6Oq6k-PwwRPs216FpDNxBuulbSa7-85aWt1aIYzFjxSXPIW6oVSUOjTU-IyrrpSd9Oy_aLem-lPUqY21IGLgKdZZcZRGYUdiS6qkBGGoEzjgPMx7OrlovC1HsMzgcorLiSydao0-td9iLvVP_Es1DXzrML8x0iR8EUVC-ShavY5WkV_g5fTwIgzei57G07kC0U6vxubosHGstElPzqE0UOJceNdN29pMnKpiLewl1uDRWUVrJKdQ0DRYYLCV5ULHrfCFDzMov0ML0xA1ZiX-lnU9fF75Zmb5lGP1YRJv7IP_Yzm3cuUQVQuPj3WlLCPCj2YSmPA./download [following]\n",
      "--2024-08-03 06:08:29--  https://public.boxcloud.com/d/1/b1!18zxndU7Vw6Y2SqK_gjRQIW5i9HX43q_K8jl5H_b2fe5syXOE1G62UbbF_J1D9WDE4vfUDrYVKDOCE7f4EKsprcsbfBCf9bHMcqOipsYhLGZk7Dt3mUISEcZxUa3rTQf45tRxSgNkxxmaJuKx-A8fvd-nCdD9Hi1aSPDFrcgOpxHMiDwnj26aD4OLpUcLOkYgMI-JSdy-mvZp3AQJNhvGaJk6aYVx9GW578mIHL1aBjcFR289gvcldBl_1nHXL8tj9nTv63F1bLT5e2Xm1AXSUGYe8n4SEJ90oPnP5E2iw-xV91YWoBeEwxT2shSr9XcVdcTFLApzwvK99K7F4l2TQjnONlWLPuKJ9VgZsNtPiI2tIDJdRa8fVUGQtJ5jBvFXK8cSmbkr3sXAL-56RvFDn8zKgSl5MxXEhFZFXI-9CPh8-6yVpT83HAtTzvy-cicIdACQGiUXp7Gfi_-81gFeIHV8ZZe9Bls5ShNBnFcBh11S-IkFgf-GcQIONd-bsQOcI1R0JcEpRr-4TJvJtaivTbv5PHgwgDX28bOaPG6B9J6Dja5mCBkv4wd2zxmQw45qCf3TaYiHq-rjUMumEChAeJkAjWEbftBBjRLqQb5Do_Re6cRvgeBB8l5he_aVj34TSjfdt7v0maoXwA2HgQzB8iqZuX6XsNJ--W6E-VlFpZUvzAwhOs36_5jC0KwW_JSnaiP4Um7mLeBZOhZlkvIbvpXVGg6fDXPgGYreao9vyPA7wx6Y0-T4mEhImMGVT47je6V9z1Gd_OnNwAL5H7i1zEJy-5qj_l89CcwOukK2M3puNNRgSLRFRTvaHYZzvpKSzs1WHQgwfojTxV-Ys9tlGdxVU1uHfTMw-Iuiseh-MHX2ReEJOGfYxX8NsD6PMUCeX_tID-8z2DN1tVfWFWFedGE7W4MVotaxkswVGjkBb-t5x6Z_UmKCO6YKuGiac4DIkvPEJSH4YQinDGmjdrCVc1bSQa6Khlqevd_L0Z-IEXkI2OD-rlHeXjgXZ1C4nAGmkp2qN1idacSH6-MJ8lc404ICgIkM6a9mRH0lCASNITWsufFB5OWmJN_ixdAVLi-yR3JR3PXnCvtb2Ah6Oq6k-PwwRPs216FpDNxBuulbSa7-85aWt1aIYzFjxSXPIW6oVSUOjTU-IyrrpSd9Oy_aLem-lPUqY21IGLgKdZZcZRGYUdiS6qkBGGoEzjgPMx7OrlovC1HsMzgcorLiSydao0-td9iLvVP_Es1DXzrML8x0iR8EUVC-ShavY5WkV_g5fTwIgzei57G07kC0U6vxubosHGstElPzqE0UOJceNdN29pMnKpiLewl1uDRWUVrJKdQ0DRYYLCV5ULHrfCFDzMov0ML0xA1ZiX-lnU9fF75Zmb5lGP1YRJv7IP_Yzm3cuUQVQuPj3WlLCPCj2YSmPA./download\n",
      "Resolving public.boxcloud.com (public.boxcloud.com)... 74.112.186.130, 74.112.186.130\n",
      "Connecting to public.boxcloud.com (public.boxcloud.com)|74.112.186.130|:443... connected.\n",
      "HTTP request sent, awaiting response... 200 OK\n",
      "Length: 24383 (24K) [image/jpeg]\n",
      "Saving to: ‘destructed3.jpg’\n",
      "\n",
      "destructed3.jpg     100%[===================>]  23.81K  --.-KB/s    in 0.002s  \n",
      "\n",
      "2024-08-03 06:08:29 (10.7 MB/s) - ‘destructed3.jpg’ saved [24383/24383]\n",
      "\n"
     ]
    },
    {
     "data": {
      "image/png": "[encoded data removed]",
      "text/plain": [
       "<PIL.JpegImagePlugin.JpegImageFile image mode=RGB size=181x181 at 0x7FF489AAEF90>"
      ]
     },
     "execution_count": 29,
     "metadata": {},
     "output_type": "execute_result"
    }
   ],
   "source": [
    "!wget -O destructed3.jpg  https://ibm.box.com/shared/static/vvm1b63uvuxq88vbw9znpwu5ol380mco.jpg\n",
    "img = Image.open('destructed3.jpg')\n",
    "img"
   ]
  },
  {
   "cell_type": "markdown",
   "metadata": {},
   "source": [
    "Now let's pass this image through the neural net:\n"
   ]
  },
  {
   "cell_type": "code",
   "execution_count": 30,
   "metadata": {
    "tags": []
   },
   "outputs": [],
   "source": [
    "# convert the image to a 1d numpy array\n",
    "sample_case = np.array(img.convert('I').resize((28,28))).ravel().reshape((1, -1))/255.0\n",
    "\n",
    "sample_case = tf.cast(sample_case, dtype=tf.float32)"
   ]
  },
  {
   "cell_type": "markdown",
   "metadata": {},
   "source": [
    "Feed the sample case into the network and reconstruct the output:\n"
   ]
  },
  {
   "cell_type": "code",
   "execution_count": 31,
   "metadata": {
    "tags": []
   },
   "outputs": [
    {
     "name": "stdout",
     "output_type": "stream",
     "text": [
      "Probability nodes in hidden layer: tf.Tensor(\n",
      "[[2.93116790e-12 1.72411152e-08 9.99199808e-01 6.47903085e-02\n",
      "  4.69615567e-04 9.87731993e-01 3.63349020e-02 8.43701273e-05\n",
      "  2.25517419e-06 2.54032284e-01 1.86948054e-10 1.16851886e-07\n",
      "  5.01114992e-12 1.57171300e-14 9.73761797e-01 1.98841208e-05\n",
      "  2.79727428e-05 9.88969873e-07 4.34777149e-07 8.67247484e-19\n",
      "  2.51083839e-04 2.18280416e-09 4.85283583e-01 2.45378479e-13\n",
      "  1.00000000e+00 4.31704298e-02 9.99999821e-01 7.92215526e-01\n",
      "  9.99964237e-01 3.16301652e-10 2.63796074e-09 1.60745130e-05\n",
      "  1.03156497e-10 1.00000000e+00 7.66309604e-05 1.00000000e+00\n",
      "  4.15917572e-13 4.17893352e-06 1.00000000e+00 1.12705743e-02\n",
      "  5.96136868e-01 1.00000000e+00 2.45493749e-04 9.99972999e-01\n",
      "  1.10319011e-01 2.93788162e-05 1.03814779e-02 1.58227849e-08\n",
      "  9.99854684e-01 1.00000000e+00]], shape=(1, 50), dtype=float32)\n",
      "activated nodes in hidden layer: tf.Tensor(\n",
      "[[0. 0. 1. 0. 0. 1. 0. 0. 0. 0. 0. 0. 0. 0. 1. 0. 0. 0. 0. 0. 0. 0. 0. 0.\n",
      "  1. 0. 1. 1. 1. 0. 0. 0. 0. 1. 0. 1. 0. 0. 1. 0. 1. 1. 0. 1. 0. 0. 0. 0.\n",
      "  1. 1.]], shape=(1, 50), dtype=float32)\n",
      "tf.Tensor(\n",
      "[[6.32228737e-04 6.13555254e-04 5.66409901e-04 8.44748691e-04\n",
      "  6.51470385e-04 7.27167062e-04 8.44748283e-04 8.53230595e-04\n",
      "  9.05943976e-04 7.79851631e-04 5.95432881e-04 5.72099001e-04\n",
      "  1.12267165e-03 5.96717990e-04 7.07352767e-04 6.08526403e-04\n",
      "  7.56821188e-04 9.52348812e-04 9.33508622e-04 4.92449384e-04\n",
      "  6.98674703e-04 8.44748283e-04 7.72098079e-04 7.79851631e-04\n",
      "  7.27167411e-04 4.92449617e-04 1.10630039e-03 6.78039563e-04\n",
      "  6.58013567e-04 7.34469970e-04 7.79851980e-04 1.00112765e-03\n",
      "  7.15914008e-04 1.31607638e-03 5.57096559e-04 8.49161937e-04\n",
      "  4.39122785e-04 8.94481840e-04 1.44905970e-03 7.72432191e-04\n",
      "  1.13216823e-03 1.54977152e-03 8.48897325e-04 9.29312315e-04\n",
      "  1.63805671e-03 2.11627642e-03 7.15943053e-04 1.18016498e-03\n",
      "  9.84905986e-04 6.84151775e-04 6.56571530e-04 9.63419268e-04\n",
      "  5.38800552e-04 9.61910526e-04 7.19936972e-04 6.25942426e-04\n",
      "  1.02133153e-03 6.32228737e-04 8.15765408e-04 7.89785525e-04\n",
      "  8.08668265e-04 6.42067695e-04 9.66709689e-04 7.17516406e-04\n",
      "  6.11540803e-04 5.11473569e-04 4.74953442e-04 4.61827469e-04\n",
      "  6.87161926e-04 4.30279120e-04 3.12006625e-04 2.87451170e-04\n",
      "  2.55535298e-04 1.19273085e-04 2.71672936e-04 1.20014425e-04\n",
      "  1.57344126e-04 3.55487777e-04 1.13154727e-03 7.20078999e-04\n",
      "  8.37071624e-04 6.27760717e-04 6.71297370e-04 9.61910526e-04\n",
      "  9.91175766e-04 9.52347938e-04 6.05077774e-04 6.99195254e-04\n",
      "  1.16491737e-03 8.65216425e-04 7.45694968e-04 8.98559520e-04\n",
      "  2.29201440e-04 2.27465891e-04 2.05953402e-04 1.51676388e-04\n",
      "  3.46247834e-04 6.68785884e-04 7.22629135e-04 7.29977968e-04\n",
      "  7.79157446e-04 1.61502068e-03 1.12891372e-03 4.74870380e-04\n",
      "  3.07083072e-04 2.45412055e-04 6.62154867e-04 7.20756943e-04\n",
      "  1.05050881e-03 1.13265484e-03 7.61849515e-04 4.87551937e-04\n",
      "  5.77845203e-04 6.12258387e-04 4.13836329e-04 7.34643952e-04\n",
      "  1.25639117e-03 9.10893723e-04 9.35233897e-04 3.00437008e-04\n",
      "  4.14540322e-04 4.36744303e-04 7.86529330e-04 1.23021181e-03\n",
      "  3.30000767e-03 2.57321820e-03 1.18947001e-02 2.73455754e-02\n",
      "  9.09178331e-02 7.29782879e-02 4.21432070e-02 1.71530731e-02\n",
      "  1.13350814e-02 4.82642930e-03 3.13862599e-03 3.10284575e-03\n",
      "  5.15286997e-03 2.20668223e-03 7.02629331e-04 1.13238778e-03\n",
      "  6.84849161e-04 8.36350024e-04 6.77402481e-04 7.57118047e-04\n",
      "  1.39964826e-03 7.39644922e-04 4.17738047e-04 1.21532253e-03\n",
      "  1.99722894e-03 5.92104997e-03 3.10867615e-02 1.10496923e-01\n",
      "  2.15916947e-01 5.48945069e-01 5.44067085e-01 9.27497327e-01\n",
      "  9.09443438e-01 8.33523393e-01 7.11226761e-01 4.93422061e-01\n",
      "  1.31252751e-01 8.38616639e-02 2.62911487e-02 1.69762112e-02\n",
      "  1.19112888e-02 6.08763518e-03 2.64558685e-03 8.22118775e-04\n",
      "  7.19936972e-04 6.16738165e-04 9.64287610e-04 2.01816275e-03\n",
      "  1.56821276e-03 1.05456193e-03 1.14646263e-03 1.28085725e-03\n",
      "  9.55404714e-03 3.35368030e-02 3.75925958e-01 7.61305988e-01\n",
      "  8.77207994e-01 9.00280535e-01 9.25730109e-01 9.61619735e-01\n",
      "  9.36129093e-01 9.22207177e-01 9.08614874e-01 8.40575159e-01\n",
      "  3.42020780e-01 1.19025126e-01 5.11405393e-02 3.22123654e-02\n",
      "  1.37166604e-02 5.98270819e-03 4.03871574e-03 1.16209046e-03\n",
      "  8.64301343e-04 9.32814670e-04 1.45502971e-03 2.16155965e-03\n",
      "  1.77169067e-03 2.46536545e-03 3.05999210e-03 3.09195300e-03\n",
      "  3.04502454e-02 2.50996649e-01 8.83515239e-01 9.49481666e-01\n",
      "  9.24885213e-01 8.02448332e-01 7.88752258e-01 7.32871592e-01\n",
      "  7.18317032e-01 6.63396776e-01 5.47212839e-01 5.71505964e-01\n",
      "  6.02603674e-01 1.88494757e-01 1.66876242e-01 8.76324773e-02\n",
      "  1.35978311e-02 3.97986500e-03 2.70692538e-03 9.61270707e-04\n",
      "  1.00395572e-03 8.53131001e-04 2.57514371e-03 2.85669044e-03\n",
      "  2.40571355e-03 3.65398289e-03 8.20995774e-03 3.32078189e-02\n",
      "  1.93488628e-01 5.14974713e-01 8.60245049e-01 9.27535534e-01\n",
      "  7.90279090e-01 4.70381677e-01 1.27674922e-01 5.41605726e-02\n",
      "  6.14080690e-02 1.59301206e-01 1.73643410e-01 3.86680812e-01\n",
      "  5.41746080e-01 5.60148835e-01 4.44757760e-01 1.35330260e-01\n",
      "  4.57999334e-02 5.19182347e-03 3.52505106e-03 1.07019732e-03\n",
      "  6.83053688e-04 8.60381930e-04 1.71852857e-03 2.57060886e-03\n",
      "  3.45470174e-03 9.54524241e-03 2.61637978e-02 1.16703346e-01\n",
      "  4.55328673e-01 7.68479764e-01 7.71720946e-01 5.13395190e-01\n",
      "  2.44243160e-01 7.79706240e-02 3.43821086e-02 3.16494554e-02\n",
      "  4.68913317e-02 6.40545934e-02 1.53493404e-01 3.09494197e-01\n",
      "  6.85877740e-01 8.00682545e-01 6.95725620e-01 2.25395843e-01\n",
      "  6.92260712e-02 5.21883089e-03 2.19290936e-03 7.31024251e-04\n",
      "  8.18326545e-04 1.50033110e-03 4.05815803e-03 4.53408202e-03\n",
      "  8.45581200e-03 1.31762782e-02 2.15644166e-02 9.86195505e-02\n",
      "  3.47296715e-01 4.95532870e-01 4.62941349e-01 2.55800784e-01\n",
      "  7.44285583e-02 5.64751923e-02 6.39812797e-02 1.25905812e-01\n",
      "  1.86961710e-01 2.59893924e-01 4.43097740e-01 5.53071201e-01\n",
      "  7.31080234e-01 8.74334872e-01 5.78427911e-01 1.95813522e-01\n",
      "  2.08408218e-02 5.79765672e-03 1.74271665e-03 9.08147835e-04\n",
      "  7.20219337e-04 9.75840725e-04 2.11164728e-03 5.13458392e-03\n",
      "  7.86202028e-03 1.82429031e-02 3.24264243e-02 8.10214579e-02\n",
      "  1.48699924e-01 2.08965570e-01 2.84001112e-01 1.23394012e-01\n",
      "  2.62610644e-01 3.20856631e-01 4.71847951e-01 4.22673881e-01\n",
      "  3.26064169e-01 4.60410208e-01 5.86582482e-01 7.45766699e-01\n",
      "  7.07581520e-01 4.38553005e-01 2.48253450e-01 8.79735276e-02\n",
      "  1.70533638e-02 3.77613795e-03 1.55056210e-03 7.36227899e-04\n",
      "  9.38532292e-04 9.58938908e-04 3.15087615e-03 2.90194340e-03\n",
      "  4.76715248e-03 1.65233891e-02 2.30882969e-02 3.29998434e-02\n",
      "  5.64011969e-02 5.38974777e-02 1.06064603e-01 2.59272516e-01\n",
      "  6.74589813e-01 8.26033115e-01 8.46388996e-01 8.03859591e-01\n",
      "  5.57540119e-01 5.01562595e-01 6.58459961e-01 6.32412434e-01\n",
      "  5.07105410e-01 2.70379633e-01 7.86469579e-02 1.49570238e-02\n",
      "  5.26547804e-03 1.76199374e-03 1.22947327e-03 1.00813317e-03\n",
      "  7.42806122e-04 8.41840985e-04 1.58369413e-03 2.94825900e-03\n",
      "  3.67728435e-03 1.48072066e-02 2.32397001e-02 3.20722759e-02\n",
      "  2.45400891e-02 3.27931158e-02 5.50453328e-02 3.22676986e-01\n",
      "  8.23277056e-01 8.66749108e-01 8.28892827e-01 6.50188327e-01\n",
      "  7.16844440e-01 6.62180841e-01 7.05117106e-01 5.99347830e-01\n",
      "  3.92402351e-01 1.62253380e-01 3.46958339e-02 7.13837706e-03\n",
      "  2.73450138e-03 1.28919620e-03 1.26240996e-03 7.38482107e-04\n",
      "  7.58365088e-04 9.15650860e-04 1.10907666e-03 2.58593913e-03\n",
      "  5.94971748e-03 6.96672080e-03 7.10405875e-03 6.37123408e-03\n",
      "  1.14094019e-02 2.00682897e-02 2.92235613e-02 1.81444407e-01\n",
      "  4.17992145e-01 6.70714855e-01 7.55861580e-01 7.54294574e-01\n",
      "  7.08891332e-01 7.92655706e-01 6.12720370e-01 4.34933603e-01\n",
      "  1.29981682e-01 3.25539336e-02 1.32823773e-02 5.20463567e-03\n",
      "  1.19914638e-03 1.63645588e-03 1.22721051e-03 6.89697335e-04\n",
      "  7.00429373e-04 5.55853592e-04 1.23637845e-03 3.11510940e-03\n",
      "  4.33909707e-03 8.04526079e-03 4.98858048e-03 5.01445541e-03\n",
      "  3.11621139e-03 8.53441656e-03 2.43895967e-02 4.56373803e-02\n",
      "  1.40258089e-01 3.84635240e-01 4.21880305e-01 2.77103364e-01\n",
      "  3.51690114e-01 7.26919293e-01 6.51224613e-01 3.04441929e-01\n",
      "  3.42834145e-02 1.54619273e-02 1.26334764e-02 5.03841741e-03\n",
      "  6.40770537e-04 4.56427486e-04 9.38828685e-04 5.71941957e-04\n",
      "  6.27539121e-04 5.86309237e-04 1.46245526e-03 3.43313767e-03\n",
      "  7.09267939e-03 7.87066482e-03 1.14216767e-02 4.07249061e-03\n",
      "  3.34401894e-03 7.33438181e-03 1.62009113e-02 3.65479030e-02\n",
      "  1.16956018e-01 9.83419120e-02 6.46346062e-02 3.52757424e-02\n",
      "  3.43749821e-01 6.61532223e-01 6.34086728e-01 1.72548994e-01\n",
      "  2.56857947e-02 1.32021448e-02 4.58317669e-03 1.89258170e-03\n",
      "  3.26642505e-04 3.58174468e-04 8.96306243e-04 9.27311659e-04\n",
      "  6.44992397e-04 9.30149865e-04 2.42193439e-03 7.06585869e-03\n",
      "  1.51041616e-02 1.36401718e-02 2.05596089e-02 5.44688758e-03\n",
      "  5.97800314e-03 5.46902558e-03 7.63102947e-03 2.01196559e-02\n",
      "  5.35214134e-02 2.45265961e-02 1.51935574e-02 3.80731076e-02\n",
      "  3.31601441e-01 8.08696568e-01 6.79048955e-01 1.18057847e-01\n",
      "  2.48681065e-02 1.07517540e-02 8.65183119e-03 2.33699079e-03\n",
      "  5.18525601e-04 6.13293028e-04 1.18940126e-03 9.42955492e-04\n",
      "  5.54091821e-04 1.38421776e-03 3.29497689e-03 9.53327585e-03\n",
      "  3.68133411e-02 7.45845735e-02 5.03889658e-02 4.00834866e-02\n",
      "  9.95797291e-03 6.52883993e-03 1.18912980e-02 1.14068529e-02\n",
      "  2.48711370e-02 6.01083413e-03 1.11041069e-02 5.05393930e-02\n",
      "  5.33333540e-01 8.81402016e-01 7.54668474e-01 1.90276802e-01\n",
      "  2.12453306e-02 9.16896854e-03 3.22516751e-03 2.09621014e-03\n",
      "  9.87199717e-04 5.17485256e-04 1.09252101e-03 9.64136911e-04\n",
      "  1.31875847e-03 9.69667453e-04 6.94471924e-03 2.71804631e-02\n",
      "  8.61353576e-02 1.82389945e-01 1.58322677e-01 6.28904402e-02\n",
      "  3.19776125e-02 3.11423279e-02 2.04962604e-02 1.02878502e-02\n",
      "  1.12754041e-02 1.47703849e-02 2.04856507e-02 1.08919084e-01\n",
      "  6.74854100e-01 9.11515474e-01 8.70106637e-01 1.45970181e-01\n",
      "  1.04086390e-02 1.69223396e-03 1.74717105e-03 1.03181228e-03\n",
      "  7.21951714e-04 8.56116356e-04 1.32351962e-03 4.28847939e-04\n",
      "  6.71297661e-04 8.02670431e-04 1.07181612e-02 5.39312847e-02\n",
      "  1.70807615e-01 2.99288273e-01 3.72849762e-01 2.96532780e-01\n",
      "  1.52353778e-01 6.02532513e-02 3.58114652e-02 1.89744327e-02\n",
      "  2.87378207e-02 2.09265221e-02 7.54114911e-02 5.51513553e-01\n",
      "  8.68047178e-01 9.31788743e-01 6.27522886e-01 4.06712815e-02\n",
      "  2.98023084e-03 6.39089674e-04 9.19187558e-04 4.66764439e-04\n",
      "  1.29898323e-03 9.62706283e-04 1.19140605e-03 6.07240188e-04\n",
      "  7.22679019e-04 5.47207252e-04 6.96992874e-03 1.04234576e-01\n",
      "  3.33972484e-01 5.63585281e-01 7.90408611e-01 8.20587635e-01\n",
      "  5.53338230e-01 2.34233871e-01 2.41111383e-01 1.19265392e-01\n",
      "  2.44957775e-01 1.29399255e-01 4.42929983e-01 7.68088400e-01\n",
      "  9.49152172e-01 7.65672386e-01 2.05958605e-01 5.28457388e-03\n",
      "  3.48098314e-04 3.13554279e-04 3.36257246e-04 4.96527704e-04\n",
      "  1.06652419e-03 2.11570063e-03 8.69873737e-04 4.56319365e-04\n",
      "  6.94062735e-04 3.59044730e-04 4.45982721e-03 8.53039175e-02\n",
      "  2.21641421e-01 5.96579909e-01 8.51778388e-01 9.49862003e-01\n",
      "  9.16589499e-01 8.43620658e-01 8.18695784e-01 7.30610788e-01\n",
      "  6.45327151e-01 6.51824594e-01 7.55462170e-01 8.42997789e-01\n",
      "  6.76012993e-01 2.74570763e-01 2.28876919e-02 2.30476120e-03\n",
      "  6.04408910e-04 4.92459512e-04 3.23216431e-04 4.29812178e-04\n",
      "  1.05952553e-03 8.31385958e-04 1.25688314e-03 8.07939272e-04\n",
      "  8.61798530e-04 7.79851631e-04 2.15193583e-03 2.14593485e-02\n",
      "  1.26423746e-01 4.58672315e-01 8.49158168e-01 9.67630208e-01\n",
      "  9.60691035e-01 9.75778103e-01 9.86976385e-01 9.04463291e-01\n",
      "  8.45741093e-01 8.07187140e-01 7.66734958e-01 4.54854459e-01\n",
      "  1.48908824e-01 8.38453770e-02 5.45658311e-03 1.49099831e-03\n",
      "  9.29115864e-04 6.32133917e-04 4.23157238e-04 8.06171622e-04\n",
      "  1.45914115e-03 1.27918331e-03 9.67542175e-04 7.41845870e-04\n",
      "  8.28034943e-04 6.71297370e-04 1.53371505e-03 4.02705232e-03\n",
      "  2.53148694e-02 2.31088534e-01 5.14122605e-01 6.44850194e-01\n",
      "  8.81784618e-01 9.46541131e-01 8.15801799e-01 5.59777200e-01\n",
      "  4.15036380e-01 4.41051126e-01 1.49446383e-01 8.36091191e-02\n",
      "  2.57424656e-02 1.59803424e-02 7.78454216e-03 2.15188088e-03\n",
      "  6.26978290e-04 3.72408103e-04 6.55442011e-04 1.16880483e-03\n",
      "  1.00391696e-03 6.77535485e-04 6.24129898e-04 8.44748283e-04\n",
      "  1.00112718e-03 7.27167062e-04 6.79130259e-04 9.53058130e-04\n",
      "  1.46624120e-03 9.47271101e-03 1.67444758e-02 4.05809358e-02\n",
      "  2.67179366e-02 1.39502846e-02 9.39360540e-03 6.21319655e-03\n",
      "  9.79981851e-03 5.33759501e-03 5.42073138e-03 2.35734484e-03\n",
      "  8.15938972e-03 7.21750595e-03 5.32187149e-03 7.33790686e-04\n",
      "  6.11351337e-04 4.42476769e-04 5.31752943e-04 8.94833065e-04\n",
      "  4.32393368e-04 7.62178504e-04 8.90355615e-04 5.89511299e-04\n",
      "  8.28035350e-04 9.33508622e-04 9.24228458e-04 8.47633230e-04\n",
      "  1.54437858e-03 2.55217822e-03 6.54244423e-03 3.64794862e-03\n",
      "  1.36907457e-03 1.74326997e-03 7.20622775e-04 8.28693330e-04\n",
      "  9.19982267e-04 4.39679250e-04 5.89636911e-04 7.97131739e-04\n",
      "  1.56331516e-03 1.91775756e-03 1.30387442e-03 6.31240138e-04\n",
      "  5.38633380e-04 5.89651812e-04 6.18214137e-04 5.79478336e-04\n",
      "  1.30447815e-03 7.04641687e-04 6.91727328e-04 1.16295589e-03\n",
      "  8.03582370e-04 8.28035350e-04 1.29800558e-03 5.77845203e-04\n",
      "  6.65169908e-04 7.75099965e-04 1.06209435e-03 1.23362115e-03\n",
      "  1.57294131e-03 1.85950007e-03 2.08071899e-03 1.67771534e-03\n",
      "  1.18442951e-03 1.36137335e-03 1.14371430e-03 1.27313694e-03\n",
      "  3.33110616e-03 3.69917252e-03 1.48991321e-03 1.19917654e-03\n",
      "  9.22780950e-04 5.80205640e-04 6.43907115e-04 6.34836033e-04\n",
      "  8.61798122e-04 8.70452030e-04 6.44992397e-04 8.53230595e-04]], shape=(1, 784), dtype=float32)\n"
     ]
    }
   ],
   "source": [
    "hh0_p = tf.nn.sigmoid(tf.matmul(sample_case, W) + hb)\n",
    "hh0_s = tf.round(hh0_p)\n",
    "\n",
    "print(\"Probability nodes in hidden layer:\" ,hh0_p)\n",
    "print(\"activated nodes in hidden layer:\" ,hh0_s)\n",
    "\n",
    "# reconstruct\n",
    "vv1_p = tf.nn.sigmoid(tf.matmul(hh0_s, tf.transpose(W)) + vb)\n",
    "\n",
    "print(vv1_p)\n",
    "#rec_prob = sess.run(vv1_p, feed_dict={ hh0_s: hh0_s_val, W: prv_w, vb: prv_vb})"
   ]
  },
  {
   "cell_type": "markdown",
   "metadata": {},
   "source": [
    "Here we plot the reconstructed image:\n"
   ]
  },
  {
   "cell_type": "code",
   "execution_count": 32,
   "metadata": {
    "tags": []
   },
   "outputs": [
    {
     "data": {
      "image/png": "[encoded data removed]",
      "text/plain": [
       "<Figure size 400x400 with 1 Axes>"
      ]
     },
     "metadata": {},
     "output_type": "display_data"
    }
   ],
   "source": [
    "img = Image.fromarray(tile_raster_images(X=vv1_p.numpy(), img_shape=(28, 28),tile_shape=(1, 1), tile_spacing=(1, 1)))\n",
    "plt.rcParams['figure.figsize'] = (4.0, 4.0)\n",
    "imgplot = plt.imshow(img)\n",
    "imgplot.set_cmap('gray') "
   ]
  },
  {
   "cell_type": "markdown",
   "metadata": {},
   "source": [
    "<hr>\n",
    "\n",
    "## Want to learn more?\n",
    "\n",
    "Also, you can use __Watson Studio__ to run these notebooks faster with bigger datasets.__Watson Studio__ is IBM’s leading cloud solution for data scientists, built by data scientists. With Jupyter notebooks, RStudio, Apache Spark and popular libraries pre-packaged in the cloud, __Watson Studio__ enables data scientists to collaborate on their projects without having to install anything. Join the fast-growing community of __Watson Studio__ users today with a free account at [Watson Studio](https://cocl.us/ML0120EN_DSX).This is the end of this lesson. Thank you for reading this notebook, and good luck on your studies.\n"
   ]
  },
  {
   "cell_type": "markdown",
   "metadata": {},
   "source": [
    "### Thanks for completing this lesson!\n",
    "\n",
    "Notebook created by: <a href = \"https://ca.linkedin.com/in/saeedaghabozorgi\">Saeed Aghabozorgi</a>\n",
    "\n",
    "Updated to TF 2.X by  <a href=\"https://ca.linkedin.com/in/nilmeier\"> Jerome Nilmeier</a><br />\n"
   ]
  },
  {
   "cell_type": "markdown",
   "metadata": {},
   "source": [
    "### References:\n",
    "https://en.wikipedia.org/wiki/Restricted_Boltzmann_machine  \n",
    "https://www.geeksforgeeks.org/deep-learning-tutorial/ \n",
    "http://www.cs.utoronto.ca/~hinton/absps/netflixICML.pdf<br>\n",
    "https://en.wikipedia.org/wiki/Restricted_Boltzmann_machine  \n"
   ]
  },
  {
   "cell_type": "markdown",
   "metadata": {},
   "source": [
    "<hr>\n",
    "\n",
    "Copyright &copy; 2018 [Cognitive Class](https://cocl.us/DX0108EN_CC). This notebook and its source code are released under the terms of the [MIT License](https://bigdatauniversity.com/mit-license/).\n"
   ]
  }
 ],
 "metadata": {
  "kernelspec": {
   "display_name": "Python",
   "language": "python",
   "name": "conda-env-python-py"
  },
  "language_info": {
   "codemirror_mode": {
    "name": "ipython",
    "version": 3
   },
   "file_extension": ".py",
   "mimetype": "text/x-python",
   "name": "python",
   "nbconvert_exporter": "python",
   "pygments_lexer": "ipython3",
   "version": "3.7.12"
  },
  "prev_pub_hash": "f4c64de5fb70d125596834382afe1f6deeca1efca05c05d070b1e0d77c81932b"
 },
 "nbformat": 4,
 "nbformat_minor": 4
}
